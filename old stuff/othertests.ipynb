{
 "cells": [
  {
   "cell_type": "code",
   "execution_count": 1,
   "metadata": {},
   "outputs": [],
   "source": [
    "#mil python\n",
    "# install dependencies \n",
    "# clean up the fucking code\n",
    "\n",
    "# Initialization\n",
    "import numpy as np\n",
    "import matplotlib.pyplot as pl\n",
    "from scipy import interpolate\n",
    "from scipy import stats\n",
    "import healpy as hp  # NOTE: you can neglect warning about version mismatch in CFITSIO if necessary \n",
    "\n",
    "N_side = 2048      # Both maps will have this N_side. Healpix map has 12 * N_side**2 pixels\n",
    "\n",
    "import numpy as np\n",
    "import healpy as hp\n",
    "import matplotlib.pyplot as plt\n",
    "from astropy.coordinates import SkyCoord\n",
    "from astropy.io import fits\n",
    "from astropy import units as u\n",
    "\n",
    "import pandas as pd\n",
    "%matplotlib inline"
   ]
  },
  {
   "cell_type": "code",
   "execution_count": null,
   "metadata": {},
   "outputs": [],
   "source": [
    "# maps maps maps maps\n",
    "\n",
    "# Planck 2018 CIB map: http://pla.esac.esa.int/pla/aio/product-action?MAP.MAP_ID=COM_CompMap_CIB-GNILC-F545_2048_R2.00.fits\n",
    "CIB_map = hp.read_map('COM_CompMap_CIB-GNILC-F545_2048_R2.00.fits')        # read CIB map\n",
    "CIB_mask = hp.read_map('/Users/sophiarisin/Dropbox/Mac (2)/Downloads/cib_mask.fits')                                    # read CIB mask\n",
    "\n",
    "CIB_masked = hp.ma(CIB_map)\n",
    "CIB_masked.mask = np.logical_not(CIB_mask)\n",
    "hp.mollview(CIB_masked)"
   ]
  },
  {
   "cell_type": "code",
   "execution_count": null,
   "metadata": {},
   "outputs": [],
   "source": [
    "def read_nobs_pyfits(filename):\n",
    "    with fits.open(filename, memmap=True) as hdul:\n",
    "        data = (hdul[1].data)\n",
    "        return np.shape(data)[0], hdul[1].columns.names\n",
    "\n",
    "def read_test_pyfits(filename, colname):\n",
    "    with fits.open(filename, memmap=True) as hdul:\n",
    "        data = (hdul[1].data[colname])\n",
    "        return data.copy()\n",
    "\n",
    "def get_BOSS_data(gal):\n",
    "    nObs, cols = read_nobs_pyfits(gal)\n",
    "    colnames = [x for x in cols if x in ['ID', 'RA', 'DEC', 'Z', 'NZ', 'BOSS_SPECOBJ_ID',\n",
    "                                         'BOSS_TARGET1', 'BOSS_TARGET2', 'EBOSS_TARGET0', 'ZOFFSET', 'TARGETOBJID',\n",
    "                                         'OBJID', 'PLUG_RA', 'PLUG_DEC', 'Z']]\n",
    "    ncols = len(colnames)\n",
    "    myGalaxy = pd.DataFrame(data=np.zeros([nObs, ncols]), columns=colnames)\n",
    "    for rowname in myGalaxy.columns:\n",
    "        myGalaxy[rowname] = read_test_pyfits(gal, rowname).byteswap().newbyteorder()\n",
    "    print(myGalaxy.columns)\n",
    "    myGalaxy = myGalaxy.sort_values(by=['Z'])\n",
    "    return myGalaxy\n",
    "\n",
    "\n",
    "\n",
    "boss_catalog_path_s = 'galaxy_DR12v5_CMASS_South.fits'\n",
    "boss_catalog_path_n = 'galaxy_DR12v5_CMASS_North.fits'\n",
    "# Load the relevant entries of the catalog (we will be mostly concerned with RA, DEC, and redshift)\n",
    "boss_catalog_s = get_BOSS_data(boss_catalog_path_s)\n",
    "boss_catalog_n = get_BOSS_data(boss_catalog_path_n)\n",
    "\n",
    "# Load the relevant entries of the catalog (we will be mostly concerned with RA, DEC, and redshift)\n",
    "datas = get_BOSS_data(boss_catalog_path_s)\n",
    "datan = get_BOSS_data(boss_catalog_path_n)\n",
    "datas = pd.DataFrame(datas)\n",
    "datasmodd = pd.DataFrame(datas[(datas.Z > .4) * (datas.Z < .5)])\n",
    "datanmodd = pd.DataFrame(datan[(datan.Z > .4) * (datan.Z < .5)])\n",
    "\n",
    "modtot = pd.concat([datanmodd,datasmodd])\n",
    "modtot"
   ]
  }
 ],
 "metadata": {
  "kernelspec": {
   "display_name": "Python 3",
   "language": "python",
   "name": "python3"
  },
  "language_info": {
   "codemirror_mode": {
    "name": "ipython",
    "version": 3
   },
   "file_extension": ".py",
   "mimetype": "text/x-python",
   "name": "python",
   "nbconvert_exporter": "python",
   "pygments_lexer": "ipython3",
   "version": "3.9.12"
  },
  "orig_nbformat": 4
 },
 "nbformat": 4,
 "nbformat_minor": 2
}
