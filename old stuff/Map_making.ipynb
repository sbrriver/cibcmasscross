{
 "cells": [
  {
   "cell_type": "code",
   "execution_count": 24,
   "metadata": {
    "ExecuteTime": {
     "end_time": "2023-02-09T17:26:25.449991Z",
     "start_time": "2023-02-09T17:26:19.686839Z"
    }
   },
   "outputs": [],
   "source": [
    "import numpy as np\n",
    "import healpy as hp\n",
    "import matplotlib.pyplot as plt\n",
    "from astropy.coordinates import SkyCoord\n",
    "from astropy.io import fits\n",
    "from astropy import units as u\n",
    "\n",
    "import pandas as pd\n",
    "%matplotlib inline"
   ]
  },
  {
   "cell_type": "code",
   "execution_count": 26,
   "metadata": {},
   "outputs": [
    {
     "name": "stdout",
     "output_type": "stream",
     "text": [
      "Index(['RA', 'DEC', 'ID', 'Z', 'NZ'], dtype='object')\n"
     ]
    },
    {
     "data": {
      "text/plain": [
       "Text(0.5, 0, '$z$')"
      ]
     },
     "execution_count": 26,
     "metadata": {},
     "output_type": "execute_result"
    },
    {
     "data": {
      "image/png": "[encoded data removed]",
      "text/plain": [
       "<Figure size 432x288 with 1 Axes>"
      ]
     },
     "metadata": {
      "needs_background": "light"
     },
     "output_type": "display_data"
    }
   ],
   "source": [
    "from astropy.io import fits\n",
    "import pandas as pd\n",
    "import numpy as np\n",
    "import matplotlib.pyplot as pl\n",
    "\n",
    "def read_nobs_pyfits(filename):\n",
    "    with fits.open(filename, memmap=True) as hdul:\n",
    "        data = (hdul[1].data)\n",
    "        return np.shape(data)[0], hdul[1].columns.names\n",
    "\n",
    "def read_test_pyfits(filename, colname):\n",
    "    with fits.open(filename, memmap=True) as hdul:\n",
    "        data = (hdul[1].data[colname])\n",
    "        return data.copy()\n",
    "\n",
    "def get_BOSS_data(gal):\n",
    "    nObs, cols = read_nobs_pyfits(gal)\n",
    "    colnames = [x for x in cols if x in ['ID', 'RA', 'DEC', 'Z', 'NZ', 'BOSS_SPECOBJ_ID',\n",
    "                                         'BOSS_TARGET1', 'BOSS_TARGET2', 'EBOSS_TARGET0', 'ZOFFSET', 'TARGETOBJID',\n",
    "                                         'OBJID', 'PLUG_RA', 'PLUG_DEC', 'Z']]\n",
    "    ncols = len(colnames)\n",
    "    myGalaxy = pd.DataFrame(data=np.zeros([nObs, ncols]), columns=colnames)\n",
    "    for rowname in myGalaxy.columns:\n",
    "        myGalaxy[rowname] = read_test_pyfits(gal, rowname).byteswap().newbyteorder()\n",
    "    print(myGalaxy.columns)\n",
    "    myGalaxy = myGalaxy.sort_values(by=['Z'])\n",
    "    return myGalaxy\n",
    "\n",
    "\n",
    "\n",
    "# Load the relevant entries of the catalog (we will be mostly concerned with RA, DEC, and redshift)\n",
    "boss_catalog = get_BOSS_data(boss_catalog_path)\n"
   ]
  },
  {
   "cell_type": "code",
   "execution_count": 29,
   "metadata": {
    "ExecuteTime": {
     "end_time": "2022-10-27T18:20:52.365921Z",
     "start_time": "2022-10-27T18:20:51.334553Z"
    }
   },
   "outputs": [
    {
     "name": "stdout",
     "output_type": "stream",
     "text": [
      "Index(['RA', 'DEC', 'ID', 'Z', 'NZ'], dtype='object')\n"
     ]
    },
    {
     "data": {
      "text/html": [
       "<div>\n",
       "<style scoped>\n",
       "    .dataframe tbody tr th:only-of-type {\n",
       "        vertical-align: middle;\n",
       "    }\n",
       "\n",
       "    .dataframe tbody tr th {\n",
       "        vertical-align: top;\n",
       "    }\n",
       "\n",
       "    .dataframe thead th {\n",
       "        text-align: right;\n",
       "    }\n",
       "</style>\n",
       "<table border=\"1\" class=\"dataframe\">\n",
       "  <thead>\n",
       "    <tr style=\"text-align: right;\">\n",
       "      <th></th>\n",
       "      <th>RA</th>\n",
       "      <th>DEC</th>\n",
       "      <th>ID</th>\n",
       "      <th>Z</th>\n",
       "      <th>NZ</th>\n",
       "    </tr>\n",
       "  </thead>\n",
       "  <tbody>\n",
       "    <tr>\n",
       "      <th>261519</th>\n",
       "      <td>122.745442</td>\n",
       "      <td>56.429233</td>\n",
       "      <td>1118</td>\n",
       "      <td>-0.011447</td>\n",
       "      <td>0.000000e+00</td>\n",
       "    </tr>\n",
       "    <tr>\n",
       "      <th>518946</th>\n",
       "      <td>148.722344</td>\n",
       "      <td>47.536602</td>\n",
       "      <td>36</td>\n",
       "      <td>-0.009278</td>\n",
       "      <td>0.000000e+00</td>\n",
       "    </tr>\n",
       "    <tr>\n",
       "      <th>161497</th>\n",
       "      <td>227.733313</td>\n",
       "      <td>33.839094</td>\n",
       "      <td>596</td>\n",
       "      <td>-0.007680</td>\n",
       "      <td>0.000000e+00</td>\n",
       "    </tr>\n",
       "    <tr>\n",
       "      <th>236230</th>\n",
       "      <td>260.933196</td>\n",
       "      <td>31.721466</td>\n",
       "      <td>468</td>\n",
       "      <td>-0.000668</td>\n",
       "      <td>0.000000e+00</td>\n",
       "    </tr>\n",
       "    <tr>\n",
       "      <th>246336</th>\n",
       "      <td>240.993446</td>\n",
       "      <td>33.791454</td>\n",
       "      <td>113</td>\n",
       "      <td>-0.000356</td>\n",
       "      <td>0.000000e+00</td>\n",
       "    </tr>\n",
       "    <tr>\n",
       "      <th>...</th>\n",
       "      <td>...</td>\n",
       "      <td>...</td>\n",
       "      <td>...</td>\n",
       "      <td>...</td>\n",
       "      <td>...</td>\n",
       "    </tr>\n",
       "    <tr>\n",
       "      <th>277736</th>\n",
       "      <td>237.752120</td>\n",
       "      <td>10.147784</td>\n",
       "      <td>629</td>\n",
       "      <td>1.000886</td>\n",
       "      <td>1.871761e-07</td>\n",
       "    </tr>\n",
       "    <tr>\n",
       "      <th>593579</th>\n",
       "      <td>211.376520</td>\n",
       "      <td>53.291920</td>\n",
       "      <td>78</td>\n",
       "      <td>1.002166</td>\n",
       "      <td>1.006226e-07</td>\n",
       "    </tr>\n",
       "    <tr>\n",
       "      <th>349585</th>\n",
       "      <td>206.707362</td>\n",
       "      <td>15.513130</td>\n",
       "      <td>179</td>\n",
       "      <td>1.002166</td>\n",
       "      <td>1.006226e-07</td>\n",
       "    </tr>\n",
       "    <tr>\n",
       "      <th>184815</th>\n",
       "      <td>130.842201</td>\n",
       "      <td>1.015843</td>\n",
       "      <td>555</td>\n",
       "      <td>1.002166</td>\n",
       "      <td>1.006226e-07</td>\n",
       "    </tr>\n",
       "    <tr>\n",
       "      <th>244950</th>\n",
       "      <td>236.030861</td>\n",
       "      <td>34.683688</td>\n",
       "      <td>776</td>\n",
       "      <td>1.002166</td>\n",
       "      <td>1.006226e-07</td>\n",
       "    </tr>\n",
       "  </tbody>\n",
       "</table>\n",
       "<p>618806 rows × 5 columns</p>\n",
       "</div>"
      ],
      "text/plain": [
       "                RA        DEC    ID         Z            NZ\n",
       "261519  122.745442  56.429233  1118 -0.011447  0.000000e+00\n",
       "518946  148.722344  47.536602    36 -0.009278  0.000000e+00\n",
       "161497  227.733313  33.839094   596 -0.007680  0.000000e+00\n",
       "236230  260.933196  31.721466   468 -0.000668  0.000000e+00\n",
       "246336  240.993446  33.791454   113 -0.000356  0.000000e+00\n",
       "...            ...        ...   ...       ...           ...\n",
       "277736  237.752120  10.147784   629  1.000886  1.871761e-07\n",
       "593579  211.376520  53.291920    78  1.002166  1.006226e-07\n",
       "349585  206.707362  15.513130   179  1.002166  1.006226e-07\n",
       "184815  130.842201   1.015843   555  1.002166  1.006226e-07\n",
       "244950  236.030861  34.683688   776  1.002166  1.006226e-07\n",
       "\n",
       "[618806 rows x 5 columns]"
      ]
     },
     "execution_count": 29,
     "metadata": {},
     "output_type": "execute_result"
    }
   ],
   "source": [
    "catalog_path = 'galaxy_DR12v5_CMASS_North.fits'  # use the actual fits file reading w astropy\n",
    "\n",
    "boss_catalog_path = 'galaxy_DR12v5_CMASS_North.fits'\n",
    "\n",
    "# Load the relevant entries of the catalog (we will be mostly concerned with RA, DEC, and redshift)\n",
    "data = get_BOSS_data(boss_catalog_path)\n",
    "\n",
    "data\n",
    "\n",
    "# im trying to get the shit from dec, ra is working idfk why dec isnt "
   ]
  },
  {
   "cell_type": "code",
   "execution_count": 36,
   "metadata": {},
   "outputs": [
    {
     "name": "stdout",
     "output_type": "stream",
     "text": [
      "261519    122.745442\n",
      "518946    148.722344\n",
      "161497    227.733313\n",
      "236230    260.933196\n",
      "246336    240.993446\n",
      "             ...    \n",
      "277736    237.752120\n",
      "593579    211.376520\n",
      "349585    206.707362\n",
      "184815    130.842201\n",
      "244950    236.030861\n",
      "Name: RA, Length: 618806, dtype: float64\n"
     ]
    }
   ],
   "source": [
    "nside = 2048\n",
    "\n",
    "print(data['RA'])\n",
    "\n"
   ]
  },
  {
   "cell_type": "code",
   "execution_count": 37,
   "metadata": {},
   "outputs": [
    {
     "name": "stderr",
     "output_type": "stream",
     "text": [
      "/var/folders/kk/rnqql9614nlc_8x0td93qcf40000gn/T/ipykernel_72462/1107951859.py:6: DeprecationWarning: `np.float` is a deprecated alias for the builtin `float`. To silence this warning, use `float` by itself. Doing this will not modify any behavior and is safe. If you specifically wanted the numpy scalar type, use `np.float64` here.\n",
      "Deprecated in NumPy 1.20; for more details and guidance: https://numpy.org/devdocs/release/1.20.0-notes.html#deprecations\n",
      "  gal_hpmap = np.zeros(npix, dtype=np.float)\n"
     ]
    },
    {
     "data": {
      "image/png": "[encoded data removed]",
      "text/plain": [
       "<Figure size 612x388.8 with 2 Axes>"
      ]
     },
     "metadata": {
      "needs_background": "light"
     },
     "output_type": "display_data"
    }
   ],
   "source": [
    "npix = hp.nside2npix(nside)\n",
    "# Go from HEALPix coordinates to indices, implicitly converting to galactic coordinates\n",
    "c_icrs = SkyCoord(ra=data['RA']*u.degree, dec=data['DEC']*u.degree, frame='icrs')\n",
    "indices = hp.ang2pix(nside, c_icrs.galactic.l.value, c_icrs.galactic.b.value, lonlat=True)\n",
    "# Initate the map and fill it with the values\n",
    "gal_hpmap = np.zeros(npix, dtype=np.float)\n",
    "# Assign sources to pixels\n",
    "np.add.at(gal_hpmap, indices, 1)\n",
    "\n",
    "hp.mollview(gal_hpmap)"
   ]
  },
  {
   "cell_type": "code",
   "execution_count": 42,
   "metadata": {
    "ExecuteTime": {
     "end_time": "2022-10-27T18:21:03.676161Z",
     "start_time": "2022-10-27T18:20:54.379839Z"
    }
   },
   "outputs": [
    {
     "ename": "AttributeError",
     "evalue": "'numpy.ndarray' object has no attribute 'writeto'",
     "output_type": "error",
     "traceback": [
      "\u001b[0;31m---------------------------------------------------------------------------\u001b[0m",
      "\u001b[0;31mAttributeError\u001b[0m                            Traceback (most recent call last)",
      "\u001b[1;32m/Users/sophiarisin/Dropbox/Mac (2)/Desktop/coding/astro/Map_making.ipynb Cell 6\u001b[0m in \u001b[0;36m<cell line: 24>\u001b[0;34m()\u001b[0m\n\u001b[1;32m     <a href='vscode-notebook-cell:/Users/sophiarisin/Dropbox/Mac%20%282%29/Desktop/coding/astro/Map_making.ipynb#W2sZmlsZQ%3D%3D?line=19'>20</a>\u001b[0m hp\u001b[39m.\u001b[39mmollview(gal_dn)\n\u001b[1;32m     <a href='vscode-notebook-cell:/Users/sophiarisin/Dropbox/Mac%20%282%29/Desktop/coding/astro/Map_making.ipynb#W2sZmlsZQ%3D%3D?line=21'>22</a>\u001b[0m \u001b[39mfrom\u001b[39;00m \u001b[39mastropy\u001b[39;00m\u001b[39m.\u001b[39;00m\u001b[39mio\u001b[39;00m \u001b[39mimport\u001b[39;00m fits\n\u001b[0;32m---> <a href='vscode-notebook-cell:/Users/sophiarisin/Dropbox/Mac%20%282%29/Desktop/coding/astro/Map_making.ipynb#W2sZmlsZQ%3D%3D?line=23'>24</a>\u001b[0m gal_dn\u001b[39m.\u001b[39;49mwriteto(\u001b[39m'\u001b[39m\u001b[39mnew_north.fits\u001b[39m\u001b[39m'\u001b[39m, overwrite\u001b[39m=\u001b[39m\u001b[39mTrue\u001b[39;00m)\n",
      "\u001b[0;31mAttributeError\u001b[0m: 'numpy.ndarray' object has no attribute 'writeto'"
     ]
    },
    {
     "data": {
      "image/png": "[encoded data removed]",
      "text/plain": [
       "<Figure size 612x388.8 with 2 Axes>"
      ]
     },
     "metadata": {
      "needs_background": "light"
     },
     "output_type": "display_data"
    }
   ],
   "source": [
    "def get_dn_from_map(gal_hpmap):\n",
    "    ''' Convert a galaxy number map obtained using get_map_from_catalog() to one of fractional\n",
    "        overdensity. Return also the mask\n",
    "    ''' \n",
    "    #Total number counts. Should convert to delta_n/n. Make a mask first!\n",
    "    gal_downgraded = hp.ud_grade(gal_hpmap, 64)\n",
    "    gal_mask = np.zeros(len(gal_downgraded))\n",
    "    gal_mask[(gal_downgraded > 0)] = 1\n",
    "    nside = hp.npix2nside(len(gal_hpmap))\n",
    "    gal_mask = hp.ud_grade(gal_mask, nside) # bring it back to the original resolution\n",
    "    \n",
    "    # Convert to delta_n / n (fractional fluctuations: this is what we can predict from theory)\n",
    "    mean_gal = np.sum(gal_hpmap * gal_mask) / np.sum(gal_mask)\n",
    "    gal_masked_dn = (gal_hpmap * gal_mask) / mean_gal - 1.\n",
    "    gal_masked_dn = gal_mask * gal_masked_dn\n",
    "    return gal_masked_dn, gal_mask\n",
    "\n",
    "gal_dn, gal_mask = get_dn_from_map(gal_hpmap)\n",
    "\n",
    "hp.mollview(gal_dn)\n",
    "\n"
   ]
  },
  {
   "cell_type": "code",
   "execution_count": null,
   "metadata": {},
   "outputs": [],
   "source": []
  }
 ],
 "metadata": {
  "kernelspec": {
   "display_name": "Python 3",
   "language": "python",
   "name": "python3"
  },
  "language_info": {
   "codemirror_mode": {
    "name": "ipython",
    "version": 3
   },
   "file_extension": ".py",
   "mimetype": "text/x-python",
   "name": "python",
   "nbconvert_exporter": "python",
   "pygments_lexer": "ipython3",
   "version": "3.8.9"
  },
  "toc": {
   "base_numbering": 1,
   "nav_menu": {},
   "number_sections": true,
   "sideBar": true,
   "skip_h1_title": false,
   "title_cell": "Table of Contents",
   "title_sidebar": "Contents",
   "toc_cell": false,
   "toc_position": {},
   "toc_section_display": true,
   "toc_window_display": false
  },
  "vscode": {
   "interpreter": {
    "hash": "31f2aee4e71d21fbe5cf8b01ff0e069b9275f58929596ceb00d14d90e3e16cd6"
   }
  }
 },
 "nbformat": 4,
 "nbformat_minor": 4
}
