{
 "cells": [
  {
   "cell_type": "code",
   "execution_count": 1,
   "id": "f898bc3e-79cb-4b8b-ad3a-a466f7f7b87b",
   "metadata": {
    "tags": []
   },
   "outputs": [],
   "source": [
    "# so basic idea, use the sampler to generate potenital points to explore\n",
    "# then eval cig_mod at those points\n",
    "# that is what an mcmc is LOL"
   ]
  },
  {
   "cell_type": "code",
   "execution_count": 37,
   "id": "10b0d7fe-ed6c-43b6-b228-9dbeff74e1f8",
   "metadata": {
    "tags": []
   },
   "outputs": [],
   "source": [
    "import numpy as np\n",
    "import emcee\n",
    "import matplotlib.pyplot as plt\n",
    "import pandas as pd\n",
    "import scipy.optimize as scp"
   ]
  },
  {
   "cell_type": "code",
   "execution_count": 38,
   "id": "5b2968e7-aef0-453b-90f5-39314b027322",
   "metadata": {
    "tags": []
   },
   "outputs": [],
   "source": [
    "import numpy as np\n",
    "from scipy import interpolate\n",
    "from scipy import stats\n",
    "import healpy as hp  # NOTE: you can neglect warning about version mismatch in CFITSIO if necessary \n",
    "\n",
    "N_side = 2048      # Both maps will have this N_side. Healpix map has 12 * N_side**2 pixels\n",
    "\n",
    "from astropy.coordinates import SkyCoord\n",
    "from astropy.io import fits\n",
    "from astropy import units as u\n",
    "\n",
    "import pandas as pd\n",
    "\n",
    "import emcee\n",
    "\n",
    "import matplotlib.pyplot as plt\n",
    "import os, sys, shutil\n",
    "import random\n",
    "import sklearn.metrics as slm\n",
    "\n",
    "import corner\n",
    "from scipy.interpolate import interp1d\n",
    "%matplotlib inline\n",
    "\n",
    "pkdir = \"/pscratch/sd/s/sbrisin/boss_cib_cmass/cibcmass/hmvec\"\n",
    "sys.path.insert(0, pkdir)\n",
    "# Import hmvec as hm\n",
    "from hmvec import hmvec as hm"
   ]
  },
  {
   "cell_type": "code",
   "execution_count": 39,
   "id": "7b31b11a-3f83-4ebb-95aa-79db3c52b63c",
   "metadata": {
    "tags": []
   },
   "outputs": [],
   "source": [
    "# initalize model etc etc\n",
    "# we want our values for each, arbiratily lets explore between Log_m(eff) of 10 to 20 and L_0 of 1e-7 to 9e-7 \n",
    "# just for shits and gigs\n",
    "# p0,x the x is the burn in which gives it space to explore the parameter space a lil bit "
   ]
  },
  {
   "cell_type": "code",
   "execution_count": 62,
   "id": "c90a0238-d45d-4f09-b420-b04e401f22ca",
   "metadata": {},
   "outputs": [],
   "source": [
    "def theory(theta):\n",
    "    x, y = theta\n",
    "    '''\n",
    "    x is Log M_eff\n",
    "    y is L0\n",
    "    this function takes in theta and returns an array of the C_ls for galaxy and the CIB\n",
    "    at the center of the given redshift bins\n",
    "    the number of elements must match the number of elements in the data\n",
    "    this function is a big big big function but takes in, l range, theta, number of bins\n",
    "    and returns the c_l gg, cl gi, cov, cov inverse, yea\n",
    "    \n",
    "    gdndz, and zs come from the eBOSS galaxy catelogue\n",
    "    requires: hcos, hmvec\n",
    "    be sure to run this per each redshift bin\n",
    "    this is specific the version to run for the mcmc <3\n",
    "    '''\n",
    "\n",
    "    ells = np.array([370,510,650,790,930])\n",
    "    cib_freq = 545 * 1e9\n",
    "\n",
    "\n",
    "    zs = np.linspace(.4, .5, 10) # make this variable\n",
    "    ms = np.geomspace(1e10, 1e17, 20) # revisit the webb sky, \n",
    "    #lower mass limit and see if the disagreement goes away \n",
    "    ks = np.geomspace(1e-4, 100, 100)\n",
    "\n",
    "    hcos = hm.HaloModel(zs, ks, ms=ms)\n",
    "    hcos.set_cibParams('vierro')\n",
    "\n",
    "        # a and b are the z range\n",
    "    hcos.cib_params['alpha'] = 0.2\n",
    "    hcos.cib_params['beta'] = 1.6\n",
    "    hcos.cib_params['gamma'] = 1.7  # not in Viero, so using Planck13\n",
    "    hcos.cib_params['delta'] = 2.4\n",
    "    hcos.cib_params['Td_o'] = 20.7\n",
    "    hcos.cib_params['logM_eff'] = x\n",
    "    hcos.cib_params['var'] = 0.3\n",
    "    hcos.cib_params['L_o'] = y\n",
    "    hcos.add_hod(name=\"CMASS\", mthresh=10**12 + zs*0.)\n",
    "        \n",
    "    # this is for the c_gg, make these inputs\n",
    "    gdndz = np.array([3091.0, 4697.0,7307.0,11655.0,18705.0,25476.0,\t31238.0,37006.0\t,40371.0,\t43370.0])\n",
    "    zs = np.array([0.40000978,0.41000876,0.42000774,0.4300067,0.4400057,0.45000467,0.46000364,0.47000262,0.4800016,0.49000058])\n",
    "\n",
    "    '''Pgg_1h = hcos.get_power_1halo('CMASS', 'CMASS', nu_obs=np.array([cib_freq]))\n",
    "    Pgg_2h = hcos.get_power_2halo('CMASS', 'CMASS', nu_obs=np.array([cib_freq]))\n",
    "\n",
    "    Cl_gg_1h = hcos.C_gg(ells, hcos.zs, hcos.ks, Pgg_1h, gzs=zs, gdndz=gdndz)\n",
    "    Cl_gg_2h = hcos.C_gg(ells, hcos.zs, hcos.ks, Pgg_2h, gzs=zs, gdndz=gdndz)\n",
    "    tot_gg = Cl_gg_1h + Cl_gg_2h # add the halos together '''\n",
    "    # for the cl gi\n",
    "    PgI_1h = hcos.get_power_1halo('CMASS', 'cib', nu_obs=np.array([cib_freq]))\n",
    "    PgI_2h = hcos.get_power_2halo('CMASS', 'cib', nu_obs=np.array([cib_freq]))\n",
    "\n",
    "    Cl_gI_1h = hcos.C_gI(ells, hcos.zs, hcos.ks, PgI_1h, gzs=zs, gdndz= gdndz)\n",
    "    Cl_gI_2h = hcos.C_gI(ells, hcos.zs, hcos.ks, PgI_2h, gzs=zs, gdndz= gdndz)\n",
    "    \n",
    "    # need to end up with one vector thats c_gi for each l bin, c_gg for each l bin\n",
    "    tot_gi = Cl_gI_1h + Cl_gI_2h\n",
    "    print(tot_gi)\n",
    "    #370.0,510.0,650.0,790.0, 930.0        \n",
    "    return np.array(tot_gi)"
   ]
  },
  {
   "cell_type": "code",
   "execution_count": 5,
   "id": "ddc9a3db-ae5f-4883-bc5c-cd9ae1c46646",
   "metadata": {
    "tags": []
   },
   "outputs": [
    {
     "ename": "NameError",
     "evalue": "name 'dat' is not defined",
     "output_type": "error",
     "traceback": [
      "\u001b[0;31m---------------------------------------------------------------------------\u001b[0m",
      "\u001b[0;31mNameError\u001b[0m                                 Traceback (most recent call last)",
      "\u001b[0;32m/tmp/ipykernel_826780/3227859451.py\u001b[0m in \u001b[0;36m<module>\u001b[0;34m\u001b[0m\n\u001b[1;32m      1\u001b[0m \u001b[0mplt\u001b[0m\u001b[0;34m.\u001b[0m\u001b[0mscatter\u001b[0m\u001b[0;34m(\u001b[0m\u001b[0;34m[\u001b[0m\u001b[0;36m370\u001b[0m\u001b[0;34m,\u001b[0m\u001b[0;36m510\u001b[0m\u001b[0;34m,\u001b[0m\u001b[0;36m650\u001b[0m\u001b[0;34m,\u001b[0m\u001b[0;36m790\u001b[0m\u001b[0;34m,\u001b[0m\u001b[0;36m930\u001b[0m\u001b[0;34m]\u001b[0m\u001b[0;34m,\u001b[0m \u001b[0mtheory\u001b[0m\u001b[0;34m(\u001b[0m\u001b[0;34m[\u001b[0m\u001b[0;34m-\u001b[0m\u001b[0;36m3.843e+02\u001b[0m\u001b[0;34m,\u001b[0m\u001b[0;34m-\u001b[0m\u001b[0;36m1.441e-34\u001b[0m\u001b[0;34m]\u001b[0m\u001b[0;34m)\u001b[0m\u001b[0;34m)\u001b[0m\u001b[0;34m\u001b[0m\u001b[0;34m\u001b[0m\u001b[0m\n\u001b[1;32m      2\u001b[0m \u001b[0;34m\u001b[0m\u001b[0m\n\u001b[0;32m----> 3\u001b[0;31m \u001b[0mplt\u001b[0m\u001b[0;34m.\u001b[0m\u001b[0mscatter\u001b[0m\u001b[0;34m(\u001b[0m\u001b[0;34m[\u001b[0m\u001b[0;36m370\u001b[0m\u001b[0;34m,\u001b[0m\u001b[0;36m510\u001b[0m\u001b[0;34m,\u001b[0m\u001b[0;36m650\u001b[0m\u001b[0;34m,\u001b[0m\u001b[0;36m790\u001b[0m\u001b[0;34m,\u001b[0m\u001b[0;36m930\u001b[0m\u001b[0;34m]\u001b[0m\u001b[0;34m,\u001b[0m \u001b[0mdat\u001b[0m\u001b[0;34m)\u001b[0m\u001b[0;34m\u001b[0m\u001b[0;34m\u001b[0m\u001b[0m\n\u001b[0m\u001b[1;32m      4\u001b[0m \u001b[0;34m\u001b[0m\u001b[0m\n",
      "\u001b[0;31mNameError\u001b[0m: name 'dat' is not defined"
     ]
    },
    {
     "data": {
      "image/png": "[encoded data removed]",
      "text/plain": [
       "<Figure size 432x288 with 1 Axes>"
      ]
     },
     "metadata": {
      "needs_background": "light"
     },
     "output_type": "display_data"
    }
   ],
   "source": [
    "plt.scatter([370,510,650,790,930], theory([-3.843e+02,-1.441e-34]))\n",
    "\n",
    "plt.scatter([370,510,650,790,930], dat)\n",
    "\n"
   ]
  },
  {
   "cell_type": "code",
   "execution_count": 41,
   "id": "5675071a-ed9e-4ff8-9c17-4979ac97ef8c",
   "metadata": {
    "tags": []
   },
   "outputs": [],
   "source": [
    "binnedvar = np.array([1.89627266e-15, 8.77247382e-16, 3.96679922e-16, 2.41161963e-16,\n",
    "       1.54683514e-16]) # this is from a different no|tebook but till i can get it nice AAA"
   ]
  },
  {
   "cell_type": "code",
   "execution_count": 42,
   "id": "0fa19b7b-e089-493e-91ba-e92c151af806",
   "metadata": {
    "tags": []
   },
   "outputs": [],
   "source": [
    "dat = np.array([1.506013e-08, 1.593685e-08,1.071126e-08, 1.097310e-08, 5.175340e-09]) # this is the data\n",
    "cov = np.diag(binnedvar)\n",
    "\n",
    "# this is your covariance matrix\n",
    "cinv = np.linalg.inv(cov) # inverse covariance matrix"
   ]
  },
  {
   "cell_type": "code",
   "execution_count": 73,
   "id": "6ca121e8-ceae-4539-9d5e-fe95ed4b6646",
   "metadata": {},
   "outputs": [],
   "source": [
    "def model(theta, dat = dat):\n",
    "    x,y =  theta \n",
    "    return theory(theta)\n",
    "def lnprior(theta):\n",
    "    x,y =  theta \n",
    "    return 0.0\n",
    "def lnlike(theta,cinv,cov,dat = dat):\n",
    "    thy = theory(theta) # this works dimensionally\n",
    "    diff = thy-dat #model - data \n",
    "    return -0.5* np.dot(diff,np.dot(cinv,diff))#/np.sqrt(np.linalg.det(2*np.pi*cov))\n",
    "def lnprob(theta):\n",
    "    x,y = theta\n",
    "    lp = lnlike(theta,cinv,cov)\n",
    "    if lp == np.inf:\n",
    "        return np.inf\n",
    "    elif lp == -np.inf:\n",
    "        return -np.inf\n",
    "    elif abs(lp) < 100:\n",
    "        return lp + lnprior(theta)\n",
    "    else:\n",
    "        return print('AAAAAA')"
   ]
  },
  {
   "cell_type": "code",
   "execution_count": 85,
   "id": "52452cc5-dc59-4c4c-a97c-7c908d2b6e19",
   "metadata": {},
   "outputs": [],
   "source": [
    "x = np.linspace(2e-8,2e-5,2)\n",
    "y= np.linspace(1e30,1e32,2)\n",
    "ells = np.array([370,510,650,790,930])"
   ]
  },
  {
   "cell_type": "code",
   "execution_count": 86,
   "id": "43ccf72d-e973-426e-b10b-cf0e056ae719",
   "metadata": {
    "tags": []
   },
   "outputs": [
    {
     "name": "stdout",
     "output_type": "stream",
     "text": [
      "[6.17927869e-13 4.56479191e-13 3.83638528e-13 3.42202966e-13\n",
      " 3.15199935e-13]\n",
      "[6.17927869e-11 4.56479191e-11 3.83638528e-11 3.42202966e-11\n",
      " 3.15199935e-11]\n",
      "[6.18257247e-13 4.56722499e-13 3.83843004e-13 3.42385353e-13\n",
      " 3.15367927e-13]\n",
      "[6.18257247e-11 4.56722499e-11 3.83843004e-11 3.42385353e-11\n",
      " 3.15367927e-11]\n"
     ]
    },
    {
     "data": {
      "text/plain": [
       "[<matplotlib.lines.Line2D at 0x7f1f462a7610>]"
      ]
     },
     "execution_count": 86,
     "metadata": {},
     "output_type": "execute_result"
    },
    {
     "data": {
      "image/png": "[encoded data removed]",
      "text/plain": [
       "<Figure size 432x288 with 1 Axes>"
      ]
     },
     "metadata": {
      "needs_background": "light"
     },
     "output_type": "display_data"
    }
   ],
   "source": [
    "for i in x:\n",
    "    for j in y:\n",
    "        plt.plot(ells,theory([i,j]))\n",
    "plt.plot(ells,dat)"
   ]
  },
  {
   "cell_type": "code",
   "execution_count": 46,
   "id": "c738209e-94fa-466b-aa70-2bc977fa851f",
   "metadata": {
    "tags": []
   },
   "outputs": [
    {
     "data": {
      "text/plain": [
       "-5.406784954853995"
      ]
     },
     "execution_count": 46,
     "metadata": {},
     "output_type": "execute_result"
    }
   ],
   "source": [
    "lnprob([2e-7,1e35])"
   ]
  },
  {
   "cell_type": "code",
   "execution_count": 49,
   "id": "45ba514a-0a05-452e-bbac-a82525dcb6ea",
   "metadata": {
    "tags": []
   },
   "outputs": [
    {
     "data": {
      "text/plain": [
       "  message: Desired error not necessarily achieved due to precision loss.\n",
       "  success: False\n",
       "   status: 2\n",
       "      fun: -5.406784954853995\n",
       "        x: [ 2.000e-07  1.000e+35]\n",
       "      nit: 0\n",
       "      jac: [-3.843e+02 -1.441e-34]\n",
       " hess_inv: [[1 0]\n",
       "            [0 1]]\n",
       "     nfev: 92\n",
       "     njev: 29"
      ]
     },
     "execution_count": 49,
     "metadata": {},
     "output_type": "execute_result"
    }
   ],
   "source": [
    "scp.minimize(lnprob,[2e-7,1e35])"
   ]
  },
  {
   "cell_type": "code",
   "execution_count": 60,
   "id": "0a98de9f-fef6-4fb5-aa18-d24a5886dfd6",
   "metadata": {
    "tags": []
   },
   "outputs": [
    {
     "data": {
      "text/plain": [
       "array([6.17930836e-08, 4.56481383e-08, 3.83640370e-08, 3.42204609e-08,\n",
       "       3.15201448e-08])"
      ]
     },
     "execution_count": 60,
     "metadata": {},
     "output_type": "execute_result"
    }
   ],
   "source": [
    "theory([2e-7,1e35])"
   ]
  },
  {
   "cell_type": "code",
   "execution_count": 63,
   "id": "d754731b-cbe2-4dec-817c-69f7f3ccd09e",
   "metadata": {
    "tags": []
   },
   "outputs": [
    {
     "name": "stdout",
     "output_type": "stream",
     "text": [
      "[0. 0. 0. 0. 0.]\n"
     ]
    },
    {
     "data": {
      "text/plain": [
       "array([0., 0., 0., 0., 0.])"
      ]
     },
     "execution_count": 63,
     "metadata": {},
     "output_type": "execute_result"
    }
   ],
   "source": [
    "theory([-3.843e+02, -1.441e-34])"
   ]
  },
  {
   "cell_type": "code",
   "execution_count": 55,
   "id": "f871b7b3-f731-4a17-8d7c-977420ed75c9",
   "metadata": {
    "tags": []
   },
   "outputs": [
    {
     "data": {
      "text/plain": [
       "<matplotlib.legend.Legend at 0x7f1f46e37d30>"
      ]
     },
     "execution_count": 55,
     "metadata": {},
     "output_type": "execute_result"
    },
    {
     "data": {
      "image/png": "[encoded data removed]",
      "text/plain": [
       "<Figure size 432x288 with 1 Axes>"
      ]
     },
     "metadata": {
      "needs_background": "light"
     },
     "output_type": "display_data"
    }
   ],
   "source": [
    "plt.plot(dat, label = 'data')\n",
    "plt.plot(theory([-3.843e+02, -1.441e-34]), label = 'theory optimized via scipy')\n",
    "plt.plot(theory([2e-7,1e35]), label = 'theory optimized via pure luck')\n",
    "plt.legend()"
   ]
  },
  {
   "cell_type": "code",
   "execution_count": 56,
   "id": "29e29879-50a1-4d6f-a5b3-99a8dc3f710c",
   "metadata": {
    "tags": []
   },
   "outputs": [
    {
     "data": {
      "text/plain": [
       "<Figure size 432x288 with 0 Axes>"
      ]
     },
     "metadata": {},
     "output_type": "display_data"
    }
   ],
   "source": [
    "plt.savefig('pltsept26.pdf')"
   ]
  },
  {
   "cell_type": "code",
   "execution_count": 74,
   "id": "19aa27f2-accc-4e73-bcfe-7a69149be8e6",
   "metadata": {
    "tags": []
   },
   "outputs": [],
   "source": [
    "def main(p0,nwalkers,niter,ndim,lnprob,data):\n",
    "    sampler =  emcee.EnsembleSampler(nwalkers,ndim, lnprob, args = data)\n",
    "    print('running baybee..')\n",
    "    p0, _, _,_= sampler.run_mcmc(p0,1)\n",
    "    sampler.reset()\n",
    "    \n",
    "    print( 'running prod')\n",
    "    pos, prob, state, _  =  sampler.run_mcmc(p0,niter)\n",
    "    print('done!')\n",
    "    return sampler, pos, prob, state"
   ]
  },
  {
   "cell_type": "code",
   "execution_count": 75,
   "id": "6b43bb76-8a93-4eca-b06b-937a6e9bf691",
   "metadata": {
    "tags": []
   },
   "outputs": [],
   "source": [
    "data = (dat,cov,cinv)\n",
    "nwalkers = 4\n",
    "niter = 10\n",
    "# set n walkers\n",
    "# set niter \n",
    "initial = np.array([-3.843e+02, -1.441e-34]) # these come from the initial vierro params\n",
    "ndim = 2 # only 2 params so 2 dim\n",
    "p0 = [np.array(initial) + np.random.randn(ndim) for i in range(nwalkers)]"
   ]
  },
  {
   "cell_type": "code",
   "execution_count": 76,
   "id": "b71000f5-76d2-40c1-a67b-1a3df33d6b4d",
   "metadata": {
    "tags": []
   },
   "outputs": [
    {
     "name": "stdout",
     "output_type": "stream",
     "text": [
      "running baybee..\n",
      "[0. 0. 0. 0. 0.]\n",
      "[0. 0. 0. 0. 0.]\n",
      "[0. 0. 0. 0. 0.]\n",
      "[0. 0. 0. 0. 0.]\n",
      "[0. 0. 0. 0. 0.]\n",
      "[0. 0. 0. 0. 0.]\n",
      "[0. 0. 0. 0. 0.]\n",
      "[0. 0. 0. 0. 0.]\n",
      "running prod\n",
      "[0. 0. 0. 0. 0.]\n",
      "[0. 0. 0. 0. 0.]\n",
      "[0. 0. 0. 0. 0.]\n",
      "[0. 0. 0. 0. 0.]\n",
      "[0. 0. 0. 0. 0.]\n",
      "[0. 0. 0. 0. 0.]\n",
      "[0. 0. 0. 0. 0.]\n",
      "[0. 0. 0. 0. 0.]\n",
      "[0. 0. 0. 0. 0.]\n",
      "[0. 0. 0. 0. 0.]\n",
      "[0. 0. 0. 0. 0.]\n",
      "[0. 0. 0. 0. 0.]\n",
      "[0. 0. 0. 0. 0.]\n",
      "[0. 0. 0. 0. 0.]\n",
      "[0. 0. 0. 0. 0.]\n",
      "[0. 0. 0. 0. 0.]\n",
      "[0. 0. 0. 0. 0.]\n",
      "[0. 0. 0. 0. 0.]\n",
      "[0. 0. 0. 0. 0.]\n",
      "[0. 0. 0. 0. 0.]\n",
      "[0. 0. 0. 0. 0.]\n",
      "[0. 0. 0. 0. 0.]\n",
      "[0. 0. 0. 0. 0.]\n",
      "[0. 0. 0. 0. 0.]\n",
      "[0. 0. 0. 0. 0.]\n",
      "[0. 0. 0. 0. 0.]\n",
      "[0. 0. 0. 0. 0.]\n",
      "[0. 0. 0. 0. 0.]\n",
      "[0. 0. 0. 0. 0.]\n",
      "[0. 0. 0. 0. 0.]\n",
      "[0. 0. 0. 0. 0.]\n",
      "[0. 0. 0. 0. 0.]\n",
      "[0. 0. 0. 0. 0.]\n",
      "[0. 0. 0. 0. 0.]\n",
      "[0. 0. 0. 0. 0.]\n",
      "[0. 0. 0. 0. 0.]\n",
      "[0. 0. 0. 0. 0.]\n",
      "[0. 0. 0. 0. 0.]\n",
      "[0. 0. 0. 0. 0.]\n",
      "[0. 0. 0. 0. 0.]\n",
      "[0. 0. 0. 0. 0.]\n",
      "[0. 0. 0. 0. 0.]\n",
      "[0. 0. 0. 0. 0.]\n",
      "[0. 0. 0. 0. 0.]\n",
      "done!\n"
     ]
    }
   ],
   "source": [
    "sampler, pos, prob, state = main(p0,nwalkers,niter,ndim,lnlike,data)\n",
    "samples = sampler.flatchain"
   ]
  },
  {
   "cell_type": "code",
   "execution_count": 77,
   "id": "5af5b37a-86fe-4adf-9947-5e1d330bfa2a",
   "metadata": {
    "tags": []
   },
   "outputs": [
    {
     "name": "stderr",
     "output_type": "stream",
     "text": [
      "WARNING:root:Too few points to create valid contours\n"
     ]
    },
    {
     "data": {
      "image/png": "[encoded data removed]",
      "text/plain": [
       "<Figure size 396x396 with 4 Axes>"
      ]
     },
     "metadata": {
      "needs_background": "light"
     },
     "output_type": "display_data"
    }
   ],
   "source": [
    "labels = ['L_o', 'log_meff']\n",
    "fig = corner.corner(samples,show_titles=True,labels=labels,plot_datapoints=True,quantiles=[0.16, 0.5, 0.84])"
   ]
  },
  {
   "cell_type": "code",
   "execution_count": 78,
   "id": "ee349003-fdd9-4189-95d9-8069f6688b2b",
   "metadata": {
    "tags": []
   },
   "outputs": [
    {
     "name": "stdout",
     "output_type": "stream",
     "text": [
      "[[-3.86098652e+02 -8.96492730e-01]\n",
      " [-3.84699665e+02 -1.01159078e+00]\n",
      " [-3.86265611e+02 -2.31213801e+00]\n",
      " [-3.80117808e+02  2.60562276e+00]\n",
      " [-3.85005653e+02 -5.98431214e-01]\n",
      " [-3.84813420e+02 -1.10139679e+00]\n",
      " [-3.83666862e+02 -2.33342152e-01]\n",
      " [-3.79689021e+02  2.94861852e+00]\n",
      " [-3.85118065e+02 -3.04313413e-01]\n",
      " [-3.84750623e+02 -1.26570182e+00]\n",
      " [-3.82835198e+02  4.31923428e-01]\n",
      " [-3.81358941e+02  1.61281350e+00]\n",
      " [-3.85811092e+02 -6.69251243e-01]\n",
      " [-3.86033923e+02 -2.40308025e+00]\n",
      " [-3.83090942e+02  2.05260224e-01]\n",
      " [-3.81165314e+02  1.77714464e+00]\n",
      " [-3.85848045e+02 -9.56775613e-01]\n",
      " [-3.84943051e+02 -1.43624904e+00]\n",
      " [-3.82603919e+02  6.36905006e-01]\n",
      " [-3.80532312e+02  2.14671013e+00]\n",
      " [-3.88343397e+02 -2.11260014e+00]\n",
      " [-3.85241506e+02 -1.67869242e+00]\n",
      " [-3.82559052e+02  6.76670124e-01]\n",
      " [-3.82369097e+02  6.54641503e-01]\n",
      " [-3.86265614e+02 -1.82194959e+00]\n",
      " [-3.83720608e+02 -1.46594165e+00]\n",
      " [-3.82433965e+02  6.62164040e-01]\n",
      " [-3.82279231e+02  6.44219979e-01]\n",
      " [-3.88013788e+02 -2.90345494e+00]\n",
      " [-3.83709795e+02 -1.75589526e+00]\n",
      " [-3.82792071e+02  6.98566451e-02]\n",
      " [-3.83765020e+02 -2.74961186e-01]\n",
      " [-3.89910676e+02 -3.40921603e+00]\n",
      " [-3.85210600e+02 -2.15604983e+00]\n",
      " [-3.83201189e+02 -7.51365525e-02]\n",
      " [-3.84378131e+02 -1.07278296e+00]]\n"
     ]
    }
   ],
   "source": [
    "flat_samples = sampler.get_chain(discard=1, thin=1, flat=True)\n",
    "print(flat_samples)"
   ]
  },
  {
   "cell_type": "code",
   "execution_count": 82,
   "id": "6c32cf49-9e4b-47b6-8abe-ec1601ebf769",
   "metadata": {
    "tags": []
   },
   "outputs": [
    {
     "name": "stdout",
     "output_type": "stream",
     "text": [
      "-4535.5341702488795\n"
     ]
    },
    {
     "data": {
      "image/png": "[encoded data removed]",
      "text/plain": [
       "<Figure size 432x288 with 1 Axes>"
      ]
     },
     "metadata": {
      "needs_background": "light"
     },
     "output_type": "display_data"
    }
   ],
   "source": [
    "print(samples)\n",
    "plt.scatter([370,510,650,790,930],dat)\n",
    "plt.xscale('log')\n",
    "plt.yscale('log')"
   ]
  },
  {
   "cell_type": "code",
   "execution_count": null,
   "id": "5914d958-6059-4566-95a6-32f75c4aa2e8",
   "metadata": {},
   "outputs": [],
   "source": [
    "ah = pd.DataFrame(samples)\n",
    "vals = ah[0]\n",
    "np.mean(vals)"
   ]
  },
  {
   "cell_type": "code",
   "execution_count": 31,
   "id": "9113e093-e10b-42d0-9d18-99dea5626e2d",
   "metadata": {
    "tags": []
   },
   "outputs": [],
   "source": [
    "flat_samples = sampler.get_chain(discard=0, thin=15, flat=True)"
   ]
  },
  {
   "cell_type": "code",
   "execution_count": 39,
   "id": "09f42006-84b9-49b6-94d4-b9fb2dae68f9",
   "metadata": {
    "tags": []
   },
   "outputs": [
    {
     "data": {
      "text/latex": [
       "$\\displaystyle \\mathrm{L_o} = -3.098_{-819777041.823}^{20733010.538}$"
      ],
      "text/plain": [
       "<IPython.core.display.Math object>"
      ]
     },
     "metadata": {},
     "output_type": "display_data"
    },
    {
     "data": {
      "text/latex": [
       "$\\displaystyle \\mathrm{Log_Meff} = 12.019_{-444106012.358}^{11319746.768}$"
      ],
      "text/plain": [
       "<IPython.core.display.Math object>"
      ]
     },
     "metadata": {},
     "output_type": "display_data"
    }
   ],
   "source": [
    "from IPython.display import display, Math\n",
    "for i in range(ndim):\n",
    "    mcmc = np.percentile(flat_samples[:, i], [16, 50, 84])\n",
    "    q = np.diff(mcmc)\n",
    "    txt = \"\\mathrm{{{3}}} = {0:.3f}_{{-{1:.3f}}}^{{{2:.3f}}}\"\n",
    "    txt = txt.format(mcmc[1], q[0], q[1], labels[i])\n",
    "    display(Math(txt))"
   ]
  },
  {
   "cell_type": "code",
   "execution_count": 87,
   "id": "e1e72a5e-250a-4405-8b3b-d67e454d7078",
   "metadata": {},
   "outputs": [],
   "source": [
    "    ells = np.arange(3000)\n",
    "    cib_freq = 545 * 1e9\n",
    "\n",
    "\n",
    "    zs = np.linspace(.4, .5, 10) # make this variable\n",
    "    ms = np.geomspace(1e10, 1e17, 20) # revisit the webb sky, \n",
    "    #lower mass limit and see if the disagreement goes away \n",
    "    ks = np.geomspace(1e-4, 100, 100)\n",
    "\n",
    "    hcos = hm.HaloModel(zs, ks, ms=ms)\n",
    "    hcos.set_cibParams('vierro')\n",
    "\n",
    "        # a and b are the z range\n",
    "    hcos.cib_params['alpha'] = 0.2\n",
    "    hcos.cib_params['beta'] = 1.6\n",
    "    hcos.cib_params['gamma'] = 1.7  # not in Viero, so using Planck13\n",
    "    hcos.cib_params['delta'] = 2.4\n",
    "    hcos.cib_params['Td_o'] = 20.7\n",
    "    hcos.cib_params['logM_eff'] = 10\n",
    "    hcos.cib_params['var'] = 0.3\n",
    "    hcos.cib_params['L_o'] = 3.098/1e14\n",
    "    hcos.add_hod(name=\"CMASS\", mthresh=10**10 + zs*0.)\n",
    "    ells = np.arange(300,1000)\n",
    "        \n",
    "    # this is for the c_gg, make these inputs\n",
    "    gdndz = 100 * np.array([3091.0, 4697.0,7307.0,11655.0,18705.0,25476.0,\t31238.0,37006.0\t,40371.0,\t43370.0])\n",
    "    zs = np.array([0.40000978,0.41000876,0.42000774,0.4300067,0.4400057,0.45000467,0.46000364,0.47000262,0.4800016,0.49000058])\n",
    "\n",
    "    Pgg_1h = hcos.get_power_1halo('CMASS', 'CMASS', nu_obs=np.array([cib_freq]))\n",
    "    Pgg_2h = hcos.get_power_2halo('CMASS', 'CMASS', nu_obs=np.array([cib_freq]))\n",
    "\n",
    "    Cl_gg_1h = hcos.C_gg(ells, hcos.zs, hcos.ks, Pgg_1h, gzs=zs, gdndz=gdndz)\n",
    "    Cl_gg_2h = hcos.C_gg(ells, hcos.zs, hcos.ks, Pgg_2h, gzs=zs, gdndz=gdndz)\n",
    "    tot_gg = Cl_gg_1h + Cl_gg_2h # add the halos together\n",
    "    PgI_1h = hcos.get_power_1halo('CMASS', 'cib', nu_obs=np.array([cib_freq]))\n",
    "    PgI_2h = hcos.get_power_2halo('CMASS', 'cib', nu_obs=np.array([cib_freq]))\n",
    "\n",
    "    Cl_gI_1h = hcos.C_gI(ells, hcos.zs, hcos.ks, PgI_1h, gzs=zs, gdndz= gdndz)\n",
    "    Cl_gI_2h = hcos.C_gI(ells, hcos.zs, hcos.ks, PgI_2h, gzs=zs, gdndz= gdndz)\n",
    "    \n",
    "    # need to end up with one vector thats c_gi for each l bin, c_gg for each l bin\n",
    "    tot_gi = Cl_gI_1h + Cl_gI_2h"
   ]
  },
  {
   "cell_type": "code",
   "execution_count": 89,
   "id": "b7853db1-2547-491c-938a-f5fab5d1b82d",
   "metadata": {
    "tags": []
   },
   "outputs": [
    {
     "data": {
      "image/png": "[encoded data removed]",
      "text/plain": [
       "<Figure size 432x288 with 1 Axes>"
      ]
     },
     "metadata": {
      "needs_background": "light"
     },
     "output_type": "display_data"
    }
   ],
   "source": [
    "plt.plot(tot_gi)\n",
    "b = np.array([70,210,350,490,630])\n",
    "plt.scatter(b,dat)\n",
    "plt.yscale('log')"
   ]
  },
  {
   "cell_type": "code",
   "execution_count": null,
   "id": "47a90ca4-0d42-479d-8309-4db01be0b567",
   "metadata": {},
   "outputs": [],
   "source": []
  }
 ],
 "metadata": {
  "kernelspec": {
   "display_name": "NERSC Python",
   "language": "python",
   "name": "python3"
  },
  "language_info": {
   "codemirror_mode": {
    "name": "ipython",
    "version": 3
   },
   "file_extension": ".py",
   "mimetype": "text/x-python",
   "name": "python",
   "nbconvert_exporter": "python",
   "pygments_lexer": "ipython3",
   "version": "3.9.7"
  }
 },
 "nbformat": 4,
 "nbformat_minor": 5
}
