{
 "cells": [
  {
   "cell_type": "code",
   "execution_count": 1,
   "id": "fcc88c85-a71d-4bb9-aeea-a93747989d6a",
   "metadata": {},
   "outputs": [],
   "source": [
    "# install dependencies\n",
    "import matplotlib.pyplot as plt\n",
    "import numpy as np\n",
    "import pandas as pd\n",
    "\n",
    "\n",
    "import emcee\n",
    "\n",
    "import matplotlib.pyplot as plt\n",
    "import numpy as np\n",
    "import os, sys, shutil\n",
    "import pandas as pd\n",
    "import sklearn.metrics as slm\n",
    "\n",
    "pkdir = \"/pscratch/sd/s/sbrisin/cibcmass/hmvec\"\n",
    "sys.path.insert(0,pkdir)\n",
    "\n",
    "#import hmvec as hm\n",
    "from hmvec import hmvec as hm \n",
    "from scipy.interpolate import interp1d"
   ]
  },
  {
   "cell_type": "markdown",
   "id": "affb6532-268e-4731-99ab-55fb79ec00f2",
   "metadata": {
    "jp-MarkdownHeadingCollapsed": true,
    "tags": []
   },
   "source": [
    ".4 - .5"
   ]
  },
  {
   "cell_type": "code",
   "execution_count": 22,
   "id": "cd6103a8-4147-448e-b32e-42ad7f86f53e",
   "metadata": {},
   "outputs": [],
   "source": [
    "# data prep\n",
    "\n",
    "data = pd.read_csv(\"crosses.csv\")\n",
    "cii = data['ciib']\n",
    "cgg = data['cggb']\n",
    "err = data['err']\n",
    "cig = data['cl']\n",
    "l =  data['l']\n",
    "z = data['z']\n",
    "err = err[z == '.4-.5']\n",
    "cii = cii[z == '.4-.5']\n",
    "cgg = cgg[z == '.4-.5']\n",
    "cig = cig[z == '.4-.5']\n",
    "l = l[z == '.4-.5']"
   ]
  },
  {
   "cell_type": "code",
   "execution_count": 44,
   "id": "495bf424-c16d-434b-af2b-26378f69fb81",
   "metadata": {},
   "outputs": [
    {
     "name": "stderr",
     "output_type": "stream",
     "text": [
      "/pscratch/sd/s/sbrisin/cibcmass/hmvec/hmvec/hmvec.py:994: RuntimeWarning: invalid value encountered in true_divide\n",
      "  ret = Ns**2./Nc\n"
     ]
    }
   ],
   "source": [
    "cib_freq = 545 * 1e9\n",
    "\n",
    "zs = np.linspace(0.4,.5,20)\n",
    "ms = np.geomspace(1e10,1e17,200)\n",
    "ks = np.geomspace(1e-4,100,1001)\n",
    "hcos = hm.HaloModel(zs,ks,ms=ms)\n",
    "hcos.set_cibParams('vierro')\n",
    "\n",
    "hcos.add_hod(name=\"CMASS\",mthresh=10**12+zs*0.)\n",
    "ells = np.linspace(300,1000,5)\n"
   ]
  },
  {
   "cell_type": "code",
   "execution_count": 45,
   "id": "43389838-98dc-4da7-a456-b5589bac205a",
   "metadata": {},
   "outputs": [],
   "source": [
    "# params from vierro\n",
    "hcos.cib_params['alpha'] = 0.2\n",
    "hcos.cib_params['beta'] = 1.6\n",
    "hcos.cib_params['gamma'] = 1.7 # not in Viero, so using Planck13\n",
    "hcos.cib_params['delta'] = 2.4\n",
    "hcos.cib_params['Td_o'] = 20.7\n",
    "#hcos.cib_params['logM_eff'] = logmeff # vqry n sre\n",
    "hcos.cib_params['var'] = 0.3\n",
    "#hcos.cib_params['L_o'] = lo # vary n see n plot w prob"
   ]
  },
  {
   "cell_type": "code",
   "execution_count": 13,
   "id": "6f37f5c7-4759-4234-a6de-4a8b249c30f9",
   "metadata": {},
   "outputs": [],
   "source": [
    "hcos.set_cibParams('vierro')"
   ]
  },
  {
   "cell_type": "code",
   "execution_count": 20,
   "id": "1da2661c-8440-47fb-9c08-b69b05b72d95",
   "metadata": {},
   "outputs": [
    {
     "data": {
      "image/png": "[encoded data removed]",
      "text/plain": [
       "<Figure size 432x288 with 1 Axes>"
      ]
     },
     "metadata": {
      "needs_background": "light"
     },
     "output_type": "display_data"
    }
   ],
   "source": [
    "for i, lo in enumerate(np.linspace(1e-7,2e-8, 5)):\n",
    "    hcos.cib_params['L_o'] = lo\n",
    "    for i, lo in enumerate(np.linspace(10,15, 5)):\n",
    "        hcos.cib_params['logM_eff'] = logmeff\n",
    "        PgI_1h = hcos.get_power_1halo('CMASS', \"cib\", nu_obs=np.array([cib_freq])) # put this back in hertz\n",
    "        PgI_2h = hcos.get_power_2halo('CMASS', 'cib',nu_obs=np.array([cib_freq])) # put this back in hertz\n",
    "    # Project to 2D to get the Cls\n",
    "        Cl_gI_1h = hcos.C_gI(ells, hcos.zs, hcos.ks, PgI_1h, gzs = zs, gdndz= np.ones_like(zs))\n",
    "        Cl_gI_2h = hcos.C_gI(ells, hcos.zs, hcos.ks, PgI_2h, gzs = zs, gdndz= np.ones_like(zs))\n",
    "    # Plot\n",
    "        plt.plot((Cl_gI_1h + Cl_gI_2h)*1e-6/np.sqrt(4*np.pi), label='total', ls='-')\n",
    "        plt.scatter(l,cig)\n",
    "        plt.yscale('log')\n",
    "        plt.xlim([300,1000])\n",
    "    PgI_1h = hcos.get_power_1halo('CMASS', \"cib\", nu_obs=np.array([cib_freq])) # put this back in hertz\n",
    "    PgI_2h = hcos.get_power_2halo('CMASS', 'cib',nu_obs=np.array([cib_freq])) # put this back in hertz\n",
    "# Project to 2D to get the Cls\n",
    "    Cl_gI_1h = hcos.C_gI(ells, hcos.zs, hcos.ks, PgI_1h, gzs = zs, gdndz= np.ones_like(zs))\n",
    "    Cl_gI_2h = hcos.C_gI(ells, hcos.zs, hcos.ks, PgI_2h, gzs = zs, gdndz= np.ones_like(zs))\n",
    "# Plot\n",
    "    plt.plot((Cl_gI_1h + Cl_gI_2h)*1e-6/np.sqrt(4*np.pi), label='total', ls='-')\n",
    "    plt.scatter(l,cig)\n",
    "    plt.yscale('log')\n",
    "    plt.xlim([300,1000])"
   ]
  },
  {
   "cell_type": "code",
   "execution_count": 46,
   "id": "bf6a047c-6d56-4a2c-a2a0-77e05682909c",
   "metadata": {},
   "outputs": [
    {
     "data": {
      "image/png": "[encoded data removed]",
      "text/plain": [
       "<Figure size 432x288 with 1 Axes>"
      ]
     },
     "metadata": {
      "needs_background": "light"
     },
     "output_type": "display_data"
    }
   ],
   "source": [
    "for i, lo in enumerate(np.linspace(10,15, 5)):\n",
    "    hcos.cib_params['logM_eff'] = logmeff\n",
    "    PgI_1h = hcos.get_power_1halo('CMASS', \"cib\", nu_obs=np.array([cib_freq])) # put this back in hertz\n",
    "    PgI_2h = hcos.get_power_2halo('CMASS', 'cib',nu_obs=np.array([cib_freq])) # put this back in hertz\n",
    "# Project to 2D to get the Cls\n",
    "    Cl_gI_1h = hcos.C_gI(ells, hcos.zs, hcos.ks, PgI_1h, gzs = zs, gdndz= np.ones_like(zs))\n",
    "    Cl_gI_2h = hcos.C_gI(ells, hcos.zs, hcos.ks, PgI_2h, gzs = zs, gdndz= np.ones_like(zs))\n",
    "# Plot\n",
    "    plt.plot((Cl_gI_1h + Cl_gI_2h)*1e-6/np.sqrt(4*np.pi), label='total', ls='-')\n",
    "    plt.scatter(l,cig)\n",
    "    plt.yscale('log')\n",
    "    plt.xlim([300,1000])"
   ]
  },
  {
   "cell_type": "code",
   "execution_count": 47,
   "id": "6b4be292-86a8-4099-9de4-09835e228b98",
   "metadata": {},
   "outputs": [],
   "source": [
    "# define true params\n",
    "cig_t = cig"
   ]
  },
  {
   "cell_type": "code",
   "execution_count": 48,
   "id": "a6f77cce-4c38-4bec-ad40-56583d9ad3d3",
   "metadata": {},
   "outputs": [],
   "source": [
    "# define prior\n",
    "\n",
    "def log_prob(params,x):\n",
    "# here do the model stuff\n",
    "    return \n",
    "    "
   ]
  },
  {
   "cell_type": "code",
   "execution_count": 49,
   "id": "b9727140-3a5d-49d0-b6ab-3f4ef21435b2",
   "metadata": {},
   "outputs": [],
   "source": [
    "#posteriors"
   ]
  },
  {
   "cell_type": "code",
   "execution_count": 50,
   "id": "f46140ec-87a1-4c80-9673-d4446914ba39",
   "metadata": {},
   "outputs": [],
   "source": [
    "#go to corner plot"
   ]
  },
  {
   "cell_type": "code",
   "execution_count": 51,
   "id": "6cfbf503-a4fa-423f-bdef-99297538748e",
   "metadata": {},
   "outputs": [],
   "source": [
    "# do this per redshift bin"
   ]
  },
  {
   "cell_type": "code",
   "execution_count": 52,
   "id": "a08100eb-bf0c-4ca0-b369-2504cb1e308b",
   "metadata": {},
   "outputs": [],
   "source": [
    "# \"true params\" \n",
    "\n",
    "hcos.cib_params['alpha'] = 0.2\n",
    "hcos.cib_params['beta'] = 1.6\n",
    "hcos.cib_params['gamma'] = 1.7 # not in Viero, so using Planck13\n",
    "hcos.cib_params['delta'] = 2.4\n",
    "hcos.cib_params['Td_o'] = 20.7\n",
    "lmeff_true = hcos.cib_params['logM_eff'] = 12.3 # vqry n sre\n",
    "hcos.cib_params['var'] = 0.3\n",
    "lo_true = hcos.cib_params['L_o'] = 2e-7 # vary n see n plot w prob"
   ]
  },
  {
   "cell_type": "code",
   "execution_count": 53,
   "id": "45058a2c-fcfc-4ac4-b054-bacd024bb9a0",
   "metadata": {},
   "outputs": [],
   "source": [
    "# data :D\n",
    "cig = cig\n",
    "l =  l \n",
    "err = err\n",
    "f_true = 1"
   ]
  },
  {
   "cell_type": "code",
   "execution_count": null,
   "id": "f42de97f-6cfd-4743-a7d8-8c55972c6ab2",
   "metadata": {},
   "outputs": [],
   "source": []
  }
 ],
 "metadata": {
  "kernelspec": {
   "display_name": "NERSC Python",
   "language": "python",
   "name": "python3"
  },
  "language_info": {
   "codemirror_mode": {
    "name": "ipython",
    "version": 3
   },
   "file_extension": ".py",
   "mimetype": "text/x-python",
   "name": "python",
   "nbconvert_exporter": "python",
   "pygments_lexer": "ipython3",
   "version": "3.9.7"
  }
 },
 "nbformat": 4,
 "nbformat_minor": 5
}
