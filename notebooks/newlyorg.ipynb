{
 "cells": [
  {
   "cell_type": "code",
   "execution_count": 2,
   "id": "c9852e8c-56fe-4c98-87ac-5c0a8c8129be",
   "metadata": {
    "tags": []
   },
   "outputs": [],
   "source": [
    "import numpy as np\n",
    "import emcee\n",
    "import matplotlib.pyplot as plt\n",
    "import pandas as pd\n",
    "import numpy as np\n",
    "from scipy import interpolate\n",
    "from scipy import stats\n",
    "import healpy as hp  # NOTE: you can neglect warning about version mismatch in CFITSIO if necessary \n",
    "\n",
    "N_side = 2048      # Both maps will have this N_side. Healpix map has 12 * N_side**2 pixels\n",
    "\n",
    "from astropy.coordinates import SkyCoord\n",
    "from astropy.io import fits\n",
    "from astropy import units as u\n",
    "\n",
    "import pandas as pd\n",
    "\n",
    "import emcee\n",
    "\n",
    "import matplotlib.pyplot as plt\n",
    "import os, sys, shutil\n",
    "import random\n",
    "import sklearn.metrics as slm\n",
    "\n",
    "import corner\n",
    "from scipy.interpolate import interp1d\n",
    "%matplotlib inline\n",
    "\n",
    "pkdir = \"/pscratch/sd/s/sbrisin/boss_cib_cmass/cibcmass/hmvec\"\n",
    "sys.path.insert(0, pkdir)\n",
    "# Import hmvec as hm\n",
    "from hmvec import hmvec as hm"
   ]
  },
  {
   "cell_type": "markdown",
   "id": "ea0fab91-e4cf-447b-b2a5-057fc087f5dc",
   "metadata": {
    "tags": []
   },
   "source": [
    "# this part of the notebook prepares the data"
   ]
  },
  {
   "cell_type": "code",
   "execution_count": 3,
   "id": "b2772705-ff11-4a35-ac0f-5662926c436b",
   "metadata": {
    "tags": []
   },
   "outputs": [
    {
     "ename": "FileNotFoundError",
     "evalue": "[Errno 2] No such file or directory: '/Users/sophiarisin/Dropbox/Mac (2)/Desktop/research/cmb/catelogues/COM_CompMap_CIB-GNILC-F545_2048_R2.00.fits'",
     "output_type": "error",
     "traceback": [
      "\u001b[0;31m---------------------------------------------------------------------------\u001b[0m",
      "\u001b[0;31mFileNotFoundError\u001b[0m                         Traceback (most recent call last)",
      "\u001b[0;32m/tmp/ipykernel_407186/587385496.py\u001b[0m in \u001b[0;36m<module>\u001b[0;34m\u001b[0m\n\u001b[0;32m----> 1\u001b[0;31m \u001b[0mCIB_map\u001b[0m \u001b[0;34m=\u001b[0m \u001b[0mhp\u001b[0m\u001b[0;34m.\u001b[0m\u001b[0mread_map\u001b[0m\u001b[0;34m(\u001b[0m\u001b[0;34m'/Users/sophiarisin/Dropbox/Mac (2)/Desktop/research/cmb/catelogues/COM_CompMap_CIB-GNILC-F545_2048_R2.00.fits'\u001b[0m\u001b[0;34m)\u001b[0m        \u001b[0;31m# read CIB map\u001b[0m\u001b[0;34m\u001b[0m\u001b[0;34m\u001b[0m\u001b[0m\n\u001b[0m\u001b[1;32m      2\u001b[0m \u001b[0mCIB_mask\u001b[0m \u001b[0;34m=\u001b[0m \u001b[0mhp\u001b[0m\u001b[0;34m.\u001b[0m\u001b[0mread_map\u001b[0m\u001b[0;34m(\u001b[0m\u001b[0;34m'/Users/sophiarisin/Dropbox/Mac (2)/Downloads/cib_mask.fits'\u001b[0m\u001b[0;34m)\u001b[0m                                    \u001b[0;31m# read CIB mask\u001b[0m\u001b[0;34m\u001b[0m\u001b[0;34m\u001b[0m\u001b[0m\n\u001b[1;32m      3\u001b[0m \u001b[0;34m\u001b[0m\u001b[0m\n\u001b[1;32m      4\u001b[0m \u001b[0mCIB_masked\u001b[0m \u001b[0;34m=\u001b[0m \u001b[0mhp\u001b[0m\u001b[0;34m.\u001b[0m\u001b[0mma\u001b[0m\u001b[0;34m(\u001b[0m\u001b[0mCIB_map\u001b[0m\u001b[0;34m)\u001b[0m\u001b[0;34m\u001b[0m\u001b[0;34m\u001b[0m\u001b[0m\n\u001b[1;32m      5\u001b[0m \u001b[0mCIB_masked\u001b[0m\u001b[0;34m.\u001b[0m\u001b[0mmask\u001b[0m \u001b[0;34m=\u001b[0m \u001b[0mnp\u001b[0m\u001b[0;34m.\u001b[0m\u001b[0mlogical_not\u001b[0m\u001b[0;34m(\u001b[0m\u001b[0mCIB_mask\u001b[0m\u001b[0;34m)\u001b[0m\u001b[0;34m\u001b[0m\u001b[0;34m\u001b[0m\u001b[0m\n",
      "\u001b[0;32m~/.local/perlmutter/3.9-anaconda-2021.11/lib/python3.9/site-packages/astropy/utils/decorators.py\u001b[0m in \u001b[0;36mwrapper\u001b[0;34m(*args, **kwargs)\u001b[0m\n\u001b[1;32m    533\u001b[0m                     \u001b[0mwarnings\u001b[0m\u001b[0;34m.\u001b[0m\u001b[0mwarn\u001b[0m\u001b[0;34m(\u001b[0m\u001b[0mmessage\u001b[0m\u001b[0;34m,\u001b[0m \u001b[0mwarning_type\u001b[0m\u001b[0;34m,\u001b[0m \u001b[0mstacklevel\u001b[0m\u001b[0;34m=\u001b[0m\u001b[0;36m2\u001b[0m\u001b[0;34m)\u001b[0m\u001b[0;34m\u001b[0m\u001b[0;34m\u001b[0m\u001b[0m\n\u001b[1;32m    534\u001b[0m \u001b[0;34m\u001b[0m\u001b[0m\n\u001b[0;32m--> 535\u001b[0;31m             \u001b[0;32mreturn\u001b[0m \u001b[0mfunction\u001b[0m\u001b[0;34m(\u001b[0m\u001b[0;34m*\u001b[0m\u001b[0margs\u001b[0m\u001b[0;34m,\u001b[0m \u001b[0;34m**\u001b[0m\u001b[0mkwargs\u001b[0m\u001b[0;34m)\u001b[0m\u001b[0;34m\u001b[0m\u001b[0;34m\u001b[0m\u001b[0m\n\u001b[0m\u001b[1;32m    536\u001b[0m \u001b[0;34m\u001b[0m\u001b[0m\n\u001b[1;32m    537\u001b[0m         \u001b[0;32mreturn\u001b[0m \u001b[0mwrapper\u001b[0m\u001b[0;34m\u001b[0m\u001b[0;34m\u001b[0m\u001b[0m\n",
      "\u001b[0;32m~/.local/perlmutter/3.9-anaconda-2021.11/lib/python3.9/site-packages/healpy/fitsfunc.py\u001b[0m in \u001b[0;36mread_map\u001b[0;34m(filename, field, dtype, nest, partial, hdu, h, verbose, memmap)\u001b[0m\n\u001b[1;32m    368\u001b[0m     \u001b[0mopened_file\u001b[0m \u001b[0;34m=\u001b[0m \u001b[0;32mFalse\u001b[0m\u001b[0;34m\u001b[0m\u001b[0;34m\u001b[0m\u001b[0m\n\u001b[1;32m    369\u001b[0m     \u001b[0;32mif\u001b[0m \u001b[0misinstance\u001b[0m\u001b[0;34m(\u001b[0m\u001b[0mfilename\u001b[0m\u001b[0;34m,\u001b[0m \u001b[0mallowed_paths\u001b[0m\u001b[0;34m)\u001b[0m\u001b[0;34m:\u001b[0m\u001b[0;34m\u001b[0m\u001b[0;34m\u001b[0m\u001b[0m\n\u001b[0;32m--> 370\u001b[0;31m         \u001b[0mfilename\u001b[0m \u001b[0;34m=\u001b[0m \u001b[0mpf\u001b[0m\u001b[0;34m.\u001b[0m\u001b[0mopen\u001b[0m\u001b[0;34m(\u001b[0m\u001b[0mfilename\u001b[0m\u001b[0;34m,\u001b[0m \u001b[0mmemmap\u001b[0m\u001b[0;34m=\u001b[0m\u001b[0mmemmap\u001b[0m\u001b[0;34m)\u001b[0m\u001b[0;34m\u001b[0m\u001b[0;34m\u001b[0m\u001b[0m\n\u001b[0m\u001b[1;32m    371\u001b[0m         \u001b[0mopened_file\u001b[0m \u001b[0;34m=\u001b[0m \u001b[0;32mTrue\u001b[0m\u001b[0;34m\u001b[0m\u001b[0;34m\u001b[0m\u001b[0m\n\u001b[1;32m    372\u001b[0m \u001b[0;34m\u001b[0m\u001b[0m\n",
      "\u001b[0;32m~/.local/perlmutter/3.9-anaconda-2021.11/lib/python3.9/site-packages/astropy/io/fits/hdu/hdulist.py\u001b[0m in \u001b[0;36mfitsopen\u001b[0;34m(name, mode, memmap, save_backup, cache, lazy_load_hdus, **kwargs)\u001b[0m\n\u001b[1;32m    162\u001b[0m         \u001b[0;32mraise\u001b[0m \u001b[0mValueError\u001b[0m\u001b[0;34m(\u001b[0m\u001b[0;34mf'Empty filename: {name!r}'\u001b[0m\u001b[0;34m)\u001b[0m\u001b[0;34m\u001b[0m\u001b[0;34m\u001b[0m\u001b[0m\n\u001b[1;32m    163\u001b[0m \u001b[0;34m\u001b[0m\u001b[0m\n\u001b[0;32m--> 164\u001b[0;31m     return HDUList.fromfile(name, mode, memmap, save_backup, cache,\n\u001b[0m\u001b[1;32m    165\u001b[0m                             lazy_load_hdus, **kwargs)\n\u001b[1;32m    166\u001b[0m \u001b[0;34m\u001b[0m\u001b[0m\n",
      "\u001b[0;32m~/.local/perlmutter/3.9-anaconda-2021.11/lib/python3.9/site-packages/astropy/io/fits/hdu/hdulist.py\u001b[0m in \u001b[0;36mfromfile\u001b[0;34m(cls, fileobj, mode, memmap, save_backup, cache, lazy_load_hdus, **kwargs)\u001b[0m\n\u001b[1;32m    399\u001b[0m         \"\"\"\n\u001b[1;32m    400\u001b[0m \u001b[0;34m\u001b[0m\u001b[0m\n\u001b[0;32m--> 401\u001b[0;31m         return cls._readfrom(fileobj=fileobj, mode=mode, memmap=memmap,\n\u001b[0m\u001b[1;32m    402\u001b[0m                              \u001b[0msave_backup\u001b[0m\u001b[0;34m=\u001b[0m\u001b[0msave_backup\u001b[0m\u001b[0;34m,\u001b[0m \u001b[0mcache\u001b[0m\u001b[0;34m=\u001b[0m\u001b[0mcache\u001b[0m\u001b[0;34m,\u001b[0m\u001b[0;34m\u001b[0m\u001b[0;34m\u001b[0m\u001b[0m\n\u001b[1;32m    403\u001b[0m                              lazy_load_hdus=lazy_load_hdus, **kwargs)\n",
      "\u001b[0;32m~/.local/perlmutter/3.9-anaconda-2021.11/lib/python3.9/site-packages/astropy/io/fits/hdu/hdulist.py\u001b[0m in \u001b[0;36m_readfrom\u001b[0;34m(cls, fileobj, data, mode, memmap, cache, lazy_load_hdus, **kwargs)\u001b[0m\n\u001b[1;32m   1050\u001b[0m             \u001b[0;32mif\u001b[0m \u001b[0;32mnot\u001b[0m \u001b[0misinstance\u001b[0m\u001b[0;34m(\u001b[0m\u001b[0mfileobj\u001b[0m\u001b[0;34m,\u001b[0m \u001b[0m_File\u001b[0m\u001b[0;34m)\u001b[0m\u001b[0;34m:\u001b[0m\u001b[0;34m\u001b[0m\u001b[0;34m\u001b[0m\u001b[0m\n\u001b[1;32m   1051\u001b[0m                 \u001b[0;31m# instantiate a FITS file object (ffo)\u001b[0m\u001b[0;34m\u001b[0m\u001b[0;34m\u001b[0m\u001b[0m\n\u001b[0;32m-> 1052\u001b[0;31m                 \u001b[0mfileobj\u001b[0m \u001b[0;34m=\u001b[0m \u001b[0m_File\u001b[0m\u001b[0;34m(\u001b[0m\u001b[0mfileobj\u001b[0m\u001b[0;34m,\u001b[0m \u001b[0mmode\u001b[0m\u001b[0;34m=\u001b[0m\u001b[0mmode\u001b[0m\u001b[0;34m,\u001b[0m \u001b[0mmemmap\u001b[0m\u001b[0;34m=\u001b[0m\u001b[0mmemmap\u001b[0m\u001b[0;34m,\u001b[0m \u001b[0mcache\u001b[0m\u001b[0;34m=\u001b[0m\u001b[0mcache\u001b[0m\u001b[0;34m)\u001b[0m\u001b[0;34m\u001b[0m\u001b[0;34m\u001b[0m\u001b[0m\n\u001b[0m\u001b[1;32m   1053\u001b[0m             \u001b[0;31m# The Astropy mode is determined by the _File initializer if the\u001b[0m\u001b[0;34m\u001b[0m\u001b[0;34m\u001b[0m\u001b[0m\n\u001b[1;32m   1054\u001b[0m             \u001b[0;31m# supplied mode was None\u001b[0m\u001b[0;34m\u001b[0m\u001b[0;34m\u001b[0m\u001b[0m\n",
      "\u001b[0;32m~/.local/perlmutter/3.9-anaconda-2021.11/lib/python3.9/site-packages/astropy/utils/decorators.py\u001b[0m in \u001b[0;36mwrapper\u001b[0;34m(*args, **kwargs)\u001b[0m\n\u001b[1;32m    533\u001b[0m                     \u001b[0mwarnings\u001b[0m\u001b[0;34m.\u001b[0m\u001b[0mwarn\u001b[0m\u001b[0;34m(\u001b[0m\u001b[0mmessage\u001b[0m\u001b[0;34m,\u001b[0m \u001b[0mwarning_type\u001b[0m\u001b[0;34m,\u001b[0m \u001b[0mstacklevel\u001b[0m\u001b[0;34m=\u001b[0m\u001b[0;36m2\u001b[0m\u001b[0;34m)\u001b[0m\u001b[0;34m\u001b[0m\u001b[0;34m\u001b[0m\u001b[0m\n\u001b[1;32m    534\u001b[0m \u001b[0;34m\u001b[0m\u001b[0m\n\u001b[0;32m--> 535\u001b[0;31m             \u001b[0;32mreturn\u001b[0m \u001b[0mfunction\u001b[0m\u001b[0;34m(\u001b[0m\u001b[0;34m*\u001b[0m\u001b[0margs\u001b[0m\u001b[0;34m,\u001b[0m \u001b[0;34m**\u001b[0m\u001b[0mkwargs\u001b[0m\u001b[0;34m)\u001b[0m\u001b[0;34m\u001b[0m\u001b[0;34m\u001b[0m\u001b[0m\n\u001b[0m\u001b[1;32m    536\u001b[0m \u001b[0;34m\u001b[0m\u001b[0m\n\u001b[1;32m    537\u001b[0m         \u001b[0;32mreturn\u001b[0m \u001b[0mwrapper\u001b[0m\u001b[0;34m\u001b[0m\u001b[0;34m\u001b[0m\u001b[0m\n",
      "\u001b[0;32m~/.local/perlmutter/3.9-anaconda-2021.11/lib/python3.9/site-packages/astropy/io/fits/file.py\u001b[0m in \u001b[0;36m__init__\u001b[0;34m(self, fileobj, mode, memmap, overwrite, cache)\u001b[0m\n\u001b[1;32m    173\u001b[0m             \u001b[0mself\u001b[0m\u001b[0;34m.\u001b[0m\u001b[0m_open_fileobj\u001b[0m\u001b[0;34m(\u001b[0m\u001b[0mfileobj\u001b[0m\u001b[0;34m,\u001b[0m \u001b[0mmode\u001b[0m\u001b[0;34m,\u001b[0m \u001b[0moverwrite\u001b[0m\u001b[0;34m)\u001b[0m\u001b[0;34m\u001b[0m\u001b[0;34m\u001b[0m\u001b[0m\n\u001b[1;32m    174\u001b[0m         \u001b[0;32melif\u001b[0m \u001b[0misinstance\u001b[0m\u001b[0;34m(\u001b[0m\u001b[0mfileobj\u001b[0m\u001b[0;34m,\u001b[0m \u001b[0;34m(\u001b[0m\u001b[0mstr\u001b[0m\u001b[0;34m,\u001b[0m \u001b[0mbytes\u001b[0m\u001b[0;34m)\u001b[0m\u001b[0;34m)\u001b[0m\u001b[0;34m:\u001b[0m\u001b[0;34m\u001b[0m\u001b[0;34m\u001b[0m\u001b[0m\n\u001b[0;32m--> 175\u001b[0;31m             \u001b[0mself\u001b[0m\u001b[0;34m.\u001b[0m\u001b[0m_open_filename\u001b[0m\u001b[0;34m(\u001b[0m\u001b[0mfileobj\u001b[0m\u001b[0;34m,\u001b[0m \u001b[0mmode\u001b[0m\u001b[0;34m,\u001b[0m \u001b[0moverwrite\u001b[0m\u001b[0;34m)\u001b[0m\u001b[0;34m\u001b[0m\u001b[0;34m\u001b[0m\u001b[0m\n\u001b[0m\u001b[1;32m    176\u001b[0m         \u001b[0;32melse\u001b[0m\u001b[0;34m:\u001b[0m\u001b[0;34m\u001b[0m\u001b[0;34m\u001b[0m\u001b[0m\n\u001b[1;32m    177\u001b[0m             \u001b[0mself\u001b[0m\u001b[0;34m.\u001b[0m\u001b[0m_open_filelike\u001b[0m\u001b[0;34m(\u001b[0m\u001b[0mfileobj\u001b[0m\u001b[0;34m,\u001b[0m \u001b[0mmode\u001b[0m\u001b[0;34m,\u001b[0m \u001b[0moverwrite\u001b[0m\u001b[0;34m)\u001b[0m\u001b[0;34m\u001b[0m\u001b[0;34m\u001b[0m\u001b[0m\n",
      "\u001b[0;32m~/.local/perlmutter/3.9-anaconda-2021.11/lib/python3.9/site-packages/astropy/io/fits/file.py\u001b[0m in \u001b[0;36m_open_filename\u001b[0;34m(self, filename, mode, overwrite)\u001b[0m\n\u001b[1;32m    562\u001b[0m \u001b[0;34m\u001b[0m\u001b[0m\n\u001b[1;32m    563\u001b[0m         \u001b[0;32mif\u001b[0m \u001b[0;32mnot\u001b[0m \u001b[0mself\u001b[0m\u001b[0;34m.\u001b[0m\u001b[0m_try_read_compressed\u001b[0m\u001b[0;34m(\u001b[0m\u001b[0mself\u001b[0m\u001b[0;34m.\u001b[0m\u001b[0mname\u001b[0m\u001b[0;34m,\u001b[0m \u001b[0mmagic\u001b[0m\u001b[0;34m,\u001b[0m \u001b[0mmode\u001b[0m\u001b[0;34m,\u001b[0m \u001b[0mext\u001b[0m\u001b[0;34m=\u001b[0m\u001b[0mext\u001b[0m\u001b[0;34m)\u001b[0m\u001b[0;34m:\u001b[0m\u001b[0;34m\u001b[0m\u001b[0;34m\u001b[0m\u001b[0m\n\u001b[0;32m--> 564\u001b[0;31m             \u001b[0mself\u001b[0m\u001b[0;34m.\u001b[0m\u001b[0m_file\u001b[0m \u001b[0;34m=\u001b[0m \u001b[0mfileobj_open\u001b[0m\u001b[0;34m(\u001b[0m\u001b[0mself\u001b[0m\u001b[0;34m.\u001b[0m\u001b[0mname\u001b[0m\u001b[0;34m,\u001b[0m \u001b[0mIO_FITS_MODES\u001b[0m\u001b[0;34m[\u001b[0m\u001b[0mmode\u001b[0m\u001b[0;34m]\u001b[0m\u001b[0;34m)\u001b[0m\u001b[0;34m\u001b[0m\u001b[0;34m\u001b[0m\u001b[0m\n\u001b[0m\u001b[1;32m    565\u001b[0m             \u001b[0mself\u001b[0m\u001b[0;34m.\u001b[0m\u001b[0mclose_on_error\u001b[0m \u001b[0;34m=\u001b[0m \u001b[0;32mTrue\u001b[0m\u001b[0;34m\u001b[0m\u001b[0;34m\u001b[0m\u001b[0m\n\u001b[1;32m    566\u001b[0m \u001b[0;34m\u001b[0m\u001b[0m\n",
      "\u001b[0;32m~/.local/perlmutter/3.9-anaconda-2021.11/lib/python3.9/site-packages/astropy/io/fits/util.py\u001b[0m in \u001b[0;36mfileobj_open\u001b[0;34m(filename, mode)\u001b[0m\n\u001b[1;32m    390\u001b[0m     \"\"\"\n\u001b[1;32m    391\u001b[0m \u001b[0;34m\u001b[0m\u001b[0m\n\u001b[0;32m--> 392\u001b[0;31m     \u001b[0;32mreturn\u001b[0m \u001b[0mopen\u001b[0m\u001b[0;34m(\u001b[0m\u001b[0mfilename\u001b[0m\u001b[0;34m,\u001b[0m \u001b[0mmode\u001b[0m\u001b[0;34m,\u001b[0m \u001b[0mbuffering\u001b[0m\u001b[0;34m=\u001b[0m\u001b[0;36m0\u001b[0m\u001b[0;34m)\u001b[0m\u001b[0;34m\u001b[0m\u001b[0;34m\u001b[0m\u001b[0m\n\u001b[0m\u001b[1;32m    393\u001b[0m \u001b[0;34m\u001b[0m\u001b[0m\n\u001b[1;32m    394\u001b[0m \u001b[0;34m\u001b[0m\u001b[0m\n",
      "\u001b[0;31mFileNotFoundError\u001b[0m: [Errno 2] No such file or directory: '/Users/sophiarisin/Dropbox/Mac (2)/Desktop/research/cmb/catelogues/COM_CompMap_CIB-GNILC-F545_2048_R2.00.fits'"
     ]
    }
   ],
   "source": [
    "CIB_map = hp.read_map('/Users/sophiarisin/Dropbox/Mac (2)/Desktop/research/cmb/catelogues/COM_CompMap_CIB-GNILC-F545_2048_R2.00.fits')        # read CIB map\n",
    "CIB_mask = hp.read_map('/Users/sophiarisin/Dropbox/Mac (2)/Downloads/cib_mask.fits')                                    # read CIB mask\n",
    "\n",
    "CIB_masked = hp.ma(CIB_map)\n",
    "CIB_masked.mask = np.logical_not(CIB_mask)\n",
    "hp.mollview(CIB_masked)"
   ]
  },
  {
   "cell_type": "code",
   "execution_count": null,
   "id": "acfe5abe-3764-4f25-abb6-c82c36124e16",
   "metadata": {
    "tags": []
   },
   "outputs": [],
   "source": [
    "\n",
    "from astropy.io import fits\n",
    "import pandas as pd\n",
    "import numpy as np\n",
    "import matplotlib.pyplot as pl\n",
    "\n",
    "def read_nobs_pyfits(filename):\n",
    "    with fits.open(filename, memmap=True) as hdul:\n",
    "        data = (hdul[1].data)\n",
    "        return np.shape(data)[0], hdul[1].columns.names\n",
    "\n",
    "def read_test_pyfits(filename, colname):\n",
    "    with fits.open(filename, memmap=True) as hdul:\n",
    "        data = (hdul[1].data[colname])\n",
    "        return data.copy()\n",
    "\n",
    "def get_BOSS_data(gal):\n",
    "    nObs, cols = read_nobs_pyfits(gal)\n",
    "    colnames = [x for x in cols if x in ['ID', 'RA', 'DEC', 'Z', 'NZ', 'BOSS_SPECOBJ_ID',\n",
    "                                         'BOSS_TARGET1', 'BOSS_TARGET2', 'EBOSS_TARGET0', 'ZOFFSET', 'TARGETOBJID',\n",
    "                                         'OBJID', 'PLUG_RA', 'PLUG_DEC', 'Z']]\n",
    "    ncols = len(colnames)\n",
    "    myGalaxy = pd.DataFrame(data=np.zeros([nObs, ncols]), columns=colnames)\n",
    "    for rowname in myGalaxy.columns:\n",
    "        myGalaxy[rowname] = read_test_pyfits(gal, rowname).byteswap().newbyteorder()\n",
    "    print(myGalaxy.columns)\n",
    "    myGalaxy = myGalaxy.sort_values(by=['Z'])\n",
    "    return myGalaxy\n",
    "\n",
    "\n",
    "\n",
    "boss_catalog_path_s = '/Users/sophiarisin/Dropbox/Mac (2)/Desktop/research/cmb/catelogues/galaxy_DR12v5_CMASS_South.fits'\n",
    "boss_catalog_path_n = '/Users/sophiarisin/Dropbox/Mac (2)/Desktop/research/cmb/catelogues/galaxy_DR12v5_CMASS_North.fits'\n",
    "# Load the relevant entries of the catalog (we will be mostly concerned with RA, DEC, and redshift)\n",
    "boss_catalog_s = get_BOSS_data(boss_catalog_path_s)\n",
    "boss_catalog_n = get_BOSS_data(boss_catalog_path_n)\n",
    "\n",
    "# Load the relevant entries of the catalog (we will be mostly concerned with RA, DEC, and redshift)\n",
    "datas = get_BOSS_data(boss_catalog_path_s)\n",
    "datan = get_BOSS_data(boss_catalog_path_n)\n",
    "datas = pd.DataFrame(datas)\n",
    "datasmodd = pd.DataFrame(datas[(datas.Z > .4) * (datas.Z < .5)])\n",
    "datanmodd = pd.DataFrame(datan[(datan.Z > .4) * (datan.Z < .5)])\n",
    "\n",
    "modtot = pd.concat([datanmodd,datasmodd])\n",
    "modtot\n",
    "#datas = np.where([(datas.Z > .4) * (datas.Z < .5)])\n",
    "#datan= get_BOSS_data(boss_catalog_path_n)\n"
   ]
  },
  {
   "cell_type": "code",
   "execution_count": null,
   "id": "b264a13e-d085-4a1d-86a8-094acb56c84f",
   "metadata": {
    "tags": []
   },
   "outputs": [],
   "source": [
    "nside = 2048\n",
    "\n",
    "npix = hp.nside2npix(nside)\n",
    "# Go from HEALPix coordinates to indices, implicitly converting to galactic coordinates\n",
    "c_icrs_s = SkyCoord(ra=modtot['RA']*u.degree, dec=modtot['DEC']*u.degree, frame='icrs')\n",
    "indices = hp.ang2pix(nside, c_icrs_s.galactic.l.value, c_icrs_s.galactic.b.value, lonlat=True)\n",
    "#c_icrs_n = SkyCoord(ra=datan['RA']*u.degree, dec=datan['DEC']*u.degree, frame='icrs')\n",
    "#indices = hp.ang2pix(nside, c_icrs_n.galactic.l.value, c_icrs_n.galactic.b.value, lonlat=True)\n",
    "\n",
    "# Initate the map and fill it with the values\n",
    "gal_hpmap = np.zeros(npix, dtype=np.float)\n",
    "# Assign sources to pixels\n",
    "np.add.at(gal_hpmap, indices, 1)\n",
    "\n",
    "print(np.sum(gal_hpmap))\n",
    "\n",
    "def get_dn_from_map(gal_hpmap):\n",
    "    ''' Convert a galaxy number map obtained using get_map_from_catalog() to one of fractional\n",
    "        overdensity. Return also the mask\n",
    "    ''' \n",
    "    #Total number counts. Should convert to delta_n/n. Make a mask first!\n",
    "    gal_downgraded = hp.ud_grade(gal_hpmap, 64)\n",
    "    gal_mask = np.zeros(len(gal_downgraded))\n",
    "    gal_mask[(gal_downgraded > 0)] = 1\n",
    "    nside = hp.npix2nside(len(gal_hpmap))\n",
    "    gal_mask = hp.ud_grade(gal_mask, nside) # bring it back to the original resolution\n",
    "    \n",
    "    # Convert to delta_n / n (fractional fluctuations: this is what we can predict from theory)\n",
    "    mean_gal = np.sum(gal_hpmap * gal_mask) / np.sum(gal_mask)\n",
    "    gal_masked_dn = (gal_hpmap * gal_mask) / mean_gal - 1.\n",
    "    gal_masked_dn = gal_mask * gal_masked_dn\n",
    "    return gal_masked_dn, gal_mask\n",
    "\n",
    "\n",
    "gal_dn, gal_mask = get_dn_from_map(gal_hpmap)\n",
    "\n",
    "hp.mollview(gal_dn)\n",
    "\n",
    "gal_dn.max()\n",
    "print(npix)"
   ]
  },
  {
   "cell_type": "code",
   "execution_count": null,
   "id": "02a8e52f-84b4-448f-ba5f-2839f05eeb9b",
   "metadata": {
    "tags": []
   },
   "outputs": [],
   "source": [
    "CMASS_map = gal_hpmap # mask should be made from regular density \n",
    "CMASS_downgraded = hp.ud_grade(CMASS_map, 64)\n",
    "CMASS_mask = np.zeros(len(CMASS_downgraded))\n",
    "CMASS_mask[(CMASS_downgraded > 0)] = 1\n",
    "CMASS_mask = hp.ud_grade(CMASS_mask, N_side) # bring it back to the original resolution\n",
    "hp.mollview(CMASS_mask,)\n",
    "coord= ['G','C']\n",
    "# Convert to a masked array for better plotting\n",
    "CMASS_masked_dn = hp.ma(gal_dn)\n",
    "CMASS_masked_dn.mask = np.logical_not(CMASS_mask)\n",
    "hp.mollview(hp.ud_grade(CMASS_masked_dn,64), title =' .6 < z <.8')"
   ]
  },
  {
   "cell_type": "code",
   "execution_count": null,
   "id": "185b8192-6c5b-4ca2-9641-22d205c7bb3c",
   "metadata": {
    "tags": []
   },
   "outputs": [],
   "source": [
    "# The \"total\" mask is product of PLANCK and CMASS masks\n",
    "mask_tot = CMASS_mask * CIB_mask\n",
    "fsky = np.sum(mask_tot) / len(mask_tot) # fsky for the cross-correlation\n",
    "fsky_CIB = np.sum(CIB_mask) / len(CIB_mask)\n",
    "fsky_CMASS = np.sum(CMASS_mask) / len(CMASS_mask)\n",
    "print(\"f_sky cross = \" + str(fsky))\n",
    "print(\"f_sky CIB = \" + str(fsky_CIB))\n",
    "print(\"f_sky CMASS = \" + str(fsky_CMASS))"
   ]
  },
  {
   "cell_type": "code",
   "execution_count": null,
   "id": "690c9eb8-5968-416c-899f-a3656a185231",
   "metadata": {
    "tags": []
   },
   "outputs": [],
   "source": [
    "Cl_cross = hp.anafast(CIB_masked, map2 = CMASS_masked_dn, lmax = 2000)\n",
    "ls = np.arange(len(Cl_cross))\n",
    "pixwinf = hp.pixwin(N_side)[0:len(Cl_cross)]\n",
    "# further divide by one power of beam\n",
    "Cl_cross = Cl_cross / (pixwinf **2)                # Remove pixel window function\n",
    "Cl_cross = Cl_cross / fsky                         # Undo the dilution caused by having observed only part of the sky"
   ]
  },
  {
   "cell_type": "code",
   "execution_count": null,
   "id": "100b78cc-c2f2-450d-8bd7-987d0b1b46a5",
   "metadata": {
    "tags": []
   },
   "outputs": [],
   "source": [
    "# Same as before!\n",
    "Cl_CIB = hp.anafast(CIB_masked, lmax = 2000)\n",
    "Cl_CMASS = hp.anafast(CMASS_masked_dn, lmax = 2000)\n",
    "Cl_CIB = Cl_CIB / (pixwinf **2)\n",
    "Cl_CMASS = Cl_CMASS / (pixwinf **2)\n",
    "Cl_CIB = Cl_CIB / fsky_CIB\n",
    "Cl_CMASS = Cl_CMASS / fsky_CMASS"
   ]
  },
  {
   "cell_type": "code",
   "execution_count": null,
   "id": "2bfd0c52-7277-419b-a550-b8b565e62f32",
   "metadata": {
    "tags": []
   },
   "outputs": [],
   "source": [
    "corrbins = pd.DataFrame({'l': ls, 'cl': Cl_cross, 'cib': Cl_CIB, 'cmass': Cl_CMASS})\n",
    "\n",
    "#size it up \n",
    "things = (pd.DataFrame(corrbins[(corrbins.l > 100) * (corrbins.l < 1000)]))\n",
    "things = things.dropna()\n",
    "df = things.reset_index(drop=True)\n",
    "dfo = abs(df)\n",
    "dfo = np.log(dfo)\n",
    "\n",
    "\n",
    "l = df['l']\n",
    "llog = dfo['l']\n",
    "cllog = dfo['cl']\n",
    "#llog = np.log(l)\n",
    "cl = df['cl']\n",
    "cib = df['cib']\n",
    "cmass = df['cmass']\n",
    "\n",
    "zs = modtot['Z']\n",
    "gdndz = np.array(plt.hist(zs))"
   ]
  },
  {
   "cell_type": "code",
   "execution_count": null,
   "id": "8dcbdecb-d99f-49de-88ca-0f1ce9b97106",
   "metadata": {
    "tags": []
   },
   "outputs": [],
   "source": [
    "# this bins the data that we use for running our mcmc in the end \n",
    "Nbins = 5\n",
    "lmin = 300\n",
    "lmax = 1000\n",
    "\n",
    "bins = np.round(np.linspace(lmin, lmax, Nbins+1))   # Bin edges\n",
    "bins = bins.astype(int)\n",
    "lcenterbin = np.zeros(len(bins)-1)\n",
    "binned_cross = np.zeros(len(bins)-1)\n",
    "binned_CIB = np.zeros(len(bins)-1)\n",
    "binned_CMASS = np.zeros(len(bins)-1)\n",
    "\n",
    "for k in range(0, len(bins)-1):  \n",
    "    lmaxvec = np.arange(bins[k], bins[k+1], 1)\n",
    "    lcenterbin[k] = np.round(0.5 * (bins[k] + bins[k+1]))   # bin center\n",
    "    for l in lmaxvec:\n",
    "        binned_cross[k] += Cl_cross[l]\n",
    "    binned_cross[k] = binned_cross[k] / len(lmaxvec)\n",
    "\n",
    "for k in range(0, len(bins)-1): \n",
    "    lmaxvec = np.arange(bins[k], bins[k+1], 1)\n",
    "    for l in lmaxvec:\n",
    "        binned_CIB[k] += Cl_CIB[l]\n",
    "    binned_CIB[k] = binned_CIB[k] / len(lmaxvec)\n",
    "\n",
    "for k in range(0, len(bins)-1): \n",
    "    lmaxvec = np.arange(bins[k], bins[k+1], 1)\n",
    "    for l in lmaxvec:\n",
    "        binned_CMASS[k] += Cl_CMASS[l]\n",
    "    binned_CMASS[k] = binned_CMASS[k] / len(lmaxvec)\n",
    "    \n",
    "    sigmavecth = np.zeros(len(bins)-1)\n",
    "for k in range(0, len(bins)-1):\n",
    "    lmaxvec = np.arange(bins[k], bins[k+1], 1)\n",
    "    for l in lmaxvec:\n",
    "        sigmavecth[k] += fsky * (2. * l + 1.) / (Cl_CIB[l] * Cl_CMASS[l] + Cl_cross[l]**2)\n",
    "    sigmavecth[k] = 1. / sigmavecth[k]\n",
    "sigmavecth = np.sqrt(sigmavecth)"
   ]
  },
  {
   "cell_type": "markdown",
   "id": "d8089cda-14c4-4071-8572-40d459280e47",
   "metadata": {},
   "source": [
    "this part of the notebook gets the covariance"
   ]
  },
  {
   "cell_type": "code",
   "execution_count": null,
   "id": "4538af84-ed0c-4fa0-80b8-f2a376eb7cc4",
   "metadata": {
    "tags": []
   },
   "outputs": [],
   "source": [
    "def var_gg(cgg,l)\n",
    "    f_sky_cross = 0.249634150739921\n",
    "    f_sky_CIB = 0.5787552197774252\n",
    "    f_sky_CMASS = 0.2552083333333333\n",
    "    return ((2*cgg)/((2*l+1)*(f_sky_CMASS)))\n",
    "def var_ig(cii,cgg,cig,l)\n",
    "    f_sky_cross = 0.249634150739921\n",
    "    f_sky_CIB = 0.5787552197774252\n",
    "    f_sky_CMASS = 0.2552083333333333\n",
    "    return (cgg*cii+cig**2)/((2*l+1)*f_sky_cross)\n",
    "\n",
    "def cov_cgg_cgi(cii,cgg,l)\n",
    "    f_sky_cross = 0.249634150739921\n",
    "    f_sky_CIB = 0.5787552197774252\n",
    "    f_sky_CMASS = 0.2552083333333333\n",
    "    return (2*cgg*cig)/((2*l+1)*f_sky_CMASS)"
   ]
  },
  {
   "cell_type": "code",
   "execution_count": null,
   "id": "20a34cf3-cc20-48b5-ba4e-38a0df533544",
   "metadata": {
    "tags": []
   },
   "outputs": [],
   "source": [
    "a=0\n",
    "b = 0\n",
    "c = 0\n",
    "jp =0 \n",
    "d = 0\n",
    "e = 0\n",
    "f = 0\n",
    "g = 0\n",
    "p = 0\n",
    "r= 0\n",
    "q= 0\n",
    "k = 0\n",
    "ells = np.arange(0,701)\n",
    "for i in ells:\n",
    "    if 0 <= i < 140:\n",
    "        a_l = var_gg[i]\n",
    "        b_l = var_ig[i]\n",
    "        a += 1/a_l\n",
    "        a = 1/a\n",
    "        b += 1/b_l\n",
    "        b = 1/b\n",
    "    elif 140 <= i < 280:\n",
    "        j_l = var_gg[i]\n",
    "        d_l = var_ig[i]\n",
    "        jj = cov_cgg_cgi[i]\n",
    "        jp += 1/j_l\n",
    "        jp = 1/jp\n",
    "        d += 1/d_l\n",
    "        d = 1/d\n",
    "        e += (jj/(j_l*d_l))\n",
    "        fc = (jp)*(d)*(e)\n",
    "    elif 280 <= i < 420:\n",
    "        f_l = var_gg[i]\n",
    "        g_l = var_ig[i]\n",
    "        h = cov_cgg_cgi[i]\n",
    "        f += 1/f_l\n",
    "        f = 1/f\n",
    "        g += 1/g_l\n",
    "        g = 1/g\n",
    "        h += (h/(f_l*g_l))\n",
    "        aac = (f)*(g)*(h)\n",
    "    elif 420 <= i < 560:\n",
    "        p_l = var_gg[i]\n",
    "        k_l = var_ig[i]\n",
    "        n = cov_cgg_cgi[i]\n",
    "        p += 1/p_l\n",
    "        p = 1/p\n",
    "        k += 1/k_l\n",
    "        k = 1/k\n",
    "        n += (n/(p_l*k_l))\n",
    "        hc = (n)*(p)*(k)\n",
    "    elif 560 <=i < 700:\n",
    "        q_l = var_gg[i]\n",
    "        r_l = var_ig[i]\n",
    "        s = cov_cgg_cgi[i]\n",
    "        q += 1/q_l\n",
    "        q = 1/q\n",
    "        r += 1/r_l\n",
    "        r = 1/r\n",
    "        s += (s/(q_l*r_l))\n",
    "        sc = (s)*(q)*(r)\n",
    "binnedvar = np.array([b,d,g,k,r])"
   ]
  },
  {
   "cell_type": "markdown",
   "id": "e354d5a7-6e9f-4e06-8d56-355d347e3d28",
   "metadata": {},
   "source": [
    "now ml part"
   ]
  },
  {
   "cell_type": "code",
   "execution_count": null,
   "id": "f59f70ae-19eb-48d3-954b-c66852b891fd",
   "metadata": {
    "tags": []
   },
   "outputs": [],
   "source": [
    "def theory(theta,l_min,l_max,bins):\n",
    "    '''\n",
    "    x is Log M_eff\n",
    "    y is L0\n",
    "    this function takes in theta and returns an array of the C_ls for galaxy and the CIB\n",
    "    at the center of the given redshift bins\n",
    "    the number of elements must match the number of elements in the data\n",
    "    this function is a big big big function but takes in, l range, theta, number of bins\n",
    "    and returns the c_l gg, cl gi, cov, cov inverse, yea\n",
    "    \n",
    "    gdndz, and zs come from the eBOSS galaxy catelogue\n",
    "    requires: hcos, hmvec\n",
    "    be sure to run this per each redshift bin\n",
    "    this is specific the version to run for the mcmc <3\n",
    "    '''\n",
    "\n",
    "    ells = np.arange(3000)\n",
    "    cib_freq = 545 * 1e9\n",
    "\n",
    "\n",
    "    zs = np.linspace(.4, .5, 10) # make this variable\n",
    "    ms = np.geomspace(1e10, 1e17, 20) # revisit the webb sky, \n",
    "    #lower mass limit and see if the disagreement goes away \n",
    "    ks = np.geomspace(1e-4, 100, 100)\n",
    "\n",
    "    hcos = hm.HaloModel(zs, ks, ms=ms)\n",
    "    hcos.set_cibParams('vierro')\n",
    "\n",
    "        # a and b are the z range\n",
    "    hcos.cib_params['alpha'] = 0.2\n",
    "    hcos.cib_params['beta'] = 1.6\n",
    "    hcos.cib_params['gamma'] = 1.7  # not in Viero, so using Planck13\n",
    "    hcos.cib_params['delta'] = 2.4\n",
    "    hcos.cib_params['Td_o'] = 20.7\n",
    "    x = hcos.cib_params['logM_eff']\n",
    "    hcos.cib_params['var'] = 0.3\n",
    "    y = hcos.cib_params['L_o'] \n",
    "    hcos.add_hod(name=\"CMASS\", mthresh=10**12 + zs*0.)\n",
    "        \n",
    "    # this is for the c_gg, make these inputs\n",
    "    gdndz = gdndz[0]\n",
    "    zs = gdndz[1]\n",
    "\n",
    "    Pgg_1h = hcos.get_power_1halo('CMASS', 'CMASS', nu_obs=np.array([cib_freq]))\n",
    "    Pgg_2h = hcos.get_power_2halo('CMASS', 'CMASS', nu_obs=np.array([cib_freq]))\n",
    "\n",
    "    Cl_gg_1h = hcos.C_gg(ells, hcos.zs, hcos.ks, Pgg_1h, gzs=zs, gdndz=gdndz)\n",
    "    Cl_gg_2h = hcos.C_gg(ells, hcos.zs, hcos.ks, Pgg_2h, gzs=zs, gdndz=gdndz)\n",
    "    tot_gg = Cl_gg_1h + Cl_gg_2h # add the halos together\n",
    "    # for the cl gi\n",
    "    PgI_1h = hcos.get_power_1halo('CMASS', 'cib', nu_obs=np.array([cib_freq]))\n",
    "    PgI_2h = hcos.get_power_2halo('CMASS', 'cib', nu_obs=np.array([cib_freq]))\n",
    "\n",
    "    Cl_gI_1h = hcos.C_gI(ells, hcos.zs, hcos.ks, PgI_1h, gzs=zs, gdndz= gdndz)\n",
    "    Cl_gI_2h = hcos.C_gI(ells, hcos.zs, hcos.ks, PgI_2h, gzs=zs, gdndz= gdndz)\n",
    "    \n",
    "    # need to end up with one vector thats c_gi for each l bin, c_gg for each l bin\n",
    "    tot_gi = Cl_gI_1h + Cl_gI_2h\n",
    "    #370.0,510.0,650.0,790.0, 930.0\n",
    "    baba = np.array([tot_gi[370],tot_gi[510],tot_gi[650],tot_gi[790],tot_gi[930]])\n",
    "        \n",
    "    return baba"
   ]
  },
  {
   "cell_type": "code",
   "execution_count": null,
   "id": "4bd848b7-93d9-42c7-86c3-b8c6588e368e",
   "metadata": {
    "tags": []
   },
   "outputs": [],
   "source": [
    "dat = np.array([1.506013e-08, 1.593685e-08,1.071126e-08, 1.097310e-08, 5.175340e-09]) # this is the data\n",
    "cov = np.diag(binnedvar)\n",
    "\n",
    "# this is your covariance matrix\n",
    "cinv = np.linalg.inv(cov) # inverse covariance matrix"
   ]
  },
  {
   "cell_type": "code",
   "execution_count": null,
   "id": "c9dd66b8-df31-4798-a2cf-5d48ad30c47b",
   "metadata": {
    "tags": []
   },
   "outputs": [],
   "source": [
    "def model(theta, dat = dat):\n",
    "    x,y =  theta \n",
    "    return theory(theta,300,1000,5)\n",
    "def lnprior(theta):\n",
    "    x,y =  theta \n",
    "    return 0.0\n",
    "def lnlike(theta,cinv,cov,dat = dat):\n",
    "    thy = theory(theta,300,1000,5) # this works dimensionally\n",
    "    diff = thy-dat\n",
    "    return -np.dot(diff,np.dot(cinv,diff))/2\n",
    "def lnprob(theta):\n",
    "    lp = lnlike(theta,cinv,cov)\n",
    "    print(lp)\n",
    "    if lp == -np.inf:\n",
    "        return -np.inf\n",
    "    #print(lp + lnprior(theta))\n",
    "    return lp + lnprior(theta)"
   ]
  },
  {
   "cell_type": "code",
   "execution_count": null,
   "id": "0eae1828-9051-4506-997d-df4da6b0051d",
   "metadata": {
    "tags": []
   },
   "outputs": [],
   "source": [
    "def main(p0,nwalkers,niter,ndim,lnprob,data):\n",
    "    sampler =  emcee.EnsembleSampler(nwalkers,ndim, lnprob, args = data)\n",
    "    print('running baybee..')\n",
    "    p0, _, _, _= sampler.run_mcmc(p0,1)\n",
    "    sampler.reset()\n",
    "    \n",
    "    print( 'running prod')\n",
    "    pos, prob, state, _ =  sampler.run_mcmc(p0,niter)\n",
    "    print('done!')\n",
    "    return sampler, pos, prob, state"
   ]
  },
  {
   "cell_type": "code",
   "execution_count": null,
   "id": "f5a6ca8d-502c-4cec-ad59-c7983c97e9f7",
   "metadata": {
    "tags": []
   },
   "outputs": [],
   "source": [
    "data = (dat,cov,cinv)\n",
    "nwalkers = 10\n",
    "niter = 2\n",
    "# set n walkers\n",
    "# set niter \n",
    "initial = np.array([2e-7,12.3]) # these come from the initial vierro params\n",
    "ndim = 2 # only 2 params so 2 dim\n",
    "p0 = [np.array(initial) + np.random.randn(ndim) for i in range(nwalkers)]"
   ]
  },
  {
   "cell_type": "code",
   "execution_count": null,
   "id": "052ec7f9-9e29-4483-bb71-ebf4c412b4e9",
   "metadata": {
    "tags": []
   },
   "outputs": [],
   "source": [
    "sampler, pos, prob, state = main(p0,nwalkers,niter,ndim,lnlike,data)\n",
    "samples = sampler.flatchain"
   ]
  },
  {
   "cell_type": "code",
   "execution_count": null,
   "id": "33e93bac-e617-46c4-8239-07cb9683ae86",
   "metadata": {
    "tags": []
   },
   "outputs": [],
   "source": [
    "labels = ['L_o', 'Log_Meff']\n",
    "fig = corner.corner(samples,show_titles=True,labels=labels,plot_datapoints=True,quantiles=[0.16, 0.5, 0.84])"
   ]
  },
  {
   "cell_type": "code",
   "execution_count": null,
   "id": "124e2929-e021-415b-a89e-5ff1960663bf",
   "metadata": {},
   "outputs": [],
   "source": []
  }
 ],
 "metadata": {
  "kernelspec": {
   "display_name": "NERSC Python",
   "language": "python",
   "name": "python3"
  },
  "language_info": {
   "codemirror_mode": {
    "name": "ipython",
    "version": 3
   },
   "file_extension": ".py",
   "mimetype": "text/x-python",
   "name": "python",
   "nbconvert_exporter": "python",
   "pygments_lexer": "ipython3",
   "version": "3.9.7"
  }
 },
 "nbformat": 4,
 "nbformat_minor": 5
}
