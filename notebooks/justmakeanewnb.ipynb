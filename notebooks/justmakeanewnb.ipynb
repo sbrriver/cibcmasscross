{
 "cells": [
  {
   "cell_type": "code",
   "execution_count": 1,
   "id": "ba15532f-9c24-45d0-b337-8391a382a938",
   "metadata": {},
   "outputs": [],
   "source": [
    "# import dependencies\n",
    "import numpy as np\n",
    "import pandas as pd\n",
    "import emcee"
   ]
  },
  {
   "cell_type": "code",
   "execution_count": null,
   "id": "a83c588b-3c95-4b6b-a5f3-a1fbc3a39a89",
   "metadata": {},
   "outputs": [],
   "source": [
    "def log_prob(l,cig, cov):\n",
    "    # here goes defining cig for a given l\n",
    "    return cig * cov # something like this?"
   ]
  },
  {
   "cell_type": "code",
   "execution_count": null,
   "id": "ad720aae-542b-405e-a749-8a24cfd68143",
   "metadata": {},
   "outputs": [],
   "source": [
    "ndim = 2 # bc for the first iteration were looking at 2 parameters\n"
   ]
  }
 ],
 "metadata": {
  "kernelspec": {
   "display_name": "NERSC Python",
   "language": "python",
   "name": "python3"
  },
  "language_info": {
   "codemirror_mode": {
    "name": "ipython",
    "version": 3
   },
   "file_extension": ".py",
   "mimetype": "text/x-python",
   "name": "python",
   "nbconvert_exporter": "python",
   "pygments_lexer": "ipython3",
   "version": "3.9.7"
  }
 },
 "nbformat": 4,
 "nbformat_minor": 5
}
