{
 "cells": [
  {
   "cell_type": "code",
   "execution_count": 1,
   "id": "f82e527b-19e6-4b71-9b4c-c2585b4c3108",
   "metadata": {},
   "outputs": [],
   "source": [
    "# the good ol data prep nb!\n",
    "# need to get cov and bin the cov"
   ]
  },
  {
   "cell_type": "code",
   "execution_count": 1,
   "id": "98991ecc-d494-4f34-b207-ad0dc24148f1",
   "metadata": {},
   "outputs": [],
   "source": [
    "import pandas as pd\n",
    "import numpy as np"
   ]
  },
  {
   "cell_type": "code",
   "execution_count": 2,
   "id": "d54122c8-d7b1-4a78-b669-30c2707ee481",
   "metadata": {},
   "outputs": [
    {
     "ename": "SyntaxError",
     "evalue": "invalid syntax (785916571.py, line 3)",
     "output_type": "error",
     "traceback": [
      "\u001b[0;36m  File \u001b[0;32m\"/tmp/ipykernel_940151/785916571.py\"\u001b[0;36m, line \u001b[0;32m3\u001b[0m\n\u001b[0;31m    var_ii = (2cii)/((2*l+1)(fskyii))\u001b[0m\n\u001b[0m               ^\u001b[0m\n\u001b[0;31mSyntaxError\u001b[0m\u001b[0;31m:\u001b[0m invalid syntax\n"
     ]
    }
   ],
   "source": [
    "def cov_mat(l,cgg,cll,cig):\n",
    "    # cgg, cll, and cig are going to be the valeus pre bin?\n",
    "    var_ii = (2cii)/((2*l+1)(fskyii))\n",
    "    var_gg = (2cgg)/((2*l+1)(f_skygg))\n",
    "    var_ig = (cgg*cii+cgi**2)/((2*l+1)*f_skygi)\n",
    "    cov(cgg,cii) = (f_skygi*2*cgi)/((f_skygg * f_skyii)*(2*l+1))\n",
    "    cov(cgg,cgi) = (2*cgg*cgi)/((2*l+1)*f_skygg)\n",
    "    cov(cii,cgi) = (2*cii*cgi)/((2*l+1)*f_skyii)"
   ]
  },
  {
   "cell_type": "code",
   "execution_count": null,
   "id": "f63041ce-9a1a-4184-a77c-d57134c05dec",
   "metadata": {},
   "outputs": [],
   "source": []
  },
  {
   "cell_type": "code",
   "execution_count": null,
   "id": "ae9b07a0-e0cb-42a3-9c88-00bb67e0dd8d",
   "metadata": {},
   "outputs": [],
   "source": [
    "# code it up for each l and then sum it up for the binned "
   ]
  },
  {
   "cell_type": "code",
   "execution_count": 2,
   "id": "60db6a11-072f-482d-8c4e-f4e6096edbf7",
   "metadata": {},
   "outputs": [],
   "source": [
    "def cov_mat_nocib(cii,cgg,cig):\n",
    "    f_sky_cross = 0.249634150739921\n",
    "    f_sky_CIB = 0.5787552197774252\n",
    "    f_sky_CMASS = 0.2552083333333333\n",
    "\n",
    "    # cgg, cll, and cig are going to be the valeus pre bin?\n",
    "    var_gg = (2*cgg)/((2*l+1)(f_sky_CMASS))\n",
    "    var_ig = (cgg*cii+cgi**2)/((2*l+1)*f_sky_cross)\n",
    "    cov_cgg_cgi = (2*cgg*cgi)/((2*l+1)*f_sky_CMASS)\n",
    "    return var_gg,var_ig,cov_cgg_cgi"
   ]
  },
  {
   "cell_type": "code",
   "execution_count": 3,
   "id": "3d5fe6d5-0a49-4de3-b3bd-452a2188913b",
   "metadata": {},
   "outputs": [],
   "source": [
    "# binn covariance\n",
    "\n",
    "nbin = 5\n",
    "min_l = 300\n",
    "max_l = 1000\n",
    "\n",
    "size_bin = (max_l-min_l)/nbin"
   ]
  },
  {
   "cell_type": "code",
   "execution_count": null,
   "id": "7a17e35b-53a4-4897-960d-fb19418879d8",
   "metadata": {},
   "outputs": [],
   "source": [
    "def cov_mat_nocib(cii,cgg,cig,l):\n",
    "    f_sky_cross = 0.249634150739921\n",
    "    f_sky_CIB = 0.5787552197774252\n",
    "    f_sky_CMASS = 0.2552083333333333\n",
    "\n",
    "    var_gg = (2*cgg)/((2*l+1)*(f_sky_CMASS))\n",
    "    var_ig = (cgg*cii+cig**2)/((2*l+1)*f_sky_cross)\n",
    "    cov_cgg_cgi = (2*cgg*cig)/((2*l+1)*f_sky_CMASS)\n",
    "    a = np.array([var_gg,cov_cgg_cgi])\n",
    "    b = np.array([cov_cgg_cgi,var_ig])\n",
    "    return a,b\n",
    "\n",
    "ells = np.arange(3000)\n",
    "b = []\n",
    "for l in ells:\n",
    "    clcib_l = Cl_CIB[l]\n",
    "    clcmass_l = Cl_CMASS[l]\n",
    "    clcross_l = Cl_cross[l]\n",
    "    y = cov_mat_nocib(clcib_l,clcmass_l,clcross_l,l)"
   ]
  }
 ],
 "metadata": {
  "kernelspec": {
   "display_name": "NERSC Python",
   "language": "python",
   "name": "python3"
  },
  "language_info": {
   "codemirror_mode": {
    "name": "ipython",
    "version": 3
   },
   "file_extension": ".py",
   "mimetype": "text/x-python",
   "name": "python",
   "nbconvert_exporter": "python",
   "pygments_lexer": "ipython3",
   "version": "3.9.7"
  }
 },
 "nbformat": 4,
 "nbformat_minor": 5
}
