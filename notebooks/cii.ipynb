{
 "cells": [
  {
   "cell_type": "markdown",
   "metadata": {},
   "source": [
    "### CII (cib x cib)"
   ]
  },
  {
   "cell_type": "code",
   "execution_count": 2,
   "metadata": {},
   "outputs": [],
   "source": [
    "# install dependencies\n",
    "\n",
    "import emcee\n",
    "import matplotlib.pyplot as plt\n",
    "import numpy as np\n",
    "import os, sys, shutil\n",
    "import pandas as pd\n",
    "\n",
    "pkdir = \"/pscratch/sd/s/sbrisin/cibcmass/hmvec\"\n",
    "sys.path.insert(0,pkdir)\n",
    "\n",
    "#import hmvec as hm\n",
    "from hmvec import hmvec as hm \n",
    "from scipy.interpolate import interp1d"
   ]
  },
  {
   "cell_type": "code",
   "execution_count": 3,
   "metadata": {},
   "outputs": [
    {
     "name": "stderr",
     "output_type": "stream",
     "text": [
      "/pscratch/sd/s/sbrisin/cibcmass/hmvec/hmvec/hmvec.py:994: RuntimeWarning: invalid value encountered in true_divide\n",
      "  ret = Ns**2./Nc\n"
     ]
    }
   ],
   "source": [
    "# CIB frequency in Hz\n",
    "cib_freq = 545 * 1e9\n",
    "\n",
    "zs = np.linspace(0.001,6,20)\n",
    "ms = np.geomspace(1e10,1e17,200)\n",
    "ks = np.geomspace(1e-4,100,1001)\n",
    "hcos = hm.HaloModel(zs,ks,ms=ms)\n",
    "\n",
    "# Initialize CIB halo model # 'vierro' is for the model from arXiv:1208.5049\n",
    "hcos.set_cibParams('vierro')\n",
    "\n",
    "hcos.add_hod(name=\"CMASS\",mthresh=10**12+zs*0.)"
   ]
  },
  {
   "cell_type": "code",
   "execution_count": 13,
   "metadata": {},
   "outputs": [],
   "source": [
    "data = pd.read_csv('crosses.csv')\n",
    "data = pd.DataFrame(data)\n",
    "data\n",
    "\n",
    "cii = data['ciib']\n",
    "l = data['l']"
   ]
  },
  {
   "cell_type": "code",
   "execution_count": 5,
   "metadata": {},
   "outputs": [],
   "source": [
    "hcos.cib_params['alpha'] = 0.2\n",
    "hcos.cib_params['beta'] = 1.6\n",
    "hcos.cib_params['gamma'] = 1.7 # not in Viero, so using Planck13\n",
    "hcos.cib_params['delta'] = 2.4\n",
    "hcos.cib_params['Td_o'] = 20.7\n",
    "hcos.cib_params['logM_eff'] = 12.3 # vqry n sre\n",
    "hcos.cib_params['var'] = 0.3\n",
    "hcos.cib_params['L_o'] = 2e-7 # vary n see n plot w prob"
   ]
  },
  {
   "cell_type": "code",
   "execution_count": 12,
   "metadata": {},
   "outputs": [
    {
     "data": {
      "text/plain": [
       "Text(0.5, 1.0, 'CIB cross CIB')"
      ]
     },
     "execution_count": 12,
     "metadata": {},
     "output_type": "execute_result"
    },
    {
     "data": {
      "image/png": "[encoded data removed]",
      "text/plain": [
       "<Figure size 432x288 with 1 Axes>"
      ]
     },
     "metadata": {
      "needs_background": "light"
     },
     "output_type": "display_data"
    }
   ],
   "source": [
    "ells = np.arange(3000)\n",
    "\n",
    "# 3D cross-spectra of CIB x galaxies at (zs, ks)\n",
    "PiI_1h = hcos.get_power_1halo('cib', nu_obs=np.array([cib_freq])) # put this back in hertz\n",
    "PiI_2h = hcos.get_power_2halo('cib', nu_obs=np.array([cib_freq])) # put this back in hertz\n",
    "# Project to 2D to get the Cls\n",
    "Cl_iI_1h = hcos.C_ii(ells, hcos.zs, hcos.ks, PiI_1h)\n",
    "Cl_iI_2h = hcos.C_ii(ells, hcos.zs, hcos.ks, PiI_2h)\n",
    "# Plot\n",
    "plt.plot((Cl_iI_1h+ Cl_iI_2h ) * 1e-12/(4*np.pi), label='total', ls='-')\n",
    "#plt.plot(Cl_iI_1h  * 1e-12, label='1 halo term', ls='--')\n",
    "#plt.plot(Cl_iI_2h  * 1e-12, label='2 halo term', ls=':')\n",
    "plt.scatter(l,cii)\n",
    "\n",
    "plt.xlabel(r'l')\n",
    "plt.yscale('log')\n",
    "plt.xlim([300,1000])\n",
    "\n",
    "plt.legend()\n",
    "plt.ylabel(r'$C^{II}_l$')\n",
    "plt.title('CIB cross CIB')\n",
    "\n",
    "#in mega jensky ^2 per sr for data"
   ]
  },
  {
   "cell_type": "markdown",
   "metadata": {},
   "source": [
    "### CHECK WHERE THE 4 PI IS FROM"
   ]
  },
  {
   "cell_type": "code",
   "execution_count": 52,
   "metadata": {},
   "outputs": [
    {
     "data": {
      "text/plain": [
       "(300.0, 1000.0)"
      ]
     },
     "execution_count": 52,
     "metadata": {},
     "output_type": "execute_result"
    },
    {
     "data": {
      "image/png": "[encoded data removed]",
      "text/plain": [
       "<Figure size 432x288 with 1 Axes>"
      ]
     },
     "metadata": {
      "needs_background": "light"
     },
     "output_type": "display_data"
    }
   ],
   "source": [
    "plt.plot(Cl_gI_1h + Cl_gI_2h, label='total', ls='-')\n",
    "plt.scatter(l,cggb/(binned_cross + binned_cross2))\n",
    "plt.yscale('log')\n",
    "plt.xlim([300,1000])"
   ]
  },
  {
   "cell_type": "code",
   "execution_count": 61,
   "metadata": {},
   "outputs": [],
   "source": [
    "data = pd.read_csv('crosses.csv')\n",
    "data = pd.DataFrame(data)\n",
    "data\n",
    "\n",
    "lb = data['l']\n",
    "clb = data['cl']\n",
    "cbr = data['err']\n",
    "z  = data['z']\n",
    "\n",
    "lb45 = lb[z == '.4-.5']\n",
    "cl45 = clb[z == '.4-.5']\n",
    "cbr45 = cbr[z == '.4-.5']\n",
    "lb56 =lb[z == '.5-.6']\n",
    "cl56 = clb[z == '.5-.6']\n",
    "cbr56 = cbr[z == '.5-.6']\n",
    "lb68 = lb[z == '.6-.8']\n",
    "cl68 = clb[z == '.6-.8']\n",
    "cbr68 = cbr[z == '.6-.8']"
   ]
  }
 ],
 "metadata": {
  "kernelspec": {
   "display_name": "NERSC Python",
   "language": "python",
   "name": "python3"
  },
  "language_info": {
   "codemirror_mode": {
    "name": "ipython",
    "version": 3
   },
   "file_extension": ".py",
   "mimetype": "text/x-python",
   "name": "python",
   "nbconvert_exporter": "python",
   "pygments_lexer": "ipython3",
   "version": "3.9.7"
  }
 },
 "nbformat": 4,
 "nbformat_minor": 4
}
