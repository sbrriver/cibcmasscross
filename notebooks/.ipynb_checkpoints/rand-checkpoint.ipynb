{
 "cells": [
  {
   "cell_type": "code",
   "execution_count": null,
   "id": "e6981223-7f63-4092-ba55-9bf480ce46d2",
   "metadata": {},
   "outputs": [],
   "source": [
    "#various non used code i wanted to save"
   ]
  },
  {
   "cell_type": "code",
   "execution_count": null,
   "id": "792a679b-d608-439d-8cfa-3fb304a8b433",
   "metadata": {},
   "outputs": [],
   "source": [
    "# this was sorting and doing things to be able to take the r^2\n",
    "data = pd.read_csv(\"crosses.csv\")\n",
    "cgg = data['cggb']\n",
    "l =  data['l']\n",
    "z = data['z']\n",
    "cgg45 = cgg[z == '.4-.5']\n",
    "cgg56 = cgg[z == '.5-.6']\n",
    "cgg68 = cgg[z == '.6-.8']\n",
    "l = l[z == '.4-.5']\n",
    "\n",
    "cggbt = []\n",
    "for i, value in enumerate(l):\n",
    "    x = Cl_gg_1h[i]\n",
    "    y = Cl_gg_2h[i]\n",
    "    z = x + y\n",
    "    cggbt.append(z)\n",
    "print(slm.r2_score(cgg45,cggbt))\n",
    "print(slm.r2_score(cgg56,cggbt))\n",
    "print(slm.r2_score(cgg68,cggbt))"
   ]
  },
  {
   "cell_type": "code",
   "execution_count": null,
   "id": "6ad7a012-4440-4543-a9a0-1d9b621f9e08",
   "metadata": {},
   "outputs": [],
   "source": [
    "# this was how to vary params\n",
    "for i, alpha in enumerate(np.linspace(.1,.6,5)):\n",
    "    hcos.cib_params['alpha'] = alpha\n",
    "    \n",
    "    # Power spectra for CIB x galaxies\n",
    "    PgI_1h = hcos.get_power_1halo('CMASS', 'cib', nu_obs=np.array([cib_freq]))\n",
    "    PgI_2h = hcos.get_power_2halo('CMASS', 'cib', nu_obs=np.array([cib_freq]))\n",
    "    \n",
    "    Cl_gI_1h = hcos.C_gI(ells, hcos.zs, hcos.ks, PgI_1h, gzs = zs, gdndz= np.ones_like(zs))\n",
    "    Cl_gI_2h = hcos.C_gI(ells, hcos.zs, hcos.ks, PgI_2h, gzs = zs, gdndz= np.ones_like(zs))"
   ]
  },
  {
   "cell_type": "code",
   "execution_count": null,
   "id": "7c5af634-3a64-47e3-958a-4f8bc79cb547",
   "metadata": {},
   "outputs": [],
   "source": [
    "# this was how to bin things\n",
    "# for 1 halo first\n",
    "Cl_cross = Cl_gI_1h\n",
    "\n",
    "Nbins = 16\n",
    "lmin = 300\n",
    "lmax = 1000\n",
    "\n",
    "bins = np.round(np.linspace(lmin, lmax, Nbins+1))   # Bin edges\n",
    "bins = bins.astype(int)\n",
    "lcenterbin = np.zeros(len(bins)-1)\n",
    "binned_cross = np.zeros(len(bins)-1)\n",
    "binned_CIB = np.zeros(len(bins)-1)\n",
    "binned_CMASS = np.zeros(len(bins)-1)\n",
    "\n",
    "for k in range(0, len(bins)-1):  \n",
    "    lmaxvec = np.arange(bins[k], bins[k+1], 1)\n",
    "    lcenterbin[k] = np.round(0.5 * (bins[k] + bins[k+1]))   # bin center\n",
    "    for l in lmaxvec:\n",
    "        binned_cross[k] += Cl_cross[l]\n",
    "    binned_cross[k] = binned_cross[k] / len(lmaxvec)"
   ]
  },
  {
   "cell_type": "code",
   "execution_count": null,
   "id": "f696e5b3-7afb-450e-9958-d81f95332a45",
   "metadata": {},
   "outputs": [],
   "source": [
    "# error for the bins\n",
    "fsky = 0.24956215243688107\n",
    "\n",
    "sigmavecth = np.zeros(len(bins)-1)\n",
    "for k in range(0, len(bins)-1):\n",
    "    lmaxvec = np.arange(bins[k], bins[k+1], 1)\n",
    "    for l in lmaxvec:\n",
    "        sigmavecth[k] += fsky * (2. * l + 1.) / (Cl_cross[l]**2)\n",
    "    sigmavecth[k] = 1. / sigmavecth[k]\n",
    "sigmavecth = np.sqrt(sigmavecth)"
   ]
  }
 ],
 "metadata": {
  "kernelspec": {
   "display_name": "NERSC Python",
   "language": "python",
   "name": "python3"
  },
  "language_info": {
   "codemirror_mode": {
    "name": "ipython",
    "version": 3
   },
   "file_extension": ".py",
   "mimetype": "text/x-python",
   "name": "python",
   "nbconvert_exporter": "python",
   "pygments_lexer": "ipython3",
   "version": "3.9.7"
  }
 },
 "nbformat": 4,
 "nbformat_minor": 5
}
