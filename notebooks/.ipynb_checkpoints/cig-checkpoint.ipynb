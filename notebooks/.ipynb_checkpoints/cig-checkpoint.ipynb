{
 "cells": [
  {
   "cell_type": "code",
   "execution_count": 8,
   "metadata": {},
   "outputs": [
    {
     "name": "stdout",
     "output_type": "stream",
     "text": [
      "Defaulting to user installation because normal site-packages is not writeable\n",
      "Collecting corner\n",
      "  Downloading corner-2.2.2-py3-none-any.whl (15 kB)\n",
      "Requirement already satisfied: matplotlib>=2.1 in /global/common/software/nersc/pm-2022q3/sw/python/3.9-anaconda-2021.11/lib/python3.9/site-packages (from corner) (3.5.2)\n",
      "Requirement already satisfied: cycler>=0.10 in /global/common/software/nersc/pm-2022q3/sw/python/3.9-anaconda-2021.11/lib/python3.9/site-packages (from matplotlib>=2.1->corner) (0.11.0)\n",
      "Requirement already satisfied: pillow>=6.2.0 in /global/common/software/nersc/pm-2022q3/sw/python/3.9-anaconda-2021.11/lib/python3.9/site-packages (from matplotlib>=2.1->corner) (9.2.0)\n",
      "Requirement already satisfied: fonttools>=4.22.0 in /global/common/software/nersc/pm-2022q3/sw/python/3.9-anaconda-2021.11/lib/python3.9/site-packages (from matplotlib>=2.1->corner) (4.25.0)\n",
      "Requirement already satisfied: numpy>=1.17 in /global/common/software/nersc/pm-2022q3/sw/python/3.9-anaconda-2021.11/lib/python3.9/site-packages (from matplotlib>=2.1->corner) (1.21.5)\n",
      "Requirement already satisfied: python-dateutil>=2.7 in /global/common/software/nersc/pm-2022q3/sw/python/3.9-anaconda-2021.11/lib/python3.9/site-packages (from matplotlib>=2.1->corner) (2.8.2)\n",
      "Requirement already satisfied: packaging>=20.0 in /global/common/software/nersc/pm-2022q3/sw/python/3.9-anaconda-2021.11/lib/python3.9/site-packages (from matplotlib>=2.1->corner) (21.3)\n",
      "Requirement already satisfied: pyparsing>=2.2.1 in /global/common/software/nersc/pm-2022q3/sw/python/3.9-anaconda-2021.11/lib/python3.9/site-packages (from matplotlib>=2.1->corner) (3.0.9)\n",
      "Requirement already satisfied: kiwisolver>=1.0.1 in /global/common/software/nersc/pm-2022q3/sw/python/3.9-anaconda-2021.11/lib/python3.9/site-packages (from matplotlib>=2.1->corner) (1.4.2)\n",
      "Requirement already satisfied: six>=1.5 in /global/common/software/nersc/pm-2022q3/sw/python/3.9-anaconda-2021.11/lib/python3.9/site-packages (from python-dateutil>=2.7->matplotlib>=2.1->corner) (1.16.0)\n",
      "Installing collected packages: corner\n",
      "Successfully installed corner-2.2.2\n",
      "Note: you may need to restart the kernel to use updated packages.\n"
     ]
    }
   ],
   "source": [
    "pip install corner"
   ]
  },
  {
   "cell_type": "markdown",
   "metadata": {},
   "source": [
    "### CROSSES!!!!"
   ]
  },
  {
   "cell_type": "code",
   "execution_count": 1,
   "metadata": {},
   "outputs": [],
   "source": [
    "# install dependencies\n",
    "\n",
    "import emcee\n",
    "\n",
    "import matplotlib.pyplot as plt\n",
    "import numpy as np\n",
    "import os, sys, shutil\n",
    "import pandas as pd\n",
    "import sklearn.metrics as slm\n",
    "\n",
    "import corner\n",
    "pkdir = \"/pscratch/sd/s/sbrisin/cibcmass/hmvec\"\n",
    "sys.path.insert(0,pkdir)\n",
    "\n",
    "#import hmvec as hm\n",
    "from hmvec import hmvec as hm \n",
    "from scipy.interpolate import interp1d"
   ]
  },
  {
   "cell_type": "code",
   "execution_count": 2,
   "metadata": {},
   "outputs": [
    {
     "name": "stderr",
     "output_type": "stream",
     "text": [
      "/pscratch/sd/s/sbrisin/cibcmass/hmvec/hmvec/hmvec.py:994: RuntimeWarning: invalid value encountered in true_divide\n",
      "  ret = Ns**2./Nc\n"
     ]
    }
   ],
   "source": [
    "# CIB frequency in Hz\n",
    "cib_freq = 545 * 1e9\n",
    "\n",
    "zs = np.linspace(0.4,.5,20)\n",
    "ms = np.geomspace(1e10,1e17,200)\n",
    "ks = np.geomspace(1e-4,100,1001)\n",
    "hcos = hm.HaloModel(zs,ks,ms=ms)\n",
    "\n",
    "# Initialize CIB halo model # 'vierro' is for the model from arXiv:1208.5049\n",
    "hcos.set_cibParams('vierro')\n",
    "\n",
    "hcos.add_hod(name=\"CMASS\",mthresh=10**12+zs*0.)"
   ]
  },
  {
   "cell_type": "code",
   "execution_count": 69,
   "metadata": {},
   "outputs": [
    {
     "data": {
      "text/plain": [
       "16"
      ]
     },
     "execution_count": 69,
     "metadata": {},
     "output_type": "execute_result"
    }
   ],
   "source": [
    "data = pd.read_csv('crosses.csv')\n",
    "data = pd.DataFrame(data)\n",
    "data\n",
    "\n",
    "cig = data['cl']\n",
    "l = data['l']\n",
    "len(l)"
   ]
  },
  {
   "cell_type": "code",
   "execution_count": 3,
   "metadata": {},
   "outputs": [],
   "source": [
    "hcos.cib_params['alpha'] = 0.2\n",
    "hcos.cib_params['beta'] = 1.6\n",
    "hcos.cib_params['gamma'] = 1.7 # not in Viero, so using Planck13\n",
    "hcos.cib_params['delta'] = 2.4\n",
    "hcos.cib_params['Td_o'] = 20.7\n",
    "hcos.cib_params['logM_eff'] = 12.3 # vqry n sre\n",
    "hcos.cib_params['var'] = 0.3\n",
    "hcos.cib_params['L_o'] = 2e-7 # vary n see n plot w prob"
   ]
  },
  {
   "cell_type": "code",
   "execution_count": 71,
   "metadata": {},
   "outputs": [],
   "source": [
    "# thats called priors, can take the best fit from hershel for the range from those error bars"
   ]
  },
  {
   "cell_type": "code",
   "execution_count": 4,
   "metadata": {},
   "outputs": [
    {
     "ename": "NameError",
     "evalue": "name 'l' is not defined",
     "output_type": "error",
     "traceback": [
      "\u001b[0;31m---------------------------------------------------------------------------\u001b[0m",
      "\u001b[0;31mNameError\u001b[0m                                 Traceback (most recent call last)",
      "\u001b[0;32m/tmp/ipykernel_109823/2916357554.py\u001b[0m in \u001b[0;36m<module>\u001b[0;34m\u001b[0m\n\u001b[1;32m     11\u001b[0m \u001b[0;31m#plt.plot(Cl_gI_1h*1e-6, label='1 halo term', ls='--')\u001b[0m\u001b[0;34m\u001b[0m\u001b[0;34m\u001b[0m\u001b[0m\n\u001b[1;32m     12\u001b[0m \u001b[0;31m#plt.plot(Cl_gI_2h*1e-6, label='2 halo term', ls=':')\u001b[0m\u001b[0;34m\u001b[0m\u001b[0;34m\u001b[0m\u001b[0m\n\u001b[0;32m---> 13\u001b[0;31m \u001b[0mplt\u001b[0m\u001b[0;34m.\u001b[0m\u001b[0mscatter\u001b[0m\u001b[0;34m(\u001b[0m\u001b[0ml\u001b[0m\u001b[0;34m,\u001b[0m\u001b[0mcig\u001b[0m\u001b[0;34m)\u001b[0m\u001b[0;34m\u001b[0m\u001b[0;34m\u001b[0m\u001b[0m\n\u001b[0m\u001b[1;32m     14\u001b[0m \u001b[0;34m\u001b[0m\u001b[0m\n\u001b[1;32m     15\u001b[0m \u001b[0mplt\u001b[0m\u001b[0;34m.\u001b[0m\u001b[0mxlabel\u001b[0m\u001b[0;34m(\u001b[0m\u001b[0;34mr'l'\u001b[0m\u001b[0;34m)\u001b[0m\u001b[0;34m\u001b[0m\u001b[0;34m\u001b[0m\u001b[0m\n",
      "\u001b[0;31mNameError\u001b[0m: name 'l' is not defined"
     ]
    },
    {
     "data": {
      "image/png": "[encoded data removed]",
      "text/plain": [
       "<Figure size 432x288 with 1 Axes>"
      ]
     },
     "metadata": {
      "needs_background": "light"
     },
     "output_type": "display_data"
    }
   ],
   "source": [
    "ells = np.arange(3000)\n",
    "\n",
    "# 3D cross-spectra of CIB x galaxies at (zs, ks)\n",
    "PgI_1h = hcos.get_power_1halo('CMASS', \"cib\", nu_obs=np.array([cib_freq])) # put this back in hertz\n",
    "PgI_2h = hcos.get_power_2halo('CMASS', 'cib',nu_obs=np.array([cib_freq])) # put this back in hertz\n",
    "# Project to 2D to get the Cls\n",
    "Cl_gI_1h = hcos.C_gI(ells, hcos.zs, hcos.ks, PgI_1h, gzs = zs, gdndz= np.ones_like(zs))\n",
    "Cl_gI_2h = hcos.C_gI(ells, hcos.zs, hcos.ks, PgI_2h, gzs = zs, gdndz= np.ones_like(zs))\n",
    "# Plot\n",
    "plt.plot((Cl_gI_1h + Cl_gI_2h)*1e-6/np.sqrt(4*np.pi), label='total', ls='-')\n",
    "#plt.plot(Cl_gI_1h*1e-6, label='1 halo term', ls='--')\n",
    "#plt.plot(Cl_gI_2h*1e-6, label='2 halo term', ls=':')\n",
    "plt.scatter(l,cig)\n",
    "\n",
    "plt.xlabel(r'l')\n",
    "plt.yscale('log')\n",
    "plt.xlim([300,1000])\n",
    "\n",
    "plt.legend()\n",
    "plt.ylabel(r'$C^{gI}_l$')\n",
    "#plt.title('CIB cross galaxies')"
   ]
  },
  {
   "cell_type": "markdown",
   "metadata": {},
   "source": [
    "## warning: what??? is the 4 pi"
   ]
  },
  {
   "cell_type": "code",
   "execution_count": 15,
   "metadata": {},
   "outputs": [],
   "source": [
    "data = pd.read_csv(\"crosses.csv\")\n",
    "cgi = data['cl']\n",
    "l =  data['l']\n",
    "z = data['z']\n",
    "cgi45 = cgi[z == '.4-.5']\n",
    "cgi56 = cgi[z == '.5-.6']\n",
    "cgi68 = cgi[z == '.6-.8']\n",
    "l = l[z == '.4-.5']\n",
    "\n",
    "cgibt = []\n",
    "for i, value in enumerate(l):\n",
    "    x = Cl_gI_1h[i]\n",
    "    y = Cl_gI_2h[i]\n",
    "    z = x + y\n",
    "    cgibt.append(z)"
   ]
  },
  {
   "cell_type": "code",
   "execution_count": 16,
   "metadata": {},
   "outputs": [
    {
     "name": "stdout",
     "output_type": "stream",
     "text": [
      "-7.363112467840915e+16\n",
      "-4.6287445403188904e+16\n",
      "-1.1392053328984094e+17\n"
     ]
    }
   ],
   "source": [
    "print(slm.r2_score(cgi45,cgibt))\n",
    "print(slm.r2_score(cgi56,cgibt))\n",
    "print(slm.r2_score(cgi68,cgibt))"
   ]
  },
  {
   "cell_type": "code",
   "execution_count": 17,
   "metadata": {},
   "outputs": [
    {
     "ename": "NameError",
     "evalue": "name 'cggb' is not defined",
     "output_type": "error",
     "traceback": [
      "\u001b[0;31m---------------------------------------------------------------------------\u001b[0m",
      "\u001b[0;31mNameError\u001b[0m                                 Traceback (most recent call last)",
      "\u001b[0;32m/tmp/ipykernel_41347/3407593177.py\u001b[0m in \u001b[0;36m<module>\u001b[0;34m\u001b[0m\n\u001b[1;32m      1\u001b[0m \u001b[0mplt\u001b[0m\u001b[0;34m.\u001b[0m\u001b[0mplot\u001b[0m\u001b[0;34m(\u001b[0m\u001b[0mCl_gI_1h\u001b[0m \u001b[0;34m+\u001b[0m \u001b[0mCl_gI_2h\u001b[0m\u001b[0;34m,\u001b[0m \u001b[0mlabel\u001b[0m\u001b[0;34m=\u001b[0m\u001b[0;34m'total'\u001b[0m\u001b[0;34m,\u001b[0m \u001b[0mls\u001b[0m\u001b[0;34m=\u001b[0m\u001b[0;34m'-'\u001b[0m\u001b[0;34m)\u001b[0m\u001b[0;34m\u001b[0m\u001b[0;34m\u001b[0m\u001b[0m\n\u001b[0;32m----> 2\u001b[0;31m \u001b[0mplt\u001b[0m\u001b[0;34m.\u001b[0m\u001b[0mscatter\u001b[0m\u001b[0;34m(\u001b[0m\u001b[0ml\u001b[0m\u001b[0;34m,\u001b[0m\u001b[0mcggb\u001b[0m\u001b[0;34m/\u001b[0m\u001b[0;34m(\u001b[0m\u001b[0mbinned_cross\u001b[0m \u001b[0;34m+\u001b[0m \u001b[0mbinned_cross2\u001b[0m\u001b[0;34m)\u001b[0m\u001b[0;34m)\u001b[0m\u001b[0;34m\u001b[0m\u001b[0;34m\u001b[0m\u001b[0m\n\u001b[0m\u001b[1;32m      3\u001b[0m \u001b[0mplt\u001b[0m\u001b[0;34m.\u001b[0m\u001b[0myscale\u001b[0m\u001b[0;34m(\u001b[0m\u001b[0;34m'log'\u001b[0m\u001b[0;34m)\u001b[0m\u001b[0;34m\u001b[0m\u001b[0;34m\u001b[0m\u001b[0m\n\u001b[1;32m      4\u001b[0m \u001b[0mplt\u001b[0m\u001b[0;34m.\u001b[0m\u001b[0mxlim\u001b[0m\u001b[0;34m(\u001b[0m\u001b[0;34m[\u001b[0m\u001b[0;36m300\u001b[0m\u001b[0;34m,\u001b[0m\u001b[0;36m1000\u001b[0m\u001b[0;34m]\u001b[0m\u001b[0;34m)\u001b[0m\u001b[0;34m\u001b[0m\u001b[0;34m\u001b[0m\u001b[0m\n",
      "\u001b[0;31mNameError\u001b[0m: name 'cggb' is not defined"
     ]
    },
    {
     "data": {
      "image/png": "[encoded data removed]",
      "text/plain": [
       "<Figure size 432x288 with 1 Axes>"
      ]
     },
     "metadata": {
      "needs_background": "light"
     },
     "output_type": "display_data"
    }
   ],
   "source": [
    "plt.plot(Cl_gI_1h + Cl_gI_2h, label='total', ls='-')\n",
    "plt.scatter(l,cggb/(binned_cross + binned_cross2))\n",
    "plt.yscale('log')\n",
    "plt.xlim([300,1000])"
   ]
  },
  {
   "cell_type": "code",
   "execution_count": null,
   "metadata": {},
   "outputs": [],
   "source": []
  },
  {
   "cell_type": "code",
   "execution_count": 18,
   "metadata": {},
   "outputs": [
    {
     "name": "stdout",
     "output_type": "stream",
     "text": [
      "{'alpha': 0.2, 'beta': 1.6, 'gamma': 1.7, 'delta': 2.4, 'Td_o': 20.7, 'logM_eff': 12.3, 'var': 0.3, 'L_o': 2e-07}\n"
     ]
    }
   ],
   "source": [
    "print(hcos.cib_params)"
   ]
  },
  {
   "cell_type": "code",
   "execution_count": 27,
   "metadata": {},
   "outputs": [],
   "source": [
    "data = pd.read_csv('crosses.csv')\n",
    "data = pd.DataFrame(data)\n",
    "data\n",
    "\n",
    "lb = data['l']\n",
    "clb = data['cl']\n",
    "cbr = data['err']\n",
    "z  = data['z']\n",
    "\n",
    "lb45 = lb[z == '.4-.5']\n",
    "cl45 = clb[z == '.4-.5']\n",
    "cbr45 = cbr[z == '.4-.5']\n",
    "lb56 =lb[z == '.5-.6']\n",
    "cl56 = clb[z == '.5-.6']\n",
    "cbr56 = cbr[z == '.5-.6']\n",
    "lb68 = lb[z == '.6-.8']\n",
    "cl68 = clb[z == '.6-.8']\n",
    "cbr68 = cbr[z == '.6-.8']"
   ]
  },
  {
   "cell_type": "code",
   "execution_count": null,
   "metadata": {},
   "outputs": [],
   "source": [
    "plt.scatter(lb45,cl45)\n",
    "plt.scatter(lb56,cl56)\n",
    "plt.scatter(lb68,cl68)"
   ]
  },
  {
   "cell_type": "code",
   "execution_count": null,
   "metadata": {},
   "outputs": [],
   "source": [
    "plt.scatter(lb,clb)\n",
    "\n",
    "for i, alpha in enumerate(np.linspace(.1,.6,5)):\n",
    "    hcos.cib_params['alpha'] = alpha\n",
    "    \n",
    "    # Power spectra for CIB x galaxies\n",
    "    PgI_1h = hcos.get_power_1halo('CMASS', 'cib', nu_obs=np.array([cib_freq]))\n",
    "    PgI_2h = hcos.get_power_2halo('CMASS', 'cib', nu_obs=np.array([cib_freq]))\n",
    "    \n",
    "    Cl_gI_1h = hcos.C_gI(ells, hcos.zs, hcos.ks, PgI_1h, gzs = zs, gdndz= np.ones_like(zs))\n",
    "    Cl_gI_2h = hcos.C_gI(ells, hcos.zs, hcos.ks, PgI_2h, gzs = zs, gdndz= np.ones_like(zs))\n"
   ]
  },
  {
   "cell_type": "code",
   "execution_count": null,
   "metadata": {},
   "outputs": [],
   "source": [
    "for i, alpha in enumerate(np.linspace(0.1,0.6, 5)):\n",
    "    hcos.cib_params['alpha'] = alpha\n",
    "    # Power spectra for CIB x galaxies\n",
    "    PgI_1h = hcos.get_power_1halo('CMASS', 'cib', nu_obs=np.array([cib_freq]))\n",
    "    PgI_2h = hcos.get_power_2halo('CMASS', 'cib', nu_obs=np.array([cib_freq]))\n",
    "\n",
    "    Cl_gI_1h = hcos.C_gI(ells, hcos.zs, hcos.ks, PgI_1h, gzs = zs, gdndz= np.ones_like(zs))\n",
    "    Cl_gI_2h = hcos.C_gI(ells, hcos.zs, hcos.ks, PgI_2h, gzs = zs, gdndz= np.ones_like(zs))\n",
    "\n",
    "    plt.loglog(Cl_gI_1h + Cl_gI_2h, label='alpha={}'.format(alpha), ls='-')\n",
    "    plt.loglog(Cl_gI_1h, ls='--')\n",
    "    plt.loglog(Cl_gI_2h, ls=':')\n",
    "    plt.loglog(lb,clb)\n",
    "\n",
    "plt.xlabel(r'l')\n",
    "plt.ylabel(r'$C^{gI}_l$')\n",
    "plt.legend()\n",
    "plt.title(r'Changing alpha')\n",
    "\n",
    "# plot the actual data points that are binned\n",
    "# bin this as well"
   ]
  },
  {
   "cell_type": "code",
   "execution_count": null,
   "metadata": {},
   "outputs": [],
   "source": [
    "# for 1 halo first\n",
    "Cl_cross = Cl_gI_1h\n",
    "\n",
    "Nbins = 16\n",
    "lmin = 300\n",
    "lmax = 1000\n",
    "\n",
    "bins = np.round(np.linspace(lmin, lmax, Nbins+1))   # Bin edges\n",
    "bins = bins.astype(int)\n",
    "lcenterbin = np.zeros(len(bins)-1)\n",
    "binned_cross = np.zeros(len(bins)-1)\n",
    "binned_CIB = np.zeros(len(bins)-1)\n",
    "binned_CMASS = np.zeros(len(bins)-1)\n",
    "\n",
    "for k in range(0, len(bins)-1):  \n",
    "    lmaxvec = np.arange(bins[k], bins[k+1], 1)\n",
    "    lcenterbin[k] = np.round(0.5 * (bins[k] + bins[k+1]))   # bin center\n",
    "    for l in lmaxvec:\n",
    "        binned_cross[k] += Cl_cross[l]\n",
    "    binned_cross[k] = binned_cross[k] / len(lmaxvec)\n"
   ]
  },
  {
   "cell_type": "code",
   "execution_count": null,
   "metadata": {},
   "outputs": [],
   "source": [
    "fsky = 0.24956215243688107\n",
    "\n",
    "sigmavecth = np.zeros(len(bins)-1)\n",
    "for k in range(0, len(bins)-1):\n",
    "    lmaxvec = np.arange(bins[k], bins[k+1], 1)\n",
    "    for l in lmaxvec:\n",
    "        sigmavecth[k] += fsky * (2. * l + 1.) / (Cl_cross[l]**2)\n",
    "    sigmavecth[k] = 1. / sigmavecth[k]\n",
    "sigmavecth = np.sqrt(sigmavecth)\n"
   ]
  },
  {
   "cell_type": "code",
   "execution_count": null,
   "metadata": {},
   "outputs": [],
   "source": [
    "# for halo 2\n",
    "Cl_cross2 = Cl_gI_2h\n",
    "\n",
    "Nbins = 16\n",
    "lmin = 300\n",
    "lmax = 1000\n",
    "\n",
    "bins = np.round(np.linspace(lmin, lmax, Nbins+1))   # Bin edges\n",
    "bins = bins.astype(int)\n",
    "lcenterbin2 = np.zeros(len(bins)-1)\n",
    "binned_cross2 = np.zeros(len(bins)-1)\n",
    "binned_CIB2 = np.zeros(len(bins)-1)\n",
    "binned_CMASS2 = np.zeros(len(bins)-1)\n",
    "\n",
    "for k in range(0, len(bins)-1):  \n",
    "    lmaxvec = np.arange(bins[k], bins[k+1], 1)\n",
    "    lcenterbin2[k] = np.round(0.5 * (bins[k] + bins[k+1]))   # bin center\n",
    "    for l in lmaxvec:\n",
    "        binned_cross2[k] += Cl_cross2[l]\n",
    "    binned_cross2[k] = binned_cross2[k] / len(lmaxvec)\n",
    "\n",
    "sigmavecth2 = np.zeros(len(bins)-1)\n",
    "for k in range(0, len(bins)-1):\n",
    "    lmaxvec = np.arange(bins[k], bins[k+1], 1)\n",
    "    for l in lmaxvec:\n",
    "        sigmavecth[k] += fsky * (2. * l + 1.) / (Cl_cross2[l]**2)\n",
    "    sigmavecth[k] = 1. / sigmavecth[k]\n",
    "sigmavecth2 = np.sqrt(sigmavecth)\n"
   ]
  },
  {
   "cell_type": "code",
   "execution_count": null,
   "metadata": {},
   "outputs": [],
   "source": [
    "halo1 = pd.DataFrame({'l': lcenterbin, 'cl': binned_cross, 'err': lcenterbin * sigmavecth})\n",
    "clh1 = halo1['cl']\n",
    "clh1 = clh1 /fsky\n",
    "halo2 = pd.DataFrame({'l': lcenterbin2, 'cl': binned_cross2, 'err': lcenterbin2 * sigmavecth2})\n",
    "clh2 = halo2['cl']\n",
    "clh2 = clh2 /fsky\n",
    "binn = halo1['l']"
   ]
  },
  {
   "cell_type": "code",
   "execution_count": null,
   "metadata": {},
   "outputs": [],
   "source": [
    "plt.errorbar(lb45,cl45, yerr= cbr45, fmt ='o', c = 'purple', label = 'z: .4-.5')\n",
    "plt.errorbar(lb56,cl56, yerr = cbr56,fmt ='o', c = 'pink', label = 'z: .5-.6')\n",
    "plt.errorbar(lb68,cl68, yerr = cbr68, fmt ='o', c = 'red', label = 'z: .6-.8')\n",
    "plt.plot(lb68,((clh1 + clh2)*1e-6)/(4*np.pi), label = '1 halo + 2 halo')\n",
    "plt.yscale('log')\n",
    "\n",
    "\n",
    "# make it clear whats multiplied by the binning, or dont saved the scaled things\n",
    "# make the mcmc, try and fit for the amplitude parametr in that "
   ]
  },
  {
   "cell_type": "code",
   "execution_count": null,
   "metadata": {},
   "outputs": [],
   "source": [
    "plt.scatter(lb,clb)\n",
    "plt.plot(binn,((clh1 + clh2))*1e-7, label = '1 halo + 2 halo')\n",
    "plt.yscale('log')"
   ]
  },
  {
   "cell_type": "code",
   "execution_count": 5,
   "metadata": {},
   "outputs": [],
   "source": [
    "hcos.cib_params['alpha'] = 0.2\n",
    "hcos.cib_params['beta'] = 1.6\n",
    "hcos.cib_params['gamma'] = 1.7 # not in Viero, so using Planck13\n",
    "hcos.cib_params['delta'] = 2.4\n",
    "hcos.cib_params['Td_o'] = 20.7\n",
    "hcos.cib_params['logM_eff'] = 12.3 # vqry n sre\n",
    "hcos.cib_params['var'] = 0.3\n",
    "hcos.cib_params['L_o'] = 2e-7 # vary n see n plot w prob"
   ]
  },
  {
   "cell_type": "code",
   "execution_count": 47,
   "metadata": {},
   "outputs": [],
   "source": [
    "data = pd.read_csv('crosses.csv')\n",
    "data = pd.DataFrame(data)\n",
    "data\n",
    "\n",
    "lb = data['l']\n",
    "clb = data['cl']\n",
    "cbr = data['err']\n",
    "z  = data['z']\n",
    "\n",
    "l = lb[z == '.4-.5']\n",
    "cl = clb[z == '.4-.5']\n",
    "err = cbr[z == '.4-.5']\n"
   ]
  },
  {
   "cell_type": "code",
   "execution_count": 48,
   "metadata": {},
   "outputs": [],
   "source": [
    "l0 = hcos.cib_params['L_o']\n",
    "logmeff = hcos.cib_params['logM_eff']"
   ]
  },
  {
   "cell_type": "code",
   "execution_count": 49,
   "metadata": {},
   "outputs": [],
   "source": [
    "def model(theta, l = l):\n",
    "    l0,logmeff =  theta\n",
    "    model = Cl_gI_1h + Cl_gI_2h\n",
    "    model = model * 1e-6\n",
    "    return model"
   ]
  },
  {
   "cell_type": "code",
   "execution_count": 50,
   "metadata": {},
   "outputs": [],
   "source": [
    "def lnlike(theta,l,cl,err):\n",
    "    x = []\n",
    "    for cl in l, enumerate:\n",
    "        y = (cl - cl_pred)/err\n",
    "        y =  y **2\n",
    "        x.append(y)\n",
    "    LnLike = -1/2 * np.sum(x)\n",
    "    return LnLike"
   ]
  },
  {
   "cell_type": "code",
   "execution_count": 64,
   "metadata": {},
   "outputs": [],
   "source": [
    "def lnprior(theta):\n",
    "    l0,logmeff = theta\n",
    "    if (l0 <= 1e-20, l0 >= 1e-8) and (logmeff <= 100, logmeff >= 1):\n",
    "        return 0.0\n",
    "    else:\n",
    "        return -np.inf"
   ]
  },
  {
   "cell_type": "code",
   "execution_count": 65,
   "metadata": {},
   "outputs": [],
   "source": [
    "def lnprob(theta,l,cl,err):\n",
    "    lp = lnprior\n",
    "    if not lp == -np.inf:\n",
    "        return -np.inf\n",
    "    return lp + lnlike(theta,l,cl,err)"
   ]
  },
  {
   "cell_type": "code",
   "execution_count": 66,
   "metadata": {},
   "outputs": [
    {
     "data": {
      "text/plain": [
       "0    1.506013e-08\n",
       "1    1.593685e-08\n",
       "2    1.071126e-08\n",
       "3    1.097310e-08\n",
       "4    5.175340e-09\n",
       "Name: cl, dtype: float64"
      ]
     },
     "execution_count": 66,
     "metadata": {},
     "output_type": "execute_result"
    }
   ],
   "source": [
    "cl"
   ]
  },
  {
   "cell_type": "code",
   "execution_count": 67,
   "metadata": {},
   "outputs": [],
   "source": [
    "err = err\n",
    "data = (l,cl,err)\n",
    "nwalkers =  1000\n",
    "niter = 1000\n",
    "# set n walkers\n",
    "# set niter\n",
    "initial = np.array([1.3720539e-07,1.2300000e+01])\n",
    "ndim = 2\n",
    "p0 = [np.array(initial) + 1e-7 * np.random.randn(ndim) for i in range(nwalkers)]"
   ]
  },
  {
   "cell_type": "code",
   "execution_count": 68,
   "metadata": {},
   "outputs": [],
   "source": [
    "def main(p0,nwalkers,niter,ndim,lnprob,data):\n",
    "    sampler =  emcee.EnsembleSampler(nwalkers,ndim, lnprob, args = data)\n",
    "    print('running baybee..')\n",
    "    p0, _, _ = sampler.run_mcmc(p0,1000)\n",
    "    sampler.reset()\n",
    "    \n",
    "    print( 'running prod')\n",
    "    pos, prob, state =  sampler.run_mcmc(p0,niter)\n",
    "    \n",
    "    return sampler, pos, prob, state"
   ]
  },
  {
   "cell_type": "code",
   "execution_count": 69,
   "metadata": {},
   "outputs": [
    {
     "name": "stdout",
     "output_type": "stream",
     "text": [
      "running baybee..\n",
      "running prod\n"
     ]
    }
   ],
   "source": [
    "sampler, pos, prob, state = main(p0,nwalkers,niter,ndim,lnprob,data)"
   ]
  },
  {
   "cell_type": "code",
   "execution_count": 70,
   "metadata": {},
   "outputs": [],
   "source": [
    "samples = sampler.flatchain"
   ]
  },
  {
   "cell_type": "code",
   "execution_count": 71,
   "metadata": {},
   "outputs": [
    {
     "data": {
      "image/png": "[encoded data removed]",
      "text/plain": [
       "<Figure size 396x396 with 4 Axes>"
      ]
     },
     "metadata": {
      "needs_background": "light"
     },
     "output_type": "display_data"
    }
   ],
   "source": [
    "labels = ['lo', 'meff']\n",
    "fig = corner.corner(samples,show_titles=True,labels=labels,plot_datapoints=True,quantiles=[0.16, 0.5, 0.84])"
   ]
  },
  {
   "cell_type": "code",
   "execution_count": 72,
   "metadata": {},
   "outputs": [],
   "source": [
    "def plotter(sampler, l=l, cl=cl):\n",
    "    plt.ion()\n",
    "    plt.scatter(l,cl)\n",
    "    samples = sampler.flatchain\n",
    "    for theta in samples[np.random.randint(len(samples),size = 100)]:\n",
    "        plt.plot(model(theta,l), color = 'purple', alpha = .1)\n",
    "    plt.yscale('log')\n",
    "    plt.xlim([300,1000])"
   ]
  },
  {
   "cell_type": "code",
   "execution_count": 73,
   "metadata": {},
   "outputs": [
    {
     "data": {
      "image/png": "[encoded data removed]",
      "text/plain": [
       "<Figure size 432x288 with 1 Axes>"
      ]
     },
     "metadata": {
      "needs_background": "light"
     },
     "output_type": "display_data"
    }
   ],
   "source": [
    "plotter(sampler)"
   ]
  },
  {
   "cell_type": "code",
   "execution_count": 74,
   "metadata": {},
   "outputs": [
    {
     "data": {
      "text/plain": [
       "array([1.3720539e-07, 1.2300000e+01])"
      ]
     },
     "execution_count": 74,
     "metadata": {},
     "output_type": "execute_result"
    }
   ],
   "source": [
    "samples = sampler.flatchain\n",
    "samples[np.argmax(sampler.flatlnprobability)]"
   ]
  },
  {
   "cell_type": "code",
   "execution_count": 86,
   "metadata": {},
   "outputs": [],
   "source": [
    "hcos.cib_params['alpha'] = 0.2\n",
    "hcos.cib_params['beta'] = 1.6\n",
    "hcos.cib_params['gamma'] = 1.7 # not in Viero, so using Planck13\n",
    "hcos.cib_params['delta'] = 2.4\n",
    "hcos.cib_params['Td_o'] = 20.7\n",
    "hcos.cib_params['logM_eff'] = 12.3 # vqry n sre\n",
    "hcos.cib_params['var'] = 0.3\n",
    "hcos.cib_params['L_o'] = 2e-7 # vary n see n plot w prob"
   ]
  },
  {
   "cell_type": "code",
   "execution_count": 88,
   "metadata": {},
   "outputs": [
    {
     "data": {
      "text/plain": [
       "Text(0, 0.5, '$C^{gI}_l$')"
      ]
     },
     "execution_count": 88,
     "metadata": {},
     "output_type": "execute_result"
    },
    {
     "data": {
      "image/png": "[encoded data removed]",
      "text/plain": [
       "<Figure size 432x288 with 1 Axes>"
      ]
     },
     "metadata": {
      "needs_background": "light"
     },
     "output_type": "display_data"
    }
   ],
   "source": [
    "ells = np.arange(3000)\n",
    "\n",
    "# 3D cross-spectra of CIB x galaxies at (zs, ks)\n",
    "PgI_1h = hcos.get_power_1halo('CMASS', \"cib\", nu_obs=np.array([cib_freq])) # put this back in hertz\n",
    "PgI_2h = hcos.get_power_2halo('CMASS', 'cib',nu_obs=np.array([cib_freq])) # put this back in hertz\n",
    "# Project to 2D to get the Cls\n",
    "Cl_gI_1h = hcos.C_gI(ells, hcos.zs, hcos.ks, PgI_1h, gzs = zs, gdndz= np.ones_like(zs))\n",
    "Cl_gI_2h = hcos.C_gI(ells, hcos.zs, hcos.ks, PgI_2h, gzs = zs, gdndz= np.ones_like(zs))\n",
    "# Plot\n",
    "plt.plot((Cl_gI_1h + Cl_gI_2h)*1e-6/np.sqrt(4*np.pi), label='total', ls='-')\n",
    "#plt.plot(Cl_gI_1h*1e-6, label='1 halo term', ls='--')\n",
    "#plt.plot(Cl_gI_2h*1e-6, label='2 halo term', ls=':')\n",
    "plt.scatter(l,cl)\n",
    "\n",
    "plt.xlabel(r'l')\n",
    "plt.yscale('log')\n",
    "plt.xlim([300,1000])\n",
    "\n",
    "plt.legend()\n",
    "plt.ylabel(r'$C^{gI}_l$')"
   ]
  },
  {
   "cell_type": "code",
   "execution_count": 89,
   "metadata": {},
   "outputs": [],
   "source": [
    "hcos.cib_params['alpha'] = 0.2\n",
    "hcos.cib_params['beta'] = 1.6\n",
    "hcos.cib_params['gamma'] = 1.7 # not in Viero, so using Planck13\n",
    "hcos.cib_params['delta'] = 2.4\n",
    "hcos.cib_params['Td_o'] = 20.7\n",
    "hcos.cib_params['logM_eff'] = 1.2300000e+01 # vqry n sre\n",
    "hcos.cib_params['var'] = 0.3\n",
    "hcos.cib_params['L_o'] = 1.3720539e-07,# vary n see n plot w prob"
   ]
  },
  {
   "cell_type": "code",
   "execution_count": 90,
   "metadata": {},
   "outputs": [
    {
     "data": {
      "text/plain": [
       "Text(0, 0.5, '$C^{gI}_l$')"
      ]
     },
     "execution_count": 90,
     "metadata": {},
     "output_type": "execute_result"
    },
    {
     "data": {
      "image/png": "[encoded data removed]",
      "text/plain": [
       "<Figure size 432x288 with 1 Axes>"
      ]
     },
     "metadata": {
      "needs_background": "light"
     },
     "output_type": "display_data"
    }
   ],
   "source": [
    "ells = np.arange(3000)\n",
    "\n",
    "# 3D cross-spectra of CIB x galaxies at (zs, ks)\n",
    "PgI_1h = hcos.get_power_1halo('CMASS', \"cib\", nu_obs=np.array([cib_freq])) # put this back in hertz\n",
    "PgI_2h = hcos.get_power_2halo('CMASS', 'cib',nu_obs=np.array([cib_freq])) # put this back in hertz\n",
    "# Project to 2D to get the Cls\n",
    "Cl_gI_1h = hcos.C_gI(ells, hcos.zs, hcos.ks, PgI_1h, gzs = zs, gdndz= np.ones_like(zs))\n",
    "Cl_gI_2h = hcos.C_gI(ells, hcos.zs, hcos.ks, PgI_2h, gzs = zs, gdndz= np.ones_like(zs))\n",
    "# Plot\n",
    "plt.plot((Cl_gI_1h + Cl_gI_2h)*1e-6/np.sqrt(4*np.pi), label='total', ls='-')\n",
    "#plt.plot(Cl_gI_1h*1e-6, label='1 halo term', ls='--')\n",
    "#plt.plot(Cl_gI_2h*1e-6, label='2 halo term', ls=':')\n",
    "plt.scatter(l,cl)\n",
    "\n",
    "plt.xlabel(r'l')\n",
    "plt.yscale('log')\n",
    "plt.xlim([300,1000])\n",
    "\n",
    "plt.legend()\n",
    "plt.ylabel(r'$C^{gI}_l$')"
   ]
  },
  {
   "cell_type": "code",
   "execution_count": null,
   "metadata": {},
   "outputs": [],
   "source": []
  }
 ],
 "metadata": {
  "kernelspec": {
   "display_name": "NERSC Python",
   "language": "python",
   "name": "python3"
  },
  "language_info": {
   "codemirror_mode": {
    "name": "ipython",
    "version": 3
   },
   "file_extension": ".py",
   "mimetype": "text/x-python",
   "name": "python",
   "nbconvert_exporter": "python",
   "pygments_lexer": "ipython3",
   "version": "3.9.7"
  }
 },
 "nbformat": 4,
 "nbformat_minor": 4
}
