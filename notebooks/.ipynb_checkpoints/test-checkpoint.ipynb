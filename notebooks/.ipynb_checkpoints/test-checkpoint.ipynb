{
 "cells": [
  {
   "cell_type": "markdown",
   "metadata": {},
   "source": [
    "### CROSSES!!!!"
   ]
  },
  {
   "cell_type": "code",
   "execution_count": 1,
   "metadata": {},
   "outputs": [],
   "source": [
    "# install dependencies\n",
    "\n",
    "import emcee\n",
    "\n",
    "import matplotlib.pyplot as plt\n",
    "import numpy as np\n",
    "import os, sys, shutil\n",
    "import pandas as pd\n",
    "import sklearn.metrics as slm\n",
    "\n",
    "import corner\n",
    "pkdir = \"/pscratch/sd/s/sbrisin/cibcmass/hmvec\"\n",
    "sys.path.insert(0,pkdir)\n",
    "\n",
    "#import hmvec as hm\n",
    "from hmvec import hmvec as hm \n",
    "from scipy.interpolate import interp1d"
   ]
  },
  {
   "cell_type": "code",
   "execution_count": 2,
   "metadata": {},
   "outputs": [],
   "source": [
    "# thats called priors, can take the best fit from hershel for the range from those error bars"
   ]
  },
  {
   "cell_type": "markdown",
   "metadata": {},
   "source": [
    "## warning: what??? is the 4 pi"
   ]
  },
  {
   "cell_type": "code",
   "execution_count": null,
   "metadata": {},
   "outputs": [],
   "source": []
  },
  {
   "cell_type": "code",
   "execution_count": 5,
   "metadata": {},
   "outputs": [],
   "source": [
    "dat = np.array([1,2]) # this is your \"data\"\n",
    "cov = np.array([[4,2],[2,3]]) # this is your covariance matrix\n",
    "cinv = np.linalg.inv(cov) # inverse covariance matrix\n",
    "gauss_like = lambda thy: np.exp(-0.5*np.dot(np.dot(thy-dat,cinv),thy-dat)) / np.sqrt(np.linalg.det(2*np.pi*cov))"
   ]
  },
  {
   "cell_type": "code",
   "execution_count": 6,
   "metadata": {},
   "outputs": [
    {
     "data": {
      "text/plain": [
       "0.05626976975981913"
      ]
     },
     "execution_count": 6,
     "metadata": {},
     "output_type": "execute_result"
    }
   ],
   "source": [
    "np.array([1,2])\n",
    "gauss_like(np.array([1,2]))"
   ]
  },
  {
   "cell_type": "code",
   "execution_count": 7,
   "metadata": {},
   "outputs": [],
   "source": [
    "def model(theta, dat = dat):\n",
    "    l0,logmeff =  theta\n",
    "    model = Cl_gI_1h + Cl_gI_2h\n",
    "    model = model * 1e-6\n",
    "    return model"
   ]
  },
  {
   "cell_type": "code",
   "execution_count": 8,
   "metadata": {},
   "outputs": [],
   "source": [
    "def lnlike(theta,l,cl,err):\n",
    "    x = []\n",
    "    for cl in l, enumerate:\n",
    "        y = (cl - cl_pred)/err\n",
    "        y =  y **2\n",
    "        x.append(y)\n",
    "    LnLike = -1/2 * np.sum(x)\n",
    "    return LnLike"
   ]
  },
  {
   "cell_type": "code",
   "execution_count": 9,
   "metadata": {},
   "outputs": [],
   "source": [
    "def lnprior(theta):\n",
    "    l0,logmeff = theta\n",
    "    if (l0 <= 1e-20, l0 >= 1e-8) and (logmeff <= 100, logmeff >= 1):\n",
    "        return 0.0\n",
    "    else:\n",
    "        return -np.inf"
   ]
  },
  {
   "cell_type": "code",
   "execution_count": 10,
   "metadata": {},
   "outputs": [],
   "source": [
    "def lnprob(theta,l,cl,err):\n",
    "    lp = lnprior\n",
    "    if not lp == -np.inf:\n",
    "        return -np.inf\n",
    "    return lp + lnlike(theta,l,cl,err)"
   ]
  },
  {
   "cell_type": "code",
   "execution_count": 11,
   "metadata": {},
   "outputs": [],
   "source": [
    "def main(p0,nwalkers,niter,ndim,lnprob,data):\n",
    "    sampler =  emcee.EnsembleSampler(nwalkers,ndim, lnprob, args = data)\n",
    "    print('running baybee..')\n",
    "    p0, _, _ = sampler.run_mcmc(p0,1000)\n",
    "    sampler.reset()\n",
    "    \n",
    "    print( 'running prod')\n",
    "    pos, prob, state =  sampler.run_mcmc(p0,niter)\n",
    "    \n",
    "    return sampler, pos, prob, state"
   ]
  },
  {
   "cell_type": "code",
   "execution_count": 13,
   "metadata": {},
   "outputs": [],
   "source": [
    "\n",
    "data = (dat,cov,cinv)\n",
    "nwalkers =  1000\n",
    "niter = 1000\n",
    "# set n walkers\n",
    "# set niter\n",
    "initial = np.array([1,2])\n",
    "ndim = 2\n",
    "p0 = [np.array(initial) + 1e-7 * np.random.randn(ndim) for i in range(nwalkers)]"
   ]
  },
  {
   "cell_type": "code",
   "execution_count": 14,
   "metadata": {},
   "outputs": [
    {
     "name": "stdout",
     "output_type": "stream",
     "text": [
      "running baybee..\n"
     ]
    },
    {
     "name": "stderr",
     "output_type": "stream",
     "text": [
      "/global/homes/s/sbrisin/.local/perlmutter/3.9-anaconda-2021.11/lib/python3.9/site-packages/emcee/moves/red_blue.py:99: RuntimeWarning: invalid value encountered in double_scalars\n",
      "  lnpdiff = f + nlp - state.log_prob[j]\n"
     ]
    },
    {
     "name": "stdout",
     "output_type": "stream",
     "text": [
      "running prod\n"
     ]
    }
   ],
   "source": [
    "sampler, pos, prob, state = main(p0,nwalkers,niter,ndim,lnprob,data)"
   ]
  },
  {
   "cell_type": "code",
   "execution_count": 15,
   "metadata": {},
   "outputs": [],
   "source": [
    "samples = sampler.flatchain"
   ]
  },
  {
   "cell_type": "code",
   "execution_count": 17,
   "metadata": {},
   "outputs": [
    {
     "data": {
      "image/png": "[encoded data removed]",
      "text/plain": [
       "<Figure size 396x396 with 4 Axes>"
      ]
     },
     "metadata": {
      "needs_background": "light"
     },
     "output_type": "display_data"
    }
   ],
   "source": [
    "labels = ['test', 'test2']\n",
    "fig = corner.corner(samples,show_titles=True,labels=labels,plot_datapoints=True,quantiles=[0.16, 0.5, 0.84])"
   ]
  },
  {
   "cell_type": "code",
   "execution_count": 19,
   "metadata": {},
   "outputs": [],
   "source": [
    "def plotter(sampler, dat = dat):\n",
    "    plt.ion()\n",
    "    plt.plot(dat)\n",
    "    samples = sampler.flatchain\n",
    "    for theta in samples[np.random.randint(len(samples),size = 100)]:\n",
    "        plt.plot(model(theta,dat), color = 'purple', alpha = .1)\n",
    "    plt.yscale('log')\n",
    "    plt.xlim([300,1000])"
   ]
  },
  {
   "cell_type": "code",
   "execution_count": 20,
   "metadata": {},
   "outputs": [
    {
     "data": {
      "text/plain": [
       "array([1.00000002, 2.00000005])"
      ]
     },
     "execution_count": 20,
     "metadata": {},
     "output_type": "execute_result"
    }
   ],
   "source": [
    "samples = sampler.flatchain\n",
    "samples[np.argmax(sampler.flatlnprobability)]"
   ]
  },
  {
   "cell_type": "code",
   "execution_count": null,
   "metadata": {},
   "outputs": [],
   "source": []
  }
 ],
 "metadata": {
  "kernelspec": {
   "display_name": "NERSC Python",
   "language": "python",
   "name": "python3"
  },
  "language_info": {
   "codemirror_mode": {
    "name": "ipython",
    "version": 3
   },
   "file_extension": ".py",
   "mimetype": "text/x-python",
   "name": "python",
   "nbconvert_exporter": "python",
   "pygments_lexer": "ipython3",
   "version": "3.9.7"
  }
 },
 "nbformat": 4,
 "nbformat_minor": 4
}
