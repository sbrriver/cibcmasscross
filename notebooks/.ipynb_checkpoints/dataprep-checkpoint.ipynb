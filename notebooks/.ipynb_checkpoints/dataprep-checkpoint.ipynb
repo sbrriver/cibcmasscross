{
 "cells": [
  {
   "cell_type": "code",
   "execution_count": 1,
   "id": "f82e527b-19e6-4b71-9b4c-c2585b4c3108",
   "metadata": {},
   "outputs": [],
   "source": [
    "# the good ol data prep nb!\n",
    "# need to get cov and bin the cov"
   ]
  },
  {
   "cell_type": "code",
   "execution_count": 5,
   "id": "98991ecc-d494-4f34-b207-ad0dc24148f1",
   "metadata": {},
   "outputs": [],
   "source": [
    "import pandas as pd\n",
    "import numpy as np"
   ]
  },
  {
   "cell_type": "code",
   "execution_count": 2,
   "id": "d54122c8-d7b1-4a78-b669-30c2707ee481",
   "metadata": {},
   "outputs": [
    {
     "ename": "SyntaxError",
     "evalue": "invalid syntax (785916571.py, line 3)",
     "output_type": "error",
     "traceback": [
      "\u001b[0;36m  File \u001b[0;32m\"/tmp/ipykernel_940151/785916571.py\"\u001b[0;36m, line \u001b[0;32m3\u001b[0m\n\u001b[0;31m    var_ii = (2cii)/((2*l+1)(fskyii))\u001b[0m\n\u001b[0m               ^\u001b[0m\n\u001b[0;31mSyntaxError\u001b[0m\u001b[0;31m:\u001b[0m invalid syntax\n"
     ]
    }
   ],
   "source": [
    "def cov_mat(l,cgg,cll,cig):\n",
    "    # cgg, cll, and cig are going to be the valeus pre bin?\n",
    "    var_ii = (2cii)/((2*l+1)(fskyii))\n",
    "    var_gg = (2cgg)/((2*l+1)(f_skygg))\n",
    "    var_ig = (cgg*cii+cgi**2)/((2*l+1)*f_skygi)\n",
    "    cov(cgg,cii) = (f_skygi*2*cgi)/((f_skygg * f_skyii)*(2*l+1))\n",
    "    cov(cgg,cgi) = (2*cgg*cgi)/((2*l+1)*f_skygg)\n",
    "    cov(cii,cgi) = (2*cii*cgi)/((2*l+1)*f_skyii)"
   ]
  },
  {
   "cell_type": "code",
   "execution_count": null,
   "id": "f63041ce-9a1a-4184-a77c-d57134c05dec",
   "metadata": {},
   "outputs": [],
   "source": []
  },
  {
   "cell_type": "code",
   "execution_count": null,
   "id": "ae9b07a0-e0cb-42a3-9c88-00bb67e0dd8d",
   "metadata": {},
   "outputs": [],
   "source": [
    "# code it up for each l and then sum it up for the binned "
   ]
  },
  {
   "cell_type": "code",
   "execution_count": 5,
   "id": "60db6a11-072f-482d-8c4e-f4e6096edbf7",
   "metadata": {},
   "outputs": [],
   "source": [
    "def cov_mat_nocib(cii,cgg,cig):\n",
    "    f_sky_cross = 0.249634150739921\n",
    "    f_sky_CIB = 0.5787552197774252\n",
    "    f_sky_CMASS = 0.2552083333333333\n",
    "\n",
    "    # cgg, cll, and cig are going to be the valeus pre bin?\n",
    "    var_gg = (2*cgg)/((2*l+1)(f_sky_CMASS))\n",
    "    var_ig = (cgg*cii+cgi**2)/((2*l+1)*f_sky_cross)\n",
    "    cov_cgg_cgi = (2*cgg*cgi)/((2*l+1)*f_sky_CMASS)\n",
    "    return np.array([var_gg,cov_cgg_cgi],[cov_cgg_cgi,var_ig])"
   ]
  },
  {
   "cell_type": "code",
   "execution_count": 22,
   "id": "77bfb39b-605b-4dfe-844a-4d3f9c39cad8",
   "metadata": {},
   "outputs": [],
   "source": [
    "cov = pd.read_csv('cov.csv')\n",
    "cov_l = cov['L']\n",
    "cov_l = cov_l +300\n",
    "cov_1 = cov['cov1']\n",
    "cov2 = cov['cov2']"
   ]
  },
  {
   "cell_type": "code",
   "execution_count": 18,
   "id": "e1bb1fb1-2485-4022-bdf5-232bb1c0dd10",
   "metadata": {},
   "outputs": [],
   "source": [
    "Nbins = 5\n",
    "lmin = 300\n",
    "lmax = 1000\n",
    "\n",
    "bins = np.round(np.linspace(lmin, lmax, Nbins+1))   # Bin edges\n",
    "bins = bins.astype(int)\n",
    "lcenterbin = np.zeros(len(bins)-1)"
   ]
  },
  {
   "cell_type": "code",
   "execution_count": 19,
   "id": "9c6ad0d2-f3da-4fc6-9b17-64f1e5260c13",
   "metadata": {},
   "outputs": [
    {
     "ename": "UFuncTypeError",
     "evalue": "ufunc 'add' did not contain a loop with signature matching types (dtype('float64'), dtype('<U31')) -> None",
     "output_type": "error",
     "traceback": [
      "\u001b[0;31m---------------------------------------------------------------------------\u001b[0m",
      "\u001b[0;31mUFuncTypeError\u001b[0m                            Traceback (most recent call last)",
      "\u001b[0;32m/tmp/ipykernel_1558150/393704540.py\u001b[0m in \u001b[0;36m<module>\u001b[0;34m\u001b[0m\n\u001b[1;32m     12\u001b[0m     \u001b[0mlcenterbin\u001b[0m\u001b[0;34m[\u001b[0m\u001b[0mk\u001b[0m\u001b[0;34m]\u001b[0m \u001b[0;34m=\u001b[0m \u001b[0mnp\u001b[0m\u001b[0;34m.\u001b[0m\u001b[0mround\u001b[0m\u001b[0;34m(\u001b[0m\u001b[0;36m0.5\u001b[0m \u001b[0;34m*\u001b[0m \u001b[0;34m(\u001b[0m\u001b[0mbins\u001b[0m\u001b[0;34m[\u001b[0m\u001b[0mk\u001b[0m\u001b[0;34m]\u001b[0m \u001b[0;34m+\u001b[0m \u001b[0mbins\u001b[0m\u001b[0;34m[\u001b[0m\u001b[0mk\u001b[0m\u001b[0;34m+\u001b[0m\u001b[0;36m1\u001b[0m\u001b[0;34m]\u001b[0m\u001b[0;34m)\u001b[0m\u001b[0;34m)\u001b[0m   \u001b[0;31m# bin center\u001b[0m\u001b[0;34m\u001b[0m\u001b[0;34m\u001b[0m\u001b[0m\n\u001b[1;32m     13\u001b[0m     \u001b[0;32mfor\u001b[0m \u001b[0ml\u001b[0m \u001b[0;32min\u001b[0m \u001b[0mlmaxvec\u001b[0m\u001b[0;34m:\u001b[0m\u001b[0;34m\u001b[0m\u001b[0;34m\u001b[0m\u001b[0m\n\u001b[0;32m---> 14\u001b[0;31m         \u001b[0mbinned_cov\u001b[0m\u001b[0;34m[\u001b[0m\u001b[0mk\u001b[0m\u001b[0;34m]\u001b[0m \u001b[0;34m+=\u001b[0m \u001b[0mcov1\u001b[0m\u001b[0;34m[\u001b[0m\u001b[0ml\u001b[0m\u001b[0;34m]\u001b[0m\u001b[0;34m\u001b[0m\u001b[0;34m\u001b[0m\u001b[0m\n\u001b[0m\u001b[1;32m     15\u001b[0m     \u001b[0mbinned_cov\u001b[0m\u001b[0;34m[\u001b[0m\u001b[0mk\u001b[0m\u001b[0;34m]\u001b[0m \u001b[0;34m=\u001b[0m \u001b[0mbinned_cov\u001b[0m\u001b[0;34m[\u001b[0m\u001b[0mk\u001b[0m\u001b[0;34m]\u001b[0m \u001b[0;34m/\u001b[0m \u001b[0mlen\u001b[0m\u001b[0;34m(\u001b[0m\u001b[0mlmaxvec\u001b[0m\u001b[0;34m)\u001b[0m\u001b[0;34m\u001b[0m\u001b[0;34m\u001b[0m\u001b[0m\n",
      "\u001b[0;31mUFuncTypeError\u001b[0m: ufunc 'add' did not contain a loop with signature matching types (dtype('float64'), dtype('<U31')) -> None"
     ]
    }
   ],
   "source": [
    "\n",
    "Nbins = 5\n",
    "lmin = 300\n",
    "lmax = 1000\n",
    "\n",
    "bins = np.round(np.linspace(lmin, lmax, Nbins+1))   # Bin edges\n",
    "bins = bins.astype(int)\n",
    "lcenterbin = np.zeros(len(bins)-1)\n",
    "binned_cov = np.zeros(len(bins)-1)\n",
    "\n",
    "for k in range(0, len(bins)-1):  \n",
    "    lmaxvec = np.arange(bins[k], bins[k+1], 1)\n",
    "    lcenterbin[k] = np.round(0.5 * (bins[k] + bins[k+1]))   # bin center\n",
    "    for l in lmaxvec:\n",
    "        binned_cov[k] += cov1[l]\n",
    "    binned_cov[k] = binned_cov[k] / len(lmaxvec)"
   ]
  },
  {
   "cell_type": "code",
   "execution_count": null,
   "id": "3d5fe6d5-0a49-4de3-b3bd-452a2188913b",
   "metadata": {},
   "outputs": [],
   "source": []
  }
 ],
 "metadata": {
  "kernelspec": {
   "display_name": "NERSC Python",
   "language": "python",
   "name": "python3"
  },
  "language_info": {
   "codemirror_mode": {
    "name": "ipython",
    "version": 3
   },
   "file_extension": ".py",
   "mimetype": "text/x-python",
   "name": "python",
   "nbconvert_exporter": "python",
   "pygments_lexer": "ipython3",
   "version": "3.9.7"
  }
 },
 "nbformat": 4,
 "nbformat_minor": 5
}
