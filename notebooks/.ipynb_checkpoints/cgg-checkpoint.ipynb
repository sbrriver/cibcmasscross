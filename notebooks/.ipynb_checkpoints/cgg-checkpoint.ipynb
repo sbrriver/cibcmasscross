{
 "cells": [
  {
   "cell_type": "markdown",
   "metadata": {},
   "source": [
    "## GALGAL"
   ]
  },
  {
   "cell_type": "code",
   "execution_count": 9,
   "metadata": {},
   "outputs": [],
   "source": [
    "# install dependencies\n",
    "\n",
    "import emcee\n",
    "import matplotlib\n",
    "matplotlib.use('agg')\n",
    "%matplotlib inline\n",
    "import matplotlib.pyplot as plt\n",
    "import matplotlib.pyplot as plt\n",
    "import numpy as np\n",
    "import os, sys, shutil\n",
    "import pandas as pd\n",
    "import sklearn.metrics as slm\n",
    "\n",
    "pkdir = \"/pscratch/sd/s/sbrisin/cibcmass/hmvec\"\n",
    "sys.path.insert(0,pkdir)\n",
    "\n",
    "#import hmvec as hm\n",
    "from hmvec import hmvec as hm \n",
    "from scipy.interpolate import interp1d"
   ]
  },
  {
   "cell_type": "markdown",
   "metadata": {},
   "source": [
    ".4-.5"
   ]
  },
  {
   "cell_type": "code",
   "execution_count": 10,
   "metadata": {},
   "outputs": [
    {
     "name": "stderr",
     "output_type": "stream",
     "text": [
      "/pscratch/sd/s/sbrisin/cibcmass/hmvec/hmvec/hmvec.py:994: RuntimeWarning: invalid value encountered in true_divide\n",
      "  ret = Ns**2./Nc\n"
     ]
    }
   ],
   "source": [
    "zs = np.linspace(0.4,.5,20)\n",
    "ms = np.geomspace(1e10,1e17,200)\n",
    "ks = np.geomspace(1e-4,100,1001)\n",
    "hcos = hm.HaloModel(zs,ks,ms=ms)\n",
    "\n",
    "hcos.add_hod(name=\"CMASS\",mthresh=10**12+zs*0.)"
   ]
  },
  {
   "cell_type": "code",
   "execution_count": 11,
   "metadata": {},
   "outputs": [],
   "source": [
    "# prepping all the data\n",
    "data = pd.read_csv(\"crosses.csv\")\n",
    "cgg = data['cggb']\n",
    "l =  data['l']\n",
    "z = data['z']\n",
    "cgg45 = cgg[z == '.4-.5']\n",
    "l45 = l[z == '.4-.5']\n",
    "e = data['err']\n",
    "e45 = e[z == '.4-.5']\n",
    "cgg56 = cgg[z == '.5-.6']\n",
    "l56 = l[z == '.5-.6']\n",
    "cgg68 = cgg[z == '.6-.8']\n",
    "l68 = l[z == '.6-.8']\n",
    "e56 = e[z == '.5-.6']\n",
    "e68 = e[z == '.6-.8']"
   ]
  },
  {
   "cell_type": "code",
   "execution_count": 13,
   "metadata": {},
   "outputs": [],
   "source": [
    "ells = np.arange(3000)\n",
    "\n",
    "# 3D cross-spectra of gal x galaxies at (zs, ks)\n",
    "Pgg_1h = hcos.get_power_1halo('CMASS') # put this back in hertz\n",
    "Pgg_2h = hcos.get_power_2halo('CMASS') # put this back in hertz\n",
    "# Project to 2D to get the Cls\n",
    "Cl_gg_1h = hcos.C_gg(ells, hcos.zs, hcos.ks, Pgg_1h, gzs = zs, gdndz= np.ones_like(zs))\n",
    "Cl_gg_2h = hcos.C_gg(ells, hcos.zs, hcos.ks, Pgg_2h, gzs = zs, gdndz= np.ones_like(zs))\n",
    "# Plot\n",
    "plt.plot(Cl_gg_1h + Cl_gg_2h, label='total', ls='-')\n",
    "#plt.plot(Cl_gg_1h, label='1 halo term', ls='--')\n",
    "#plt.plot(Cl_gg_2h, label='2 halo term', ls=':')\n",
    "plt.errorbar(l45,cgg45, yerr = e45*10, fmt = 'o')\n",
    "\n",
    "plt.xlabel(r'$l$')\n",
    "plt.yscale('log')\n",
    "plt.xlim([300,1000])\n",
    "\n",
    "plt.legend()\n",
    "plt.ylabel(r'$C^{gg}_l$')\n",
    "plt.title('Galaxy Autospectrum z range (0.4-0.5)')\n",
    "plt.show()\n",
    "#plt.savefig('/pscratch/sd/s/sbrisin/cibcmass/figs/0.4-.5gal.png')"
   ]
  },
  {
   "cell_type": "markdown",
   "metadata": {},
   "source": [
    ".5-.6"
   ]
  },
  {
   "cell_type": "code",
   "execution_count": 5,
   "metadata": {},
   "outputs": [
    {
     "name": "stderr",
     "output_type": "stream",
     "text": [
      "/pscratch/sd/s/sbrisin/cibcmass/hmvec/hmvec/hmvec.py:994: RuntimeWarning: invalid value encountered in true_divide\n",
      "  ret = Ns**2./Nc\n"
     ]
    }
   ],
   "source": [
    "zs = np.linspace(0.5,.6,20)\n",
    "ms = np.geomspace(1e10,1e17,200)\n",
    "ks = np.geomspace(1e-4,100,1001)\n",
    "hcos = hm.HaloModel(zs,ks,ms=ms)\n",
    "\n",
    "hcos.add_hod(name=\"CMASS\",mthresh=10**12+zs*0.)"
   ]
  },
  {
   "cell_type": "code",
   "execution_count": 6,
   "metadata": {},
   "outputs": [],
   "source": [
    "ells = np.arange(3000)\n",
    "\n",
    "# 3D cross-spectra of gal x galaxies at (zs, ks)\n",
    "Pgg_1h = hcos.get_power_1halo('CMASS') # put this back in hertz\n",
    "Pgg_2h = hcos.get_power_2halo('CMASS') # put this back in hertz\n",
    "# Project to 2D to get the Cls\n",
    "Cl_gg_1h = hcos.C_gg(ells, hcos.zs, hcos.ks, Pgg_1h, gzs = zs, gdndz= np.ones_like(zs))\n",
    "Cl_gg_2h = hcos.C_gg(ells, hcos.zs, hcos.ks, Pgg_2h, gzs = zs, gdndz= np.ones_like(zs))\n",
    "# Plot\n",
    "plt.plot(Cl_gg_1h + Cl_gg_2h, label='total', ls='-')\n",
    "plt.errorbar(l56,cgg56, yerr= e56, fmt = 'o')\n",
    "\n",
    "plt.xlabel(r'l')\n",
    "plt.yscale('log')\n",
    "plt.xlim([300,1000])\n",
    "\n",
    "plt.legend()\n",
    "plt.ylabel(r'$C^{gg}_l$')\n",
    "plt.title('Galaxy Autospectrum z = 0.5- 0.6')\n",
    "plt.show()\n",
    "plt.savefig('/pscratch/sd/s/sbrisin/cibcmass/figs/0.5-.6gal.png')"
   ]
  },
  {
   "cell_type": "markdown",
   "metadata": {},
   "source": [
    ".6-.8"
   ]
  },
  {
   "cell_type": "code",
   "execution_count": 7,
   "metadata": {},
   "outputs": [],
   "source": [
    "zs = np.linspace(0.6,.8,20)\n",
    "ms = np.geomspace(1e10,1e17,200)\n",
    "ks = np.geomspace(1e-4,100,1001)\n",
    "hcos = hm.HaloModel(zs,ks,ms=ms)\n",
    "\n",
    "hcos.add_hod(name=\"CMASS\",mthresh=10**12+zs*0.)"
   ]
  },
  {
   "cell_type": "code",
   "execution_count": 8,
   "metadata": {},
   "outputs": [],
   "source": [
    "ells = np.arange(3000)\n",
    "\n",
    "# 3D cross-spectra of gal x galaxies at (zs, ks)\n",
    "Pgg_1h = hcos.get_power_1halo('CMASS') # put this back in hertz\n",
    "Pgg_2h = hcos.get_power_2halo('CMASS') # put this back in hertz\n",
    "# Project to 2D to get the Cls\n",
    "Cl_gg_1h = hcos.C_gg(ells, hcos.zs, hcos.ks, Pgg_1h, gzs = zs, gdndz= np.ones_like(zs))\n",
    "Cl_gg_2h = hcos.C_gg(ells, hcos.zs, hcos.ks, Pgg_2h, gzs = zs, gdndz= np.ones_like(zs))\n",
    "# Plot\n",
    "plt.plot(Cl_gg_1h + Cl_gg_2h, label='total', ls='-')\n",
    "plt.errorbar(l68,cgg68, yerr = e68, fmt = 'o')\n",
    "\n",
    "plt.xlabel(r'l')\n",
    "plt.yscale('log')\n",
    "plt.xlim([300,1000])\n",
    "\n",
    "plt.legend()\n",
    "plt.ylabel(r'$C^{gg}_l$')\n",
    "plt.title('Galaxy Autospectrum z = 0.6 - 0.8')\n",
    "plt.show()\n",
    "plt.savefig('/pscratch/sd/s/sbrisin/cibcmass/figs/0.6-.8gal.png')"
   ]
  },
  {
   "cell_type": "code",
   "execution_count": null,
   "metadata": {},
   "outputs": [],
   "source": []
  },
  {
   "cell_type": "code",
   "execution_count": null,
   "metadata": {},
   "outputs": [],
   "source": []
  }
 ],
 "metadata": {
  "kernelspec": {
   "display_name": "NERSC Python",
   "language": "python",
   "name": "python3"
  },
  "language_info": {
   "codemirror_mode": {
    "name": "ipython",
    "version": 3
   },
   "file_extension": ".py",
   "mimetype": "text/x-python",
   "name": "python",
   "nbconvert_exporter": "python",
   "pygments_lexer": "ipython3",
   "version": "3.9.7"
  }
 },
 "nbformat": 4,
 "nbformat_minor": 4
}
