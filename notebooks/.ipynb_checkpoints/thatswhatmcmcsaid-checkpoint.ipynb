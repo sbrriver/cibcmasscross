{
 "cells": [
  {
   "cell_type": "code",
   "execution_count": 1,
   "id": "fcc88c85-a71d-4bb9-aeea-a93747989d6a",
   "metadata": {},
   "outputs": [],
   "source": [
    "# install dependencies\n"
   ]
  },
  {
   "cell_type": "code",
   "execution_count": 2,
   "id": "a6f77cce-4c38-4bec-ad40-56583d9ad3d3",
   "metadata": {},
   "outputs": [],
   "source": [
    "# define prior"
   ]
  },
  {
   "cell_type": "code",
   "execution_count": 3,
   "id": "b9727140-3a5d-49d0-b6ab-3f4ef21435b2",
   "metadata": {},
   "outputs": [],
   "source": [
    "#posteriors"
   ]
  },
  {
   "cell_type": "code",
   "execution_count": 4,
   "id": "f46140ec-87a1-4c80-9673-d4446914ba39",
   "metadata": {},
   "outputs": [],
   "source": [
    "#go to corner plot"
   ]
  },
  {
   "cell_type": "code",
   "execution_count": null,
   "id": "6cfbf503-a4fa-423f-bdef-99297538748e",
   "metadata": {},
   "outputs": [],
   "source": []
  }
 ],
 "metadata": {
  "kernelspec": {
   "display_name": "NERSC Python",
   "language": "python",
   "name": "python3"
  },
  "language_info": {
   "codemirror_mode": {
    "name": "ipython",
    "version": 3
   },
   "file_extension": ".py",
   "mimetype": "text/x-python",
   "name": "python",
   "nbconvert_exporter": "python",
   "pygments_lexer": "ipython3",
   "version": "3.9.7"
  }
 },
 "nbformat": 4,
 "nbformat_minor": 5
}
