{
 "cells": [
  {
   "cell_type": "code",
   "execution_count": 6,
   "id": "fcc88c85-a71d-4bb9-aeea-a93747989d6a",
   "metadata": {},
   "outputs": [],
   "source": [
    "# install dependencies\n",
    "import matplotlib.pyplot as plt\n",
    "import numpy as np\n",
    "import pandas as pd\n",
    "import emcee"
   ]
  },
  {
   "cell_type": "markdown",
   "id": "affb6532-268e-4731-99ab-55fb79ec00f2",
   "metadata": {
    "jp-MarkdownHeadingCollapsed": true,
    "tags": []
   },
   "source": [
    ".4 - .5"
   ]
  },
  {
   "cell_type": "code",
   "execution_count": 8,
   "id": "cd6103a8-4147-448e-b32e-42ad7f86f53e",
   "metadata": {},
   "outputs": [],
   "source": [
    "# data prep\n",
    "\n",
    "data = pd.read_csv(\"crosses.csv\")\n",
    "cii = data['ciib']\n",
    "cgg = data['cggb']\n",
    "cig = data['cl']\n",
    "l =  data ['"
   ]
  },
  {
   "cell_type": "code",
   "execution_count": 2,
   "id": "a6f77cce-4c38-4bec-ad40-56583d9ad3d3",
   "metadata": {},
   "outputs": [],
   "source": [
    "# define prior\n",
    "\n",
    "def log_prob(params,x):\n",
    "# here do the model stuff\n",
    "    return \n",
    "    "
   ]
  },
  {
   "cell_type": "code",
   "execution_count": 3,
   "id": "b9727140-3a5d-49d0-b6ab-3f4ef21435b2",
   "metadata": {},
   "outputs": [],
   "source": [
    "#posteriors"
   ]
  },
  {
   "cell_type": "code",
   "execution_count": 4,
   "id": "f46140ec-87a1-4c80-9673-d4446914ba39",
   "metadata": {},
   "outputs": [],
   "source": [
    "#go to corner plot"
   ]
  },
  {
   "cell_type": "code",
   "execution_count": null,
   "id": "6cfbf503-a4fa-423f-bdef-99297538748e",
   "metadata": {},
   "outputs": [],
   "source": [
    "# do this per redshift bin"
   ]
  }
 ],
 "metadata": {
  "kernelspec": {
   "display_name": "NERSC Python",
   "language": "python",
   "name": "python3"
  },
  "language_info": {
   "codemirror_mode": {
    "name": "ipython",
    "version": 3
   },
   "file_extension": ".py",
   "mimetype": "text/x-python",
   "name": "python",
   "nbconvert_exporter": "python",
   "pygments_lexer": "ipython3",
   "version": "3.9.7"
  }
 },
 "nbformat": 4,
 "nbformat_minor": 5
}
